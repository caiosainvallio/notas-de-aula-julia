{
 "cells": [
  {
   "cell_type": "markdown",
   "metadata": {},
   "source": [
    "# Performance e Operações Paralelas"
   ]
  },
  {
   "cell_type": "code",
   "execution_count": 56,
   "metadata": {},
   "outputs": [],
   "source": [
    "using Pkg\n",
    "\n",
    "using BenchmarkTools\n",
    "using LoopVectorization\n",
    "using Plots\n",
    "using StaticArrays\n",
    "using ThreadsX\n",
    "\n",
    "using CUDA # há vá?!?!\n",
    "\n",
    "using Random: seed!, shuffle\n",
    "using Statistics: mean\n",
    "\n",
    "# Random Seed\n",
    "seed!(123)\n",
    "\n",
    "# Printar cores no terminal\n",
    "using ANSIColoredPrinters"
   ]
  },
  {
   "cell_type": "markdown",
   "metadata": {},
   "source": [
    "# Checklist basico para _performance_\n",
    "\n",
    "1. Arrumar instabilidade de tipo\n",
    "2. Usar variáveis locais ao invés de gloabais\n",
    "3. Deixar tudo imutável se possível\n",
    "4. Desativar checagem de índice em operações com `Array`\n",
    "5. Ativar suporte SIMD em todos os loops `for` (Single Instruction Multiple Data)"
   ]
  },
  {
   "cell_type": "markdown",
   "metadata": {},
   "source": [
    "# 1. Arrumar instabilidade de tipo\n",
    "\n",
    "> Tipo de saída de uma função é __imprevisível__ a partir dos tipos de entradas. Em particular, isso significa que o tipo de saída __pode variar__ dependendo dos valores das entradas."
   ]
  },
  {
   "cell_type": "code",
   "execution_count": 2,
   "metadata": {},
   "outputs": [
    {
     "data": {
      "text/plain": [
       "positivo (generic function with 1 method)"
      ]
     },
     "execution_count": 2,
     "metadata": {},
     "output_type": "execute_result"
    }
   ],
   "source": [
    "function positivo(x)\n",
    "    if x > 0\n",
    "        return x\n",
    "    else\n",
    "        return 0\n",
    "    end\n",
    "end"
   ]
  },
  {
   "cell_type": "markdown",
   "metadata": {},
   "source": [
    "> função com untabilidade de tipo >>> `x` é o que?\n",
    "\n",
    "`@code_warntype` avalia a função como um argumento e prenta um _Abstract Syntax Tree_ (AST)"
   ]
  },
  {
   "cell_type": "code",
   "execution_count": 3,
   "metadata": {},
   "outputs": [
    {
     "name": "stdout",
     "output_type": "stream",
     "text": [
      "Variables\n",
      "  #self#\u001b[36m::Core.Const(positivo)\u001b[39m\n",
      "  x\u001b[36m::Float64\u001b[39m\n",
      "\n",
      "Body\u001b[91m\u001b[1m::Union{Float64, Int64}\u001b[22m\u001b[39m\n",
      "\u001b[90m1 ─\u001b[39m %1 = (x > 0)\u001b[36m::Bool\u001b[39m\n",
      "\u001b[90m└──\u001b[39m      goto #3 if not %1\n",
      "\u001b[90m2 ─\u001b[39m      return x\n",
      "\u001b[90m3 ─\u001b[39m      return 0\n"
     ]
    }
   ],
   "source": [
    "@code_warntype positivo(-3.4)"
   ]
  },
  {
   "cell_type": "markdown",
   "metadata": {},
   "source": [
    "> onde ficou vermelho, tem algum problema de tipo"
   ]
  },
  {
   "cell_type": "markdown",
   "metadata": {},
   "source": [
    "### Arrumando a instabilidade de tipo\n",
    "\n",
    "Anotar os tipos!"
   ]
  },
  {
   "cell_type": "code",
   "execution_count": 4,
   "metadata": {},
   "outputs": [
    {
     "data": {
      "text/plain": [
       "positivo_stabel (generic function with 1 method)"
      ]
     },
     "execution_count": 4,
     "metadata": {},
     "output_type": "execute_result"
    }
   ],
   "source": [
    "function positivo_stabel(x::AbstractFloat)\n",
    "    if x > 0\n",
    "        return x \n",
    "    else\n",
    "        return 0.0\n",
    "    end\n",
    "end"
   ]
  },
  {
   "cell_type": "code",
   "execution_count": 5,
   "metadata": {},
   "outputs": [
    {
     "data": {
      "text/plain": [
       "positivo_stabel (generic function with 2 methods)"
      ]
     },
     "execution_count": 5,
     "metadata": {},
     "output_type": "execute_result"
    }
   ],
   "source": [
    "function positivo_stabel(x::Integer)\n",
    "    if x > 0\n",
    "        return x \n",
    "    else\n",
    "        return 0\n",
    "    end\n",
    "end"
   ]
  },
  {
   "cell_type": "code",
   "execution_count": 6,
   "metadata": {},
   "outputs": [
    {
     "name": "stdout",
     "output_type": "stream",
     "text": [
      "Variables\n",
      "  #self#\u001b[36m::Core.Const(positivo_stabel)\u001b[39m\n",
      "  x\u001b[36m::Float64\u001b[39m\n",
      "\n",
      "Body\u001b[36m::Float64\u001b[39m\n",
      "\u001b[90m1 ─\u001b[39m %1 = (x > 0)\u001b[36m::Bool\u001b[39m\n",
      "\u001b[90m└──\u001b[39m      goto #3 if not %1\n",
      "\u001b[90m2 ─\u001b[39m      return x\n",
      "\u001b[90m3 ─\u001b[39m      return 0.0\n"
     ]
    }
   ],
   "source": [
    "@code_warntype positivo_stabel(-3.4)"
   ]
  },
  {
   "cell_type": "code",
   "execution_count": 7,
   "metadata": {},
   "outputs": [
    {
     "name": "stdout",
     "output_type": "stream",
     "text": [
      "Variables\n",
      "  #self#\u001b[36m::Core.Const(positivo_stabel)\u001b[39m\n",
      "  x\u001b[36m::Int64\u001b[39m\n",
      "\n",
      "Body\u001b[36m::Int64\u001b[39m\n",
      "\u001b[90m1 ─\u001b[39m %1 = (x > 0)\u001b[36m::Bool\u001b[39m\n",
      "\u001b[90m└──\u001b[39m      goto #3 if not %1\n",
      "\u001b[90m2 ─\u001b[39m      return x\n",
      "\u001b[90m3 ─\u001b[39m      return 0\n"
     ]
    }
   ],
   "source": [
    "@code_warntype positivo_stabel(-3)"
   ]
  },
  {
   "cell_type": "markdown",
   "metadata": {},
   "source": [
    "### Pq é importante anotar os tipos?"
   ]
  },
  {
   "cell_type": "code",
   "execution_count": 8,
   "metadata": {},
   "outputs": [],
   "source": [
    "x = rand(1_000);"
   ]
  },
  {
   "cell_type": "code",
   "execution_count": 9,
   "metadata": {},
   "outputs": [
    {
     "data": {
      "text/plain": [
       "BenchmarkTools.Trial: 10000 samples with 10 evaluations.\n",
       " Range \u001b[90m(\u001b[39m\u001b[36m\u001b[1mmin\u001b[22m\u001b[39m … \u001b[35mmax\u001b[39m\u001b[90m):  \u001b[39m\u001b[36m\u001b[1m1.960 μs\u001b[22m\u001b[39m … \u001b[35m 1.343 ms\u001b[39m  \u001b[90m┊\u001b[39m GC \u001b[90m(\u001b[39mmin … max\u001b[90m): \u001b[39m 0.00% … 99.38%\n",
       " Time  \u001b[90m(\u001b[39m\u001b[34m\u001b[1mmedian\u001b[22m\u001b[39m\u001b[90m):     \u001b[39m\u001b[34m\u001b[1m3.830 μs              \u001b[22m\u001b[39m\u001b[90m┊\u001b[39m GC \u001b[90m(\u001b[39mmedian\u001b[90m):    \u001b[39m 0.00%\n",
       " Time  \u001b[90m(\u001b[39m\u001b[32m\u001b[1mmean\u001b[22m\u001b[39m ± \u001b[32mσ\u001b[39m\u001b[90m):   \u001b[39m\u001b[32m\u001b[1m7.102 μs\u001b[22m\u001b[39m ± \u001b[32m36.201 μs\u001b[39m  \u001b[90m┊\u001b[39m GC \u001b[90m(\u001b[39mmean ± σ\u001b[90m):  \u001b[39m18.09% ±  3.58%\n",
       "\n",
       "  \u001b[39m▅\u001b[39m▂\u001b[39m \u001b[39m \u001b[39m \u001b[39m \u001b[39m█\u001b[39m█\u001b[34m▅\u001b[39m\u001b[39m▃\u001b[39m▃\u001b[39m▂\u001b[39m▂\u001b[39m▁\u001b[39m▂\u001b[39m▃\u001b[39m▃\u001b[39m▂\u001b[39m▂\u001b[39m▁\u001b[39m \u001b[39m \u001b[32m \u001b[39m\u001b[39m \u001b[39m \u001b[39m \u001b[39m \u001b[39m \u001b[39m▄\u001b[39m▆\u001b[39m▅\u001b[39m▄\u001b[39m▃\u001b[39m▂\u001b[39m▂\u001b[39m▁\u001b[39m▁\u001b[39m \u001b[39m \u001b[39m \u001b[39m \u001b[39m \u001b[39m \u001b[39m \u001b[39m \u001b[39m \u001b[39m \u001b[39m \u001b[39m \u001b[39m \u001b[39m \u001b[39m \u001b[39m \u001b[39m \u001b[39m \u001b[39m \u001b[39m \u001b[39m \u001b[39m \u001b[39m▂\n",
       "  \u001b[39m█\u001b[39m█\u001b[39m▇\u001b[39m▇\u001b[39m▇\u001b[39m▇\u001b[39m█\u001b[39m█\u001b[34m█\u001b[39m\u001b[39m█\u001b[39m█\u001b[39m█\u001b[39m█\u001b[39m█\u001b[39m█\u001b[39m█\u001b[39m█\u001b[39m█\u001b[39m█\u001b[39m█\u001b[39m█\u001b[39m█\u001b[32m▇\u001b[39m\u001b[39m▆\u001b[39m▅\u001b[39m▆\u001b[39m▆\u001b[39m▇\u001b[39m█\u001b[39m█\u001b[39m█\u001b[39m█\u001b[39m█\u001b[39m█\u001b[39m█\u001b[39m█\u001b[39m█\u001b[39m▇\u001b[39m█\u001b[39m█\u001b[39m█\u001b[39m▆\u001b[39m▇\u001b[39m▇\u001b[39m▇\u001b[39m▇\u001b[39m█\u001b[39m█\u001b[39m█\u001b[39m█\u001b[39m█\u001b[39m█\u001b[39m█\u001b[39m▇\u001b[39m▇\u001b[39m▇\u001b[39m▆\u001b[39m▇\u001b[39m \u001b[39m█\n",
       "  1.96 μs\u001b[90m      \u001b[39m\u001b[90mHistogram: \u001b[39m\u001b[90m\u001b[1mlog(\u001b[22m\u001b[39m\u001b[90mfrequency\u001b[39m\u001b[90m\u001b[1m)\u001b[22m\u001b[39m\u001b[90m by time\u001b[39m     15.5 μs \u001b[0m\u001b[1m<\u001b[22m\n",
       "\n",
       " Memory estimate\u001b[90m: \u001b[39m\u001b[33m8.22 KiB\u001b[39m, allocs estimate\u001b[90m: \u001b[39m\u001b[33m7\u001b[39m."
      ]
     },
     "execution_count": 9,
     "metadata": {},
     "output_type": "execute_result"
    }
   ],
   "source": [
    "@benchmark positivo.($x)"
   ]
  },
  {
   "cell_type": "code",
   "execution_count": 10,
   "metadata": {},
   "outputs": [
    {
     "data": {
      "text/plain": [
       "BenchmarkTools.Trial: 10000 samples with 174 evaluations.\n",
       " Range \u001b[90m(\u001b[39m\u001b[36m\u001b[1mmin\u001b[22m\u001b[39m … \u001b[35mmax\u001b[39m\u001b[90m):  \u001b[39m\u001b[36m\u001b[1m801.149 ns\u001b[22m\u001b[39m … \u001b[35m84.583 μs\u001b[39m  \u001b[90m┊\u001b[39m GC \u001b[90m(\u001b[39mmin … max\u001b[90m): \u001b[39m 0.00% … 96.27%\n",
       " Time  \u001b[90m(\u001b[39m\u001b[34m\u001b[1mmedian\u001b[22m\u001b[39m\u001b[90m):     \u001b[39m\u001b[34m\u001b[1m  1.178 μs              \u001b[22m\u001b[39m\u001b[90m┊\u001b[39m GC \u001b[90m(\u001b[39mmedian\u001b[90m):    \u001b[39m 0.00%\n",
       " Time  \u001b[90m(\u001b[39m\u001b[32m\u001b[1mmean\u001b[22m\u001b[39m ± \u001b[32mσ\u001b[39m\u001b[90m):   \u001b[39m\u001b[32m\u001b[1m  2.050 μs\u001b[22m\u001b[39m ± \u001b[32m 3.333 μs\u001b[39m  \u001b[90m┊\u001b[39m GC \u001b[90m(\u001b[39mmean ± σ\u001b[90m):  \u001b[39m18.37% ± 12.55%\n",
       "\n",
       "  \u001b[39m▄\u001b[34m█\u001b[39m\u001b[39m▅\u001b[39m▃\u001b[39m▂\u001b[32m \u001b[39m\u001b[39m \u001b[39m \u001b[39m \u001b[39m \u001b[39m▃\u001b[39m▃\u001b[39m▂\u001b[39m▂\u001b[39m▁\u001b[39m▁\u001b[39m \u001b[39m \u001b[39m \u001b[39m \u001b[39m \u001b[39m \u001b[39m \u001b[39m \u001b[39m \u001b[39m \u001b[39m \u001b[39m \u001b[39m \u001b[39m \u001b[39m \u001b[39m \u001b[39m \u001b[39m \u001b[39m \u001b[39m \u001b[39m \u001b[39m \u001b[39m \u001b[39m \u001b[39m \u001b[39m \u001b[39m \u001b[39m \u001b[39m \u001b[39m \u001b[39m \u001b[39m \u001b[39m \u001b[39m \u001b[39m \u001b[39m \u001b[39m \u001b[39m \u001b[39m \u001b[39m \u001b[39m \u001b[39m \u001b[39m \u001b[39m \u001b[39m \u001b[39m▁\n",
       "  \u001b[39m█\u001b[34m█\u001b[39m\u001b[39m█\u001b[39m█\u001b[39m█\u001b[32m▇\u001b[39m\u001b[39m█\u001b[39m▇\u001b[39m█\u001b[39m▇\u001b[39m█\u001b[39m█\u001b[39m█\u001b[39m█\u001b[39m█\u001b[39m█\u001b[39m█\u001b[39m▇\u001b[39m▇\u001b[39m▆\u001b[39m▅\u001b[39m▅\u001b[39m▄\u001b[39m▄\u001b[39m▄\u001b[39m▃\u001b[39m▄\u001b[39m▁\u001b[39m▁\u001b[39m▄\u001b[39m▁\u001b[39m▃\u001b[39m▃\u001b[39m▅\u001b[39m▄\u001b[39m▁\u001b[39m▁\u001b[39m▁\u001b[39m▁\u001b[39m▁\u001b[39m▁\u001b[39m▁\u001b[39m▁\u001b[39m▁\u001b[39m▁\u001b[39m▃\u001b[39m▄\u001b[39m▅\u001b[39m▅\u001b[39m▅\u001b[39m▆\u001b[39m▆\u001b[39m▆\u001b[39m▆\u001b[39m▅\u001b[39m▇\u001b[39m▆\u001b[39m▆\u001b[39m▆\u001b[39m▆\u001b[39m \u001b[39m█\n",
       "  801 ns\u001b[90m        \u001b[39m\u001b[90mHistogram: \u001b[39m\u001b[90m\u001b[1mlog(\u001b[22m\u001b[39m\u001b[90mfrequency\u001b[39m\u001b[90m\u001b[1m)\u001b[22m\u001b[39m\u001b[90m by time\u001b[39m        17 μs \u001b[0m\u001b[1m<\u001b[22m\n",
       "\n",
       " Memory estimate\u001b[90m: \u001b[39m\u001b[33m7.94 KiB\u001b[39m, allocs estimate\u001b[90m: \u001b[39m\u001b[33m1\u001b[39m."
      ]
     },
     "execution_count": 10,
     "metadata": {},
     "output_type": "execute_result"
    }
   ],
   "source": [
    "@benchmark positivo_stabel.($x)"
   ]
  },
  {
   "cell_type": "markdown",
   "metadata": {},
   "source": [
    "### Dicas!\n",
    "\n",
    "Dar preferência para usar __tipos abstrtatos__ ao invés de tipos concretos.\n",
    "\n",
    "`AbstractFlosa` >>> `Float64` or `Float32`  \n",
    "`Integer` >>> `Int128` or `Int64` or `Int342`"
   ]
  },
  {
   "cell_type": "markdown",
   "metadata": {},
   "source": [
    "### Tipos paramétricos\n",
    "\n",
    "São introduzidos com as chaves `{}` e usando palavras-chave `where`"
   ]
  },
  {
   "cell_type": "code",
   "execution_count": 11,
   "metadata": {},
   "outputs": [
    {
     "data": {
      "text/plain": [
       "8-element Vector{Any}:\n",
       " AbstractFloat\n",
       " AbstractIrrational\n",
       " FixedPointNumbers.FixedPoint\n",
       " Integer\n",
       " Rational\n",
       " StatsBase.PValue\n",
       " StatsBase.TestStat\n",
       " VectorizationBase.AbstractSIMD"
      ]
     },
     "execution_count": 11,
     "metadata": {},
     "output_type": "execute_result"
    }
   ],
   "source": [
    "# por exemplo qualquer subtipo de `Real`\n",
    "subtypes(Real)"
   ]
  },
  {
   "cell_type": "code",
   "execution_count": 12,
   "metadata": {},
   "outputs": [
    {
     "data": {
      "text/plain": [
       "positivo_stable2 (generic function with 1 method)"
      ]
     },
     "execution_count": 12,
     "metadata": {},
     "output_type": "execute_result"
    }
   ],
   "source": [
    "function positivo_stable2(x::T) where T <: Real\n",
    "    if x > 0\n",
    "        return x\n",
    "    else\n",
    "        return 0::T\n",
    "    end\n",
    "end"
   ]
  },
  {
   "cell_type": "code",
   "execution_count": 13,
   "metadata": {},
   "outputs": [
    {
     "name": "stdout",
     "output_type": "stream",
     "text": [
      "Variables\n",
      "  #self#\u001b[36m::Core.Const(positivo_stable2)\u001b[39m\n",
      "  x\u001b[36m::Float64\u001b[39m\n",
      "\n",
      "Body\u001b[36m::Float64\u001b[39m\n",
      "\u001b[90m1 ─\u001b[39m %1 = (x > 0)\u001b[36m::Bool\u001b[39m\n",
      "\u001b[90m└──\u001b[39m      goto #3 if not %1\n",
      "\u001b[90m2 ─\u001b[39m      return x\n",
      "\u001b[90m3 ─\u001b[39m      Core.typeassert(0, $(Expr(:static_parameter, 1)))\n",
      "\u001b[90m└──\u001b[39m      Core.Const(:(return %4))\n"
     ]
    }
   ],
   "source": [
    "@code_warntype positivo_stable2(-3.4)"
   ]
  },
  {
   "cell_type": "code",
   "execution_count": 14,
   "metadata": {},
   "outputs": [
    {
     "name": "stdout",
     "output_type": "stream",
     "text": [
      "Variables\n",
      "  #self#\u001b[36m::Core.Const(positivo_stable2)\u001b[39m\n",
      "  x\u001b[36m::Int64\u001b[39m\n",
      "\n",
      "Body\u001b[36m::Int64\u001b[39m\n",
      "\u001b[90m1 ─\u001b[39m %1 = (x > 0)\u001b[36m::Bool\u001b[39m\n",
      "\u001b[90m└──\u001b[39m      goto #3 if not %1\n",
      "\u001b[90m2 ─\u001b[39m      return x\n",
      "\u001b[90m3 ─\u001b[39m %4 = Core.typeassert(0, $(Expr(:static_parameter, 1)))\u001b[36m::Core.Const(0)\u001b[39m\n",
      "\u001b[90m└──\u001b[39m      return %4\n"
     ]
    }
   ],
   "source": [
    "@code_warntype positivo_stable2(-3)"
   ]
  },
  {
   "cell_type": "markdown",
   "metadata": {},
   "source": [
    "### Funciona tambem com `Array`s\n",
    "\n",
    "* `AbstractArray{T, N}` \n",
    "* `AbstractMatrix{T}` atalho para `AbstractArray{T, 2}` \n",
    "* `AbstractVector{T}` atalho para `AbstractArray{T, 1}` "
   ]
  },
  {
   "cell_type": "code",
   "execution_count": 15,
   "metadata": {},
   "outputs": [
    {
     "data": {
      "text/plain": [
       "meus_zeros (generic function with 1 method)"
      ]
     },
     "execution_count": 15,
     "metadata": {},
     "output_type": "execute_result"
    }
   ],
   "source": [
    "# específico para vector\n",
    "function meus_zeros(X::AbstractVector{T}) where T <: Real\n",
    "    return zeros(eltype(x), size(x))    \n",
    "end"
   ]
  },
  {
   "cell_type": "code",
   "execution_count": 16,
   "metadata": {},
   "outputs": [
    {
     "data": {
      "text/plain": [
       "meus_zeros (generic function with 2 methods)"
      ]
     },
     "execution_count": 16,
     "metadata": {},
     "output_type": "execute_result"
    }
   ],
   "source": [
    "# Generalizado para qualquer dimenmção de Array\n",
    "function meus_zeros(X::AbstractArray{T, N}) where T <: Real where N <: Integer\n",
    "    return zeros(eltype(x), size(x))    \n",
    "end"
   ]
  },
  {
   "cell_type": "code",
   "execution_count": 17,
   "metadata": {},
   "outputs": [
    {
     "name": "stdout",
     "output_type": "stream",
     "text": [
      "Variables\n",
      "  #self#\u001b[36m::Core.Const(meus_zeros)\u001b[39m\n",
      "  X\u001b[36m::Vector{Int64}\u001b[39m\n",
      "\n",
      "Body\u001b[91m\u001b[1m::Any\u001b[22m\u001b[39m\n",
      "\u001b[90m1 ─\u001b[39m %1 = Main.eltype(Main.x)\u001b[91m\u001b[1m::Any\u001b[22m\u001b[39m\n",
      "\u001b[90m│  \u001b[39m %2 = Main.size(Main.x)\u001b[91m\u001b[1m::Any\u001b[22m\u001b[39m\n",
      "\u001b[90m│  \u001b[39m %3 = Main.zeros(%1, %2)\u001b[91m\u001b[1m::Any\u001b[22m\u001b[39m\n",
      "\u001b[90m└──\u001b[39m      return %3\n"
     ]
    }
   ],
   "source": [
    "@code_warntype meus_zeros([1, 0, 3])"
   ]
  },
  {
   "cell_type": "markdown",
   "metadata": {},
   "source": [
    "# 2. Usar variáveis locais ao invés de gloabais\n",
    "\n",
    "Com variáveis globais o compilador LLVM tem dificuldades em otimizar o código Assembly"
   ]
  },
  {
   "cell_type": "code",
   "execution_count": 18,
   "metadata": {},
   "outputs": [],
   "source": [
    "# var global \n",
    "x = rand(1_000);"
   ]
  },
  {
   "cell_type": "code",
   "execution_count": 19,
   "metadata": {},
   "outputs": [
    {
     "data": {
      "text/plain": [
       "sum_global (generic function with 1 method)"
      ]
     },
     "execution_count": 19,
     "metadata": {},
     "output_type": "execute_result"
    }
   ],
   "source": [
    "function sum_global()\n",
    "    s = 0.0\n",
    "    for i ∈ x \n",
    "        s += i\n",
    "    end\n",
    "    return s\n",
    "end"
   ]
  },
  {
   "cell_type": "code",
   "execution_count": 20,
   "metadata": {},
   "outputs": [
    {
     "data": {
      "text/plain": [
       "BenchmarkTools.Trial: 10000 samples with 1 evaluation.\n",
       " Range \u001b[90m(\u001b[39m\u001b[36m\u001b[1mmin\u001b[22m\u001b[39m … \u001b[35mmax\u001b[39m\u001b[90m):  \u001b[39m\u001b[36m\u001b[1m 78.700 μs\u001b[22m\u001b[39m … \u001b[35m  8.218 ms\u001b[39m  \u001b[90m┊\u001b[39m GC \u001b[90m(\u001b[39mmin … max\u001b[90m): \u001b[39m0.00% … 98.30%\n",
       " Time  \u001b[90m(\u001b[39m\u001b[34m\u001b[1mmedian\u001b[22m\u001b[39m\u001b[90m):     \u001b[39m\u001b[34m\u001b[1m 80.200 μs               \u001b[22m\u001b[39m\u001b[90m┊\u001b[39m GC \u001b[90m(\u001b[39mmedian\u001b[90m):    \u001b[39m0.00%\n",
       " Time  \u001b[90m(\u001b[39m\u001b[32m\u001b[1mmean\u001b[22m\u001b[39m ± \u001b[32mσ\u001b[39m\u001b[90m):   \u001b[39m\u001b[32m\u001b[1m107.664 μs\u001b[22m\u001b[39m ± \u001b[32m204.285 μs\u001b[39m  \u001b[90m┊\u001b[39m GC \u001b[90m(\u001b[39mmean ± σ\u001b[90m):  \u001b[39m5.60% ±  3.24%\n",
       "\n",
       "  \u001b[34m█\u001b[39m\u001b[39m▄\u001b[39m▂\u001b[39m▁\u001b[39m▂\u001b[39m▂\u001b[39m \u001b[32m \u001b[39m\u001b[39m▂\u001b[39m \u001b[39m \u001b[39m \u001b[39m \u001b[39m \u001b[39m \u001b[39m \u001b[39m \u001b[39m▃\u001b[39m▂\u001b[39m▁\u001b[39m \u001b[39m \u001b[39m \u001b[39m \u001b[39m \u001b[39m \u001b[39m \u001b[39m \u001b[39m \u001b[39m \u001b[39m \u001b[39m \u001b[39m \u001b[39m \u001b[39m \u001b[39m \u001b[39m \u001b[39m \u001b[39m \u001b[39m \u001b[39m \u001b[39m \u001b[39m \u001b[39m \u001b[39m \u001b[39m \u001b[39m \u001b[39m \u001b[39m \u001b[39m \u001b[39m \u001b[39m \u001b[39m \u001b[39m \u001b[39m \u001b[39m \u001b[39m \u001b[39m \u001b[39m \u001b[39m \u001b[39m \u001b[39m \u001b[39m▁\n",
       "  \u001b[34m█\u001b[39m\u001b[39m█\u001b[39m█\u001b[39m█\u001b[39m█\u001b[39m█\u001b[39m█\u001b[32m█\u001b[39m\u001b[39m█\u001b[39m█\u001b[39m▇\u001b[39m▆\u001b[39m▇\u001b[39m▇\u001b[39m█\u001b[39m▇\u001b[39m█\u001b[39m█\u001b[39m█\u001b[39m█\u001b[39m█\u001b[39m█\u001b[39m█\u001b[39m█\u001b[39m█\u001b[39m█\u001b[39m█\u001b[39m▇\u001b[39m▆\u001b[39m▆\u001b[39m▆\u001b[39m▆\u001b[39m▆\u001b[39m▇\u001b[39m▆\u001b[39m▅\u001b[39m▆\u001b[39m▅\u001b[39m▅\u001b[39m▅\u001b[39m▅\u001b[39m▄\u001b[39m▄\u001b[39m▅\u001b[39m▅\u001b[39m▄\u001b[39m▃\u001b[39m▅\u001b[39m▃\u001b[39m▄\u001b[39m▅\u001b[39m▃\u001b[39m▃\u001b[39m▅\u001b[39m▄\u001b[39m▃\u001b[39m▄\u001b[39m▄\u001b[39m▃\u001b[39m▅\u001b[39m▄\u001b[39m \u001b[39m█\n",
       "  78.7 μs\u001b[90m       \u001b[39m\u001b[90mHistogram: \u001b[39m\u001b[90m\u001b[1mlog(\u001b[22m\u001b[39m\u001b[90mfrequency\u001b[39m\u001b[90m\u001b[1m)\u001b[22m\u001b[39m\u001b[90m by time\u001b[39m        314 μs \u001b[0m\u001b[1m<\u001b[22m\n",
       "\n",
       " Memory estimate\u001b[90m: \u001b[39m\u001b[33m70.16 KiB\u001b[39m, allocs estimate\u001b[90m: \u001b[39m\u001b[33m3490\u001b[39m."
      ]
     },
     "execution_count": 20,
     "metadata": {},
     "output_type": "execute_result"
    }
   ],
   "source": [
    "@benchmark sum_global()"
   ]
  },
  {
   "cell_type": "code",
   "execution_count": 21,
   "metadata": {},
   "outputs": [
    {
     "data": {
      "text/plain": [
       "sum_arg (generic function with 1 method)"
      ]
     },
     "execution_count": 21,
     "metadata": {},
     "output_type": "execute_result"
    }
   ],
   "source": [
    "function sum_arg(x)\n",
    "    s = 0.0\n",
    "    for i ∈ x \n",
    "        s += i\n",
    "    end\n",
    "    return s\n",
    "end"
   ]
  },
  {
   "cell_type": "code",
   "execution_count": 22,
   "metadata": {},
   "outputs": [
    {
     "data": {
      "text/plain": [
       "BenchmarkTools.Trial: 10000 samples with 10 evaluations.\n",
       " Range \u001b[90m(\u001b[39m\u001b[36m\u001b[1mmin\u001b[22m\u001b[39m … \u001b[35mmax\u001b[39m\u001b[90m):  \u001b[39m\u001b[36m\u001b[1m1.100 μs\u001b[22m\u001b[39m … \u001b[35m 4.370 μs\u001b[39m  \u001b[90m┊\u001b[39m GC \u001b[90m(\u001b[39mmin … max\u001b[90m): \u001b[39m0.00% … 0.00%\n",
       " Time  \u001b[90m(\u001b[39m\u001b[34m\u001b[1mmedian\u001b[22m\u001b[39m\u001b[90m):     \u001b[39m\u001b[34m\u001b[1m1.110 μs              \u001b[22m\u001b[39m\u001b[90m┊\u001b[39m GC \u001b[90m(\u001b[39mmedian\u001b[90m):    \u001b[39m0.00%\n",
       " Time  \u001b[90m(\u001b[39m\u001b[32m\u001b[1mmean\u001b[22m\u001b[39m ± \u001b[32mσ\u001b[39m\u001b[90m):   \u001b[39m\u001b[32m\u001b[1m1.116 μs\u001b[22m\u001b[39m ± \u001b[32m74.873 ns\u001b[39m  \u001b[90m┊\u001b[39m GC \u001b[90m(\u001b[39mmean ± σ\u001b[90m):  \u001b[39m0.00% ± 0.00%\n",
       "\n",
       "  \u001b[39m▄\u001b[39m \u001b[39m \u001b[34m█\u001b[39m\u001b[39m \u001b[32m \u001b[39m\u001b[39m▄\u001b[39m \u001b[39m \u001b[39m \u001b[39m \u001b[39m \u001b[39m \u001b[39m \u001b[39m \u001b[39m \u001b[39m \u001b[39m \u001b[39m \u001b[39m \u001b[39m \u001b[39m \u001b[39m \u001b[39m \u001b[39m \u001b[39m \u001b[39m \u001b[39m \u001b[39m \u001b[39m \u001b[39m \u001b[39m \u001b[39m \u001b[39m \u001b[39m \u001b[39m \u001b[39m \u001b[39m \u001b[39m \u001b[39m \u001b[39m \u001b[39m \u001b[39m \u001b[39m \u001b[39m \u001b[39m \u001b[39m \u001b[39m \u001b[39m \u001b[39m \u001b[39m \u001b[39m \u001b[39m \u001b[39m \u001b[39m \u001b[39m \u001b[39m \u001b[39m \u001b[39m \u001b[39m▁\n",
       "  \u001b[39m█\u001b[39m▁\u001b[39m▁\u001b[34m█\u001b[39m\u001b[39m▁\u001b[32m▁\u001b[39m\u001b[39m█\u001b[39m▁\u001b[39m▁\u001b[39m▇\u001b[39m▁\u001b[39m▁\u001b[39m▇\u001b[39m▁\u001b[39m▁\u001b[39m█\u001b[39m▁\u001b[39m▁\u001b[39m▇\u001b[39m▁\u001b[39m▁\u001b[39m▅\u001b[39m▁\u001b[39m▁\u001b[39m▄\u001b[39m▁\u001b[39m▁\u001b[39m▅\u001b[39m▁\u001b[39m▁\u001b[39m▁\u001b[39m▁\u001b[39m▁\u001b[39m▃\u001b[39m▁\u001b[39m▁\u001b[39m▁\u001b[39m▁\u001b[39m▁\u001b[39m▁\u001b[39m▁\u001b[39m▁\u001b[39m▁\u001b[39m▁\u001b[39m▁\u001b[39m▁\u001b[39m▁\u001b[39m▁\u001b[39m▁\u001b[39m▁\u001b[39m▁\u001b[39m▁\u001b[39m▁\u001b[39m▁\u001b[39m▄\u001b[39m▁\u001b[39m▁\u001b[39m█\u001b[39m \u001b[39m█\n",
       "  1.1 μs\u001b[90m       \u001b[39m\u001b[90mHistogram: \u001b[39m\u001b[90m\u001b[1mlog(\u001b[22m\u001b[39m\u001b[90mfrequency\u001b[39m\u001b[90m\u001b[1m)\u001b[22m\u001b[39m\u001b[90m by time\u001b[39m     1.29 μs \u001b[0m\u001b[1m<\u001b[22m\n",
       "\n",
       " Memory estimate\u001b[90m: \u001b[39m\u001b[33m0 bytes\u001b[39m, allocs estimate\u001b[90m: \u001b[39m\u001b[33m0\u001b[39m."
      ]
     },
     "execution_count": 22,
     "metadata": {},
     "output_type": "execute_result"
    }
   ],
   "source": [
    "@benchmark sum_arg($x)"
   ]
  },
  {
   "cell_type": "code",
   "execution_count": 23,
   "metadata": {},
   "outputs": [
    {
     "name": "stdout",
     "output_type": "stream",
     "text": [
      "Variables\n",
      "  #self#\u001b[36m::Core.Const(sum_global)\u001b[39m\n",
      "  @_2\u001b[91m\u001b[1m::Any\u001b[22m\u001b[39m\n",
      "  s\u001b[91m\u001b[1m::Any\u001b[22m\u001b[39m\n",
      "  i\u001b[91m\u001b[1m::Any\u001b[22m\u001b[39m\n",
      "\n",
      "Body\u001b[91m\u001b[1m::Any\u001b[22m\u001b[39m\n",
      "\u001b[90m1 ─\u001b[39m       (s = 0.0)\n",
      "\u001b[90m│  \u001b[39m %2  = Main.x\u001b[91m\u001b[1m::Any\u001b[22m\u001b[39m\n",
      "\u001b[90m│  \u001b[39m       (@_2 = Base.iterate(%2))\n",
      "\u001b[90m│  \u001b[39m %4  = (@_2 === nothing)\u001b[36m::Bool\u001b[39m\n",
      "\u001b[90m│  \u001b[39m %5  = Base.not_int(%4)\u001b[36m::Bool\u001b[39m\n",
      "\u001b[90m└──\u001b[39m       goto #4 if not %5\n",
      "\u001b[90m2 ┄\u001b[39m %7  = @_2\u001b[91m\u001b[1m::Any\u001b[22m\u001b[39m\n",
      "\u001b[90m│  \u001b[39m       (i = Core.getfield(%7, 1))\n",
      "\u001b[90m│  \u001b[39m %9  = Core.getfield(%7, 2)\u001b[91m\u001b[1m::Any\u001b[22m\u001b[39m\n",
      "\u001b[90m│  \u001b[39m       (s = s + i)\n",
      "\u001b[90m│  \u001b[39m       (@_2 = Base.iterate(%2, %9))\n",
      "\u001b[90m│  \u001b[39m %12 = (@_2 === nothing)\u001b[36m::Bool\u001b[39m\n",
      "\u001b[90m│  \u001b[39m %13 = Base.not_int(%12)\u001b[36m::Bool\u001b[39m\n",
      "\u001b[90m└──\u001b[39m       goto #4 if not %13\n",
      "\u001b[90m3 ─\u001b[39m       goto #2\n",
      "\u001b[90m4 ┄\u001b[39m       return s\n"
     ]
    }
   ],
   "source": [
    "@code_warntype sum_global()"
   ]
  },
  {
   "cell_type": "code",
   "execution_count": 24,
   "metadata": {},
   "outputs": [
    {
     "name": "stdout",
     "output_type": "stream",
     "text": [
      "Variables\n",
      "  #self#\u001b[36m::Core.Const(sum_arg)\u001b[39m\n",
      "  x\u001b[36m::Vector{Float64}\u001b[39m\n",
      "  @_3\u001b[33m\u001b[1m::Union{Nothing, Tuple{Float64, Int64}}\u001b[22m\u001b[39m\n",
      "  s\u001b[36m::Float64\u001b[39m\n",
      "  i\u001b[36m::Float64\u001b[39m\n",
      "\n",
      "Body\u001b[36m::Float64\u001b[39m\n",
      "\u001b[90m1 ─\u001b[39m       (s = 0.0)\n",
      "\u001b[90m│  \u001b[39m %2  = x\u001b[36m::Vector{Float64}\u001b[39m\n",
      "\u001b[90m│  \u001b[39m       (@_3 = Base.iterate(%2))\n",
      "\u001b[90m│  \u001b[39m %4  = (@_3 === nothing)\u001b[36m::Bool\u001b[39m\n",
      "\u001b[90m│  \u001b[39m %5  = Base.not_int(%4)\u001b[36m::Bool\u001b[39m\n",
      "\u001b[90m└──\u001b[39m       goto #4 if not %5\n",
      "\u001b[90m2 ┄\u001b[39m %7  = @_3::Tuple{Float64, Int64}\u001b[36m::Tuple{Float64, Int64}\u001b[39m\n",
      "\u001b[90m│  \u001b[39m       (i = Core.getfield(%7, 1))\n",
      "\u001b[90m│  \u001b[39m %9  = Core.getfield(%7, 2)\u001b[36m::Int64\u001b[39m\n",
      "\u001b[90m│  \u001b[39m       (s = s + i)\n",
      "\u001b[90m│  \u001b[39m       (@_3 = Base.iterate(%2, %9))\n",
      "\u001b[90m│  \u001b[39m %12 = (@_3 === nothing)\u001b[36m::Bool\u001b[39m\n",
      "\u001b[90m│  \u001b[39m %13 = Base.not_int(%12)\u001b[36m::Bool\u001b[39m\n",
      "\u001b[90m└──\u001b[39m       goto #4 if not %13\n",
      "\u001b[90m3 ─\u001b[39m       goto #2\n",
      "\u001b[90m4 ┄\u001b[39m       return s\n"
     ]
    }
   ],
   "source": [
    "@code_warntype sum_arg(x)"
   ]
  },
  {
   "cell_type": "markdown",
   "metadata": {},
   "source": [
    "## Se tiver de usar variáveis globeis, use `const`"
   ]
  },
  {
   "cell_type": "code",
   "execution_count": 25,
   "metadata": {},
   "outputs": [],
   "source": [
    "# var global constante\n",
    "const const_x = rand(1_000);"
   ]
  },
  {
   "cell_type": "code",
   "execution_count": 26,
   "metadata": {},
   "outputs": [
    {
     "data": {
      "text/plain": [
       "sum_const_global (generic function with 1 method)"
      ]
     },
     "execution_count": 26,
     "metadata": {},
     "output_type": "execute_result"
    }
   ],
   "source": [
    "function sum_const_global()\n",
    "    s = 0.0\n",
    "    for i ∈ const_x \n",
    "        s += i\n",
    "    end\n",
    "    return s\n",
    "end"
   ]
  },
  {
   "cell_type": "code",
   "execution_count": 27,
   "metadata": {},
   "outputs": [
    {
     "data": {
      "text/plain": [
       "BenchmarkTools.Trial: 10000 samples with 10 evaluations.\n",
       " Range \u001b[90m(\u001b[39m\u001b[36m\u001b[1mmin\u001b[22m\u001b[39m … \u001b[35mmax\u001b[39m\u001b[90m):  \u001b[39m\u001b[36m\u001b[1m1.100 μs\u001b[22m\u001b[39m … \u001b[35m 61.090 μs\u001b[39m  \u001b[90m┊\u001b[39m GC \u001b[90m(\u001b[39mmin … max\u001b[90m): \u001b[39m0.00% … 0.00%\n",
       " Time  \u001b[90m(\u001b[39m\u001b[34m\u001b[1mmedian\u001b[22m\u001b[39m\u001b[90m):     \u001b[39m\u001b[34m\u001b[1m1.110 μs               \u001b[22m\u001b[39m\u001b[90m┊\u001b[39m GC \u001b[90m(\u001b[39mmedian\u001b[90m):    \u001b[39m0.00%\n",
       " Time  \u001b[90m(\u001b[39m\u001b[32m\u001b[1mmean\u001b[22m\u001b[39m ± \u001b[32mσ\u001b[39m\u001b[90m):   \u001b[39m\u001b[32m\u001b[1m1.154 μs\u001b[22m\u001b[39m ± \u001b[32m715.223 ns\u001b[39m  \u001b[90m┊\u001b[39m GC \u001b[90m(\u001b[39mmean ± σ\u001b[90m):  \u001b[39m0.00% ± 0.00%\n",
       "\n",
       "  \u001b[39m \u001b[34m█\u001b[39m\u001b[39m \u001b[39m \u001b[39m \u001b[39m \u001b[39m \u001b[39m \u001b[32m \u001b[39m\u001b[39m \u001b[39m \u001b[39m \u001b[39m \u001b[39m \u001b[39m \u001b[39m \u001b[39m \u001b[39m \u001b[39m \u001b[39m \u001b[39m \u001b[39m \u001b[39m \u001b[39m \u001b[39m \u001b[39m \u001b[39m \u001b[39m \u001b[39m \u001b[39m \u001b[39m \u001b[39m \u001b[39m \u001b[39m \u001b[39m \u001b[39m \u001b[39m \u001b[39m \u001b[39m \u001b[39m \u001b[39m \u001b[39m \u001b[39m \u001b[39m \u001b[39m \u001b[39m \u001b[39m \u001b[39m \u001b[39m \u001b[39m \u001b[39m \u001b[39m \u001b[39m \u001b[39m \u001b[39m \u001b[39m \u001b[39m \u001b[39m \u001b[39m \u001b[39m \u001b[39m \n",
       "  \u001b[39m▃\u001b[34m█\u001b[39m\u001b[39m▅\u001b[39m▁\u001b[39m▂\u001b[39m▄\u001b[39m▁\u001b[39m▄\u001b[32m▃\u001b[39m\u001b[39m▁\u001b[39m▂\u001b[39m▂\u001b[39m▂\u001b[39m▁\u001b[39m▂\u001b[39m▂\u001b[39m▁\u001b[39m▂\u001b[39m▂\u001b[39m▁\u001b[39m▂\u001b[39m▂\u001b[39m▁\u001b[39m▂\u001b[39m▂\u001b[39m▂\u001b[39m▁\u001b[39m▂\u001b[39m▂\u001b[39m▁\u001b[39m▂\u001b[39m▂\u001b[39m▁\u001b[39m▂\u001b[39m▂\u001b[39m▂\u001b[39m▁\u001b[39m▂\u001b[39m▂\u001b[39m▁\u001b[39m▂\u001b[39m▂\u001b[39m▁\u001b[39m▂\u001b[39m▂\u001b[39m▁\u001b[39m▂\u001b[39m▂\u001b[39m▂\u001b[39m▁\u001b[39m▂\u001b[39m▂\u001b[39m▁\u001b[39m▂\u001b[39m▂\u001b[39m▁\u001b[39m▂\u001b[39m▂\u001b[39m▂\u001b[39m \u001b[39m▂\n",
       "  1.1 μs\u001b[90m          Histogram: frequency by time\u001b[39m        1.51 μs \u001b[0m\u001b[1m<\u001b[22m\n",
       "\n",
       " Memory estimate\u001b[90m: \u001b[39m\u001b[33m0 bytes\u001b[39m, allocs estimate\u001b[90m: \u001b[39m\u001b[33m0\u001b[39m."
      ]
     },
     "execution_count": 27,
     "metadata": {},
     "output_type": "execute_result"
    }
   ],
   "source": [
    "@benchmark sum_const_global()"
   ]
  },
  {
   "cell_type": "code",
   "execution_count": 28,
   "metadata": {},
   "outputs": [
    {
     "name": "stdout",
     "output_type": "stream",
     "text": [
      "Variables\n",
      "  #self#\u001b[36m::Core.Const(sum_const_global)\u001b[39m\n",
      "  @_2\u001b[33m\u001b[1m::Union{Nothing, Tuple{Float64, Int64}}\u001b[22m\u001b[39m\n",
      "  s\u001b[36m::Float64\u001b[39m\n",
      "  i\u001b[36m::Float64\u001b[39m\n",
      "\n",
      "Body\u001b[36m::Float64\u001b[39m\n",
      "\u001b[90m1 ─\u001b[39m       (s = 0.0)\n",
      "\u001b[90m│  \u001b[39m %2  = Main.const_x\u001b[36m::Core.Const([0.4125969203275026, 0.5551098615656092, 0.240819002168303, 0.3965751905591446, 0.8785777477484837, 0.8559115150020329, 0.5722891892469402, 0.955608370221668, 0.5821652710126011, 0.30942078587307686, 0.3247860797558668, 0.24900774646163404, 0.265146177131381, 0.048977939909959245, 0.4467992969582193, 0.08283564682071676, 0.04944164473060653, 0.07956302223576484, 0.20789828761025375, 0.1294812292053089, 0.716321412986181, 0.8443808914960056, 0.9514839964844957, 0.8423388789716104, 0.49510437280583464, 0.5253371662810817, 0.27701498572864747, 0.37308104673931464, 0.1727720764019487, 0.2939256224532212, 0.004889915718355287, 0.7410506462885127, 0.12499304478405016, 0.495218792191364, 0.5677843328878067, 0.6318138413671415, 0.500002367442302, 0.7028780975628444, 0.5266319317099937, 0.865391429380922, 0.5745775639281681, 0.6561790848308615, 0.3403803700807779, 0.4850598733501694, 0.1969491755718349, 0.44438403820470573, 0.06294249067335822, 0.18467205498803585, 0.13367295295722026, 0.654612605582557, 0.6828765061199873, 0.10781048182000408, 0.40687616533839854, 0.04914658953631568, 0.5776084967459258, 0.3953617786742045, 0.8854075687830825, 0.010555634128852853, 0.35422411350550886, 0.9723148368835393, 0.7699294172411428, 0.5760889472620792, 0.119717248095083, 0.9266981957279454, 0.32604054268912974, 0.1317919282810831, 0.6484378263145485, 0.5024356723716492, 0.09137858687760847, 0.7632101667869153, 0.2176901524091226, 0.3611496602447768, 0.8275052470458109, 0.4816541526470146, 0.23567541561557448, 0.5874297186856829, 0.35261800878881333, 0.036791462756531335, 0.8811005295614052, 0.9598142874001654, 0.24914054911169647, 0.20852044767746514, 0.24297153531341142, 0.11957008374729394, 0.694522664680717, 0.7701522275260384, 0.015550493830927214, 0.9789718364412474, 0.2296153603336748, 0.5258057225268544, 0.18661744881923137, 0.08921128488089392, 0.7518127034799138, 0.8316062426596871, 0.8477811906412238, 0.9854505243229945, 0.7974820042570376, 0.27152508575905765, 0.6271809898221306, 0.3963238214268223, 0.37923715041084716, 0.6580236738575977, 0.6527828584905977, 0.1387261429710389, 0.8911705313267271, 0.6606044098003379, 0.9641700804147069, 0.8512828365314464, 0.05986682033644386, 0.007142759030693169, 0.9615414708805481, 0.524081682235183, 0.955653846712883, 0.5170559491670355, 0.540116437143743, 0.8522416661978969, 0.9459863218580435, 0.5194059464838927, 0.7207728564564153, 0.11276463562508732, 0.9008411603226398, 0.9872413767907167, 0.040325317166433505, 0.13278414821195472, 0.6465446055982371, 0.3430600727537516, 0.39133386377371826, 0.42214738697789067, 0.8118447721626028, 0.1965781529862196, 0.001753619438875642, 0.39755059796155146, 0.3962415878336394, 0.796759842031115, 0.3556578392107108, 0.9482550533222056, 0.9858111080235223, 0.14888560669234963, 0.847383315284473, 0.08370010282092277, 0.47734341734313523, 0.8293890729474283, 0.8449033925219027, 0.38386733701229314, 0.22807230348830854, 0.8754065732867178, 0.43572135924306, 0.3105612712947332, 0.26958811381541636, 0.932312599863869, 0.34292055984308023, 0.41196252099513875, 0.4342180552381425, 0.6303712139792372, 0.4082704937392425, 0.23801614941107374, 0.6691007567182936, 0.6873725468695284, 0.9579176117838502, 0.5900246582099316, 0.2030338353496033, 0.34554629985340046, 0.7721235141298097, 0.8031337654578787, 0.4403413216752301, 0.5751457934847772, 0.07850447505678648, 0.5518095418318867, 0.6272042519312417, 0.5796189191902408, 0.08142397202751539, 0.08466720387979887, 0.35711335025596, 0.6435129963548432, 0.23188872187406395, 0.744679603702256, 0.5757066955625654, 0.5326622551088014, 0.7978660773050728, 0.5295944237304175, 0.8624252800655585, 0.6897642069217231, 0.9873790364515391, 0.9780460108867217, 0.8536002711579236, 0.8612022650349787, 0.05231948473308767, 0.02385932173295857, 0.12916155637732651, 0.699978922703062, 0.8290287952932358, 0.5346204440981084, 0.3344209514057914, 0.09721991364361293, 0.15215695493416836, 0.7018873213211625, 0.5568633955793609, 0.3610537187682481, 0.17078816441188072, 0.35821599503306656, 0.2728558422796723, 0.26447145419429097, 0.9609974169597622, 0.9818448277501237, 0.777208239572426, 0.9437113921626268, 0.8639441989469077, 0.03601047455222206, 0.6269478198366369, 0.23524406505695894, 0.026623884918382412, 0.6988200651402672, 0.8882682288621138, 0.705970067801303, 0.2243817173952991, 0.5544194238282232, 0.06223145479756198, 0.8298678756829878, 0.053776281940771886, 0.48335955669414465, 0.5771204341244167, 0.6857705659301645, 0.8646527979496936, 0.059478106440023604, 0.5463237276930377, 0.4649315130544527, 0.5373910502700983, 0.05311110448722256, 0.7877170126216249, 0.3080782670605553, 0.37369447824358115, 0.48554198007075544, 0.947233806494403, 0.4272430117149686, 0.763482788694448, 0.5270016643471727, 0.4657809792502343, 0.7835583660155498, 0.2648493395909477, 0.33670044914565955, 0.4405323729030197, 0.9276649701529709, 0.8543218930778289, 0.4491557316094905, 0.025890771603947593, 0.07933727398537127, 0.1860243067795695, 0.04269425627164214, 0.7573188462423877, 0.08419337024669704, 0.858199108658178, 0.9031993105933391, 0.43103767214468935, 0.2542392206016246, 0.15436249743417707, 0.5203899070967895, 0.9570192734829059, 0.7817695126374422, 0.62866766418723, 0.6070764676649774, 0.6563500848637349, 0.08553913437994964, 0.801121646904235, 0.5015585566711731, 0.588321923439205, 0.49904588637344127, 0.12190994939200395, 0.7499045274574632, 0.2817413932028838, 0.34563650094271736, 0.14362016441791403, 0.33247300622042264, 0.7766534093390889, 0.43528958840801724, 0.8562616131595269, 0.9142241828294184, 0.7886881980663336, 0.9683027865494835, 0.5132089045732977, 0.2793267900660026, 0.5907641233969445, 0.7641859353379776, 0.7762785067497264, 0.8376231171859654, 0.9523950815476159, 0.661462847422233, 0.5559623478199884, 0.023085456370586455, 0.26711518596645756, 0.5462730876622373, 0.22714559595150075, 0.876968311199184, 0.9186469169189038, 0.6400599813694927, 0.3804747135380604, 0.14604416527116704, 0.9759579239606053, 0.0473438777392563, 0.5777045624741253, 0.652543290662355, 0.7851922989973621, 0.871853988709776, 0.19802022114656004, 0.3105623473168275, 0.03511634877967662, 0.09907744193149148, 0.07252061443094138, 0.5506682063560808, 0.5516804901528134, 0.8298241743233141, 0.5551264743519482, 0.32070704528470606, 0.596798482660787, 0.11404824205614283, 0.6814232706230474, 0.33217743923394805, 0.8265419302153894, 0.3788462104099408, 0.17674315489465298, 0.2485243524364642, 0.3949628577789346, 0.0548003161597963, 0.31525544146300666, 0.5529995354705539, 0.894047766695715, 0.6252813277293141, 0.3392895474058282, 0.011962271971205363, 0.6079916818212479, 0.6513727074657716, 0.011915173813427105, 0.5323922995232637, 0.6156032936819482, 0.21253378906145026, 0.6778284650126287, 0.9509467001177563, 0.48861156878454026, 0.9440850348805969, 0.6989190783782993, 0.5035286477039909, 0.13166399380488425, 0.08642620237079202, 0.8756981038805536, 0.5353068777389489, 0.29377130279258146, 0.7089430556507621, 0.4314986096187945, 0.17324505466307905, 0.5267063092430841, 0.9533137234156255, 0.3885134895943174, 0.23100501298910459, 0.7593938002443634, 0.10656625987720836, 0.7158629919538373, 0.7508226346341378, 0.7941022123914911, 0.6627626305096337, 0.8596101030167209, 0.9952347450523844, 0.3507482600889811, 0.6476238332411071, 0.8598142814220193, 0.8238984340155668, 0.992843293281161, 0.108444865821135, 0.9689116489544214, 0.6106203801882206, 0.22700469976618765, 0.23254665145846798, 0.10878400438260338, 0.03434114320518278, 0.7409754326404971, 0.4126080061535984, 0.9884089695405163, 0.10041587845808997, 0.6073621406327341, 0.19703359239890128, 0.6408866603854713, 0.5971347176788451, 0.5774196465830062, 0.06346494669920566, 0.6829290413735927, 0.5336791510926999, 0.4133282031616401, 0.7576855285532058, 0.24258433693837644, 0.595650904417617, 0.24082285619013355, 0.28866748532475994, 0.7753717167840413, 0.8711308029940312, 0.8587398123319376, 0.030416151387490986, 0.36244587101241166, 0.9564887494917869, 0.697482440723622, 0.9718195350728245, 0.2978823917946076, 0.17721282338541355, 0.4258075816262874, 0.35622534472336076, 0.3811480105340668, 0.8966485696978004, 0.6654137618902252, 0.7730995343577984, 0.8657505955362579, 0.8329016681157211, 0.24144709268705045, 0.2580360062860485, 0.5662976939555067, 0.23589368851068193, 0.16243256290335317, 0.2866399763073362, 0.566098889238903, 0.7124407172654024, 0.27009320522445757, 0.4580128569625248, 0.6851914282825058, 0.013185089724496057, 0.5322178869927439, 0.9377476734701895, 0.974146818408709, 0.11627611732060283, 0.4346372271273682, 0.21534296826318733, 0.5180576720659136, 0.3120285290140943, 0.5169593986836962, 0.8696824845988509, 0.36809030032630186, 0.2531289385661346, 0.34955745047073794, 0.3262815673004247, 0.2726266569559763, 0.6817006942116088, 0.3565666891018797, 0.15269341621538457, 0.8508347849991236, 0.3372657311821814, 0.6600935722165122, 0.2628045570993658, 0.3438879955698284, 0.7376141033089874, 0.6848943868345463, 0.7972226415665231, 0.13065923182150985, 0.4544945504361888, 0.8995408403076364, 0.29984900245489077, 0.172232875757943, 0.8997214414077688, 0.3765160623683621, 0.6978828486384008, 0.8998216646403083, 0.09632179466342317, 0.06172575386547252, 0.6217357448718788, 0.5167145714523045, 0.14653123923335265, 0.6589180216409489, 0.41967585175168676, 0.5162990123300621, 0.43342746999091863, 0.539619908203093, 0.28025308929171855, 0.8485370619454793, 0.7660724481168424, 0.5859474484542981, 0.9678734153967594, 0.02385433497783218, 0.882574352223154, 0.9576764230723367, 0.34278732470632356, 0.39615728543423234, 0.008952190223681544, 0.16425959499955978, 0.5580663621494997, 0.15850468001539597, 0.060030164205030045, 0.41763024136405713, 0.5293881425782951, 0.8192008610513044, 0.23112333307481925, 0.3893679741515583, 0.23811232485215084, 0.25741629390394416, 0.8834422209774591, 0.2015764075307731, 0.5854462575524262, 0.8178652283083596, 0.3333433876116647, 0.9026818123057538, 0.8052609882161512, 0.6094905017965209, 0.13216383633846984, 0.5259769165066825, 0.5561268449394918, 0.9558232514676093, 0.9888449689961036, 0.8132176081284048, 0.4163243749489114, 0.6099680377947228, 0.6962113834074501, 0.09322084925703522, 0.9864333085766208, 0.16162644463601583, 0.5438019130705931, 0.5425351918067927, 0.6399568592488047, 0.1410939101220403, 0.39042019976954623, 0.20407006347536494, 0.8712416917057599, 0.46396341455481793, 0.5639202127101461, 0.5824012763134399, 0.1640661884127692, 0.11584473040979493, 0.8905304233351024, 0.9274008205670383, 0.47182932392614885, 0.35220748157083204, 0.668311406828695, 0.04536871444692614, 0.9660443964216265, 0.21688373284480877, 0.5220875050293834, 0.5805786560961443, 0.17625504257102254, 0.3761513541176751, 0.9337515383518362, 0.16003495729681894, 0.37416548530941607, 0.07162908892169662, 0.8051111353331117, 0.8015284352184238, 0.9676440391566987, 0.14012456251009908, 0.011689839030900595, 0.14621834977473225, 0.4936013434051958, 0.9938482362345078, 0.917681379434697, 0.5852280165538295, 0.7380234136575754, 0.4013390080839605, 0.45303771487259326, 0.8410055896396866, 0.6821991898222708, 0.6960104582062838, 0.9562844499191478, 0.0712625149562447, 0.598191878692911, 0.6838205604518313, 0.9134785946301631, 0.013794526271605712, 0.18557636419386037, 0.6624709601012684, 0.22572599508660374, 0.5898181088981729, 0.5628815551389423, 0.8701869869989511, 0.7244075545660398, 0.5882874011396382, 0.9751721228472483, 0.11593812010724136, 0.014734565596948634, 0.36896177747875747, 0.6303672467959311, 0.1721015299044597, 0.8926287384076654, 0.9072332504147711, 0.9628459374167733, 0.9479587138543892, 0.47225134641642175, 0.13711756121808372, 0.03409222923883726, 0.742383531538692, 0.3556180204950554, 0.24996228162806067, 0.8885731803841306, 0.1261507083648663, 0.37183901062309266, 0.903550783473402, 0.9327707788088662, 0.90586274468674, 0.9684371841150101, 0.3687547743148667, 0.05903234355337683, 0.4210790229614725, 0.8985878850036166, 0.40788979468760367, 0.07427189314976301, 0.5286706683433937, 0.5428004936813853, 0.4706056837287602, 0.5651101942417556, 0.01784792902875365, 0.0824233633185616, 0.7347485357274548, 0.9226333516014471, 0.25796761461391204, 0.5588307596956179, 0.4738406323306559, 0.7503807715058826, 0.8211896209393483, 0.10240685531420812, 0.8020333189160977, 0.8176323489753559, 0.007450291298979339, 0.8259763696498292, 0.001968048368845121, 0.2223912794636651, 0.06294395859206947, 0.9783326757811779, 0.6649482982492811, 0.6927048226553745, 0.7879983384662479, 0.3750634464065883, 0.17810558468898008, 0.8721010092108081, 0.6887003541222716, 0.3817967108414435, 0.6618556430079134, 0.5463390557976848, 0.2746651647024563, 0.9577311225138478, 0.29180051758461856, 0.13464133150073399, 0.669355446257403, 0.37293425488998744, 0.6880818479165178, 0.6445973619130381, 0.7218014465091396, 0.3980748908549492, 0.6988285309558917, 0.369402188703841, 0.21378087142191582, 0.18342917210222343, 0.9373741931015267, 0.19687759552778306, 0.12556070911050865, 0.11652264137863977, 0.556295677355773, 0.370742130563114, 0.46094616899245144, 0.17563339473025463, 0.2838569854908768, 0.3646037017462813, 0.7788945893635963, 0.15337648185706332, 0.11534971591388898, 0.4010548473114042, 0.08991966912383886, 0.23698409182598512, 0.27789126215188564, 0.8770556805338281, 0.9869111801159538, 0.30001845726446685, 0.077147180113041, 0.003055091587046199, 0.3879738995789055, 0.5014357816977812, 0.2868536882589394, 0.5478313109783495, 0.6488271443814548, 0.04650225558781029, 0.32992950999962045, 0.14546945437830638, 0.09718606575149513, 0.2553517663516187, 0.24127630327725647, 0.39249858226114664, 0.03143263649489558, 0.8532249856681653, 0.42271401590907987, 0.7937994456070945, 0.2751518857321573, 0.4768125903135845, 0.994231081623393, 0.8348240722967442, 0.7511812454360267, 0.5517921799440386, 0.1324458010009344, 0.61058404020888, 0.8706659096049962, 0.5944349401473092, 0.39832482444786366, 0.8912839433864794, 0.8139122308451276, 0.6011575443318371, 0.5485943379612241, 0.2501904846816245, 0.8456163660562963, 0.9825254762824325, 0.6547174220819854, 0.616028823706213, 0.5515945294583011, 0.6635990761200066, 0.4544104811249401, 0.6337072914104336, 0.7642610831439898, 0.5392372131779379, 0.2747416116265615, 0.68326985805735, 0.6220302350434013, 0.8791793395670391, 0.14695445730647627, 0.1271538908976959, 0.33601928721731933, 0.49421495146915473, 0.3291863946796876, 0.2893259299206532, 0.265801970606953, 0.3797164455401023, 0.6983740430743257, 0.43843745640805776, 0.7853038365290232, 0.4316952176932083, 0.3193738974851519, 0.05085134230493904, 0.8444883891456201, 0.7013020118890438, 0.6486590265913066, 0.5410492287449751, 0.7437570615013704, 0.09425371362808388, 0.9933854833044187, 0.24886606314448279, 0.8002105655411991, 0.9085823810527018, 0.4019330974603108, 0.44342131770986914, 0.8075236551803309, 0.003107632515165548, 0.6452650967217868, 0.8011790446528919, 0.2159883791145656, 0.6698642720604326, 0.6259483372462629, 0.4068412705735449, 0.1861251098089467, 0.1374217243221747, 0.07239613865370509, 0.6635724753514749, 0.15898079282302802, 0.061327666773061784, 0.25455678230384904, 0.971041496072863, 0.32222191224640495, 0.1451106286226933, 0.7119762891457775, 0.6089630416862704, 0.5854951981531109, 0.7474565067431416, 0.8359432219194065, 0.6516239090810676, 0.706401553094584, 0.9560568077791589, 0.04006959937746912, 0.8522379287724988, 0.5171815837780758, 0.0521675824351866, 0.23016003016802822, 0.5822286892666364, 0.8637657548108946, 0.31472994853734093, 0.4228777615212105, 0.62276966082436, 0.5372636129110726, 0.3703382894024583, 0.03966677725695411, 0.22099845345429014, 0.7953103357538107, 0.131343799970848, 0.04193457252265875, 0.5752937962629727, 0.09391942703316913, 0.6915563075662705, 0.5538225749455921, 0.46758581647505526, 0.49501612267120576, 0.8428066783167505, 0.05850717750524126, 0.9396573581252752, 0.6220178296063255, 0.20992055207648375, 0.981142728302635, 0.05462600470459478, 0.5213581245931798, 0.8730015301353631, 0.9480719702098503, 0.22652256796550962, 0.5658111708998903, 0.0783609220797199, 0.5089169328818222, 0.23257081391683587, 0.215283643335497, 0.8998510510707247, 0.9938850926552121, 0.06324247163164953, 0.9596345478559185, 0.21713996687290837, 0.46167964329254474, 0.8173075671185139, 0.5845553562460319, 0.8335441185687587, 0.09120380882805579, 0.7093107620495136, 0.45364220751493445, 0.9976722491963668, 0.857950184086899, 0.04276180761047654, 0.4226433131330838, 0.5270428853267155, 0.6243827070149011, 0.5785412606060738, 0.7545721852804443, 0.9538275379483816, 0.510658277327793, 0.5593996946974604, 0.8209293250173042, 0.06454186369812898, 0.01178517863224915, 0.6484364615753746, 0.44962691671469623, 0.47406870062792805, 0.7564217120616548, 0.6278138821481252, 0.6972405248459281, 0.46330144180180133, 0.9168315134495755, 0.41138683249167896, 0.8086378159664551, 0.26246070349729167, 0.9568974160720101, 0.38929711597364913, 0.3315957985770026, 0.2517264638271206, 0.0534991561654059, 0.2685265722642287, 0.959684840238693, 0.7616009954872343, 0.7347406402348953, 0.6249077586214014, 0.2016222920048325, 0.4131379262712287, 0.30000146993652965, 0.5585053554411958, 0.3459939765639126, 0.583474647101474, 0.7361825337213457, 0.06924113891064021, 0.24966925136507911, 0.555994464201063, 0.0008161423313508553, 0.9299747079253577, 0.16003645029960878, 0.2583924905836008, 0.845587633046804, 0.41416303319689196, 0.8811639736232593, 0.973098879577067, 0.7657096279562237, 0.545121221471282, 0.8211360862869426, 0.15309300873909826, 0.24496073561688236, 0.8688685846522548, 0.5810438207197282, 0.02280268838379218, 0.7723504274431181, 0.8086459077497099, 0.08375391597106363, 0.6356317672194485, 0.3897704640497546, 0.6848795145434765, 0.8428235960394068, 0.6789865649569098, 0.4536738131219311, 0.24176477311781452, 0.7811336806743512, 0.3986794014908941, 0.5987826606064008, 0.1490303291592623, 0.17284429953638925, 0.33885789905462493, 0.3259649089115009, 0.5186145678113536, 0.6361483281580615, 0.42527545922312293, 0.5426710497422771, 0.7889577186645687, 0.45289239454495833, 0.4728877104115192, 0.45503317172243274, 0.4584514914756539, 0.5650117005234288, 0.9637438823066435, 0.1485980777353968, 0.6258659974972836, 0.44428476361689273, 0.4610354865541506, 0.33120535644356, 0.350372882421377, 0.32538640469518, 0.034144549917670686, 0.8121081565415689, 0.9387829870900959, 0.6444555896442274, 0.266371613742284, 0.7155161489604986, 0.9618707639602948, 0.5698310134925617, 0.43348057218258496, 0.14304035304098695, 0.5168732880489277, 0.2532393072712009, 0.40941767759727155, 0.7430865173449845, 0.453315987556163, 0.9188972879261554, 0.2988183349532638, 0.6540125882564745, 0.22032859967832463, 0.6253489472970153, 0.9977395980460786, 0.36436789658042756, 0.05286675533558327, 0.05502070902459444, 0.12358768068116244, 0.3510527417711711, 0.7127880598640057, 0.38341068391147726, 0.43743010916905356, 0.1549944302455637, 0.5870828421324601, 0.8467810602939314, 0.9555548889431644, 0.7843273780553912, 0.3278663098161705, 0.02930901448079637, 0.5377256567963073, 0.9669287671247702, 0.8362284410945697, 0.24720513897762753, 0.20697004320239043, 0.23331121754664563, 0.1795447298840036, 0.8598937916277811, 0.8837472350971469, 0.2480511636546343, 0.43503307986877426, 0.919258466248799, 0.5866900958682042, 0.9486056327915591, 0.2921530397127772, 0.6472750348772425, 0.886642912043937, 0.18464116665478625, 0.8560623194869581, 0.9028140772232929, 0.923963275882925, 0.30445502791693846, 0.054862939224989304, 0.06383933315915358, 0.04739204149683007, 0.599045708752955, 0.10472096869211733, 0.30757689837002267, 0.6328664911385233, 0.7666641681507502, 0.8006765812120649, 0.36886938195454366, 0.5887094357991709, 0.0643464908633613, 0.8338034327112891, 0.8288970885729876, 0.8097071719744067, 0.3039223130324711, 0.6147254171056324, 0.9839593446169539, 0.582525573460277, 0.20691100544731778, 0.08036471549223068, 0.06048185747519419, 0.7043300348116048, 0.6900935670985766, 0.4325260076922808, 0.18475788233326162, 0.19396312477440958, 0.6484441166720818, 0.959987197053124, 0.40737355140628395, 0.0927788181765401, 0.7366914043437904, 0.5615234736880366, 0.3175641101318034, 0.28677406854345056])\u001b[39m\n",
      "\u001b[90m│  \u001b[39m       (@_2 = Base.iterate(%2))\n",
      "\u001b[90m│  \u001b[39m %4  = (@_2 === nothing)\u001b[36m::Bool\u001b[39m\n",
      "\u001b[90m│  \u001b[39m %5  = Base.not_int(%4)\u001b[36m::Bool\u001b[39m\n",
      "\u001b[90m└──\u001b[39m       goto #4 if not %5\n",
      "\u001b[90m2 ┄\u001b[39m %7  = @_2::Tuple{Float64, Int64}\u001b[36m::Tuple{Float64, Int64}\u001b[39m\n",
      "\u001b[90m│  \u001b[39m       (i = Core.getfield(%7, 1))\n",
      "\u001b[90m│  \u001b[39m %9  = Core.getfield(%7, 2)\u001b[36m::Int64\u001b[39m\n",
      "\u001b[90m│  \u001b[39m       (s = s + i)\n",
      "\u001b[90m│  \u001b[39m       (@_2 = Base.iterate(%2, %9))\n",
      "\u001b[90m│  \u001b[39m %12 = (@_2 === nothing)\u001b[36m::Bool\u001b[39m\n",
      "\u001b[90m│  \u001b[39m %13 = Base.not_int(%12)\u001b[36m::Bool\u001b[39m\n",
      "\u001b[90m└──\u001b[39m       goto #4 if not %13\n",
      "\u001b[90m3 ─\u001b[39m       goto #2\n",
      "\u001b[90m4 ┄\u001b[39m       return s\n"
     ]
    }
   ],
   "source": [
    "@code_warntype sum_const_global()"
   ]
  },
  {
   "cell_type": "markdown",
   "metadata": {},
   "source": [
    "# 3. Deixar tudo imutável se possível\n",
    "\n",
    "Tudo que é mutável faz com que o compilador LLVM não saiv=ba o que vem pela frente e não consiga otimizar."
   ]
  },
  {
   "cell_type": "markdown",
   "metadata": {},
   "source": [
    "## Tuplas vs Arrays\n",
    "\n",
    "Tuplas são __imutáveis__ e Arrays podem ser modificados após a instanciação."
   ]
  },
  {
   "cell_type": "code",
   "execution_count": 29,
   "metadata": {},
   "outputs": [
    {
     "data": {
      "text/plain": [
       "rand_tuple_point (generic function with 1 method)"
      ]
     },
     "execution_count": 29,
     "metadata": {},
     "output_type": "execute_result"
    }
   ],
   "source": [
    "rand_tuple_point() = (rand(), rand())"
   ]
  },
  {
   "cell_type": "code",
   "execution_count": 33,
   "metadata": {},
   "outputs": [
    {
     "data": {
      "text/plain": [
       "rand_vector_point (generic function with 1 method)"
      ]
     },
     "execution_count": 33,
     "metadata": {},
     "output_type": "execute_result"
    }
   ],
   "source": [
    "rand_vector_point() = [rand(), rand()]"
   ]
  },
  {
   "cell_type": "code",
   "execution_count": 34,
   "metadata": {},
   "outputs": [],
   "source": [
    "tuple_points = [rand_tuple_point() for _ ∈ 1:500];"
   ]
  },
  {
   "cell_type": "code",
   "execution_count": 35,
   "metadata": {},
   "outputs": [],
   "source": [
    "vector_points = [rand_vector_point() for _ ∈ 1:500];"
   ]
  },
  {
   "cell_type": "code",
   "execution_count": 36,
   "metadata": {},
   "outputs": [
    {
     "data": {
      "text/plain": [
       "difference_matrix (generic function with 1 method)"
      ]
     },
     "execution_count": 36,
     "metadata": {},
     "output_type": "execute_result"
    }
   ],
   "source": [
    "function difference_matrix(points)\n",
    "    return [p1 .- p2 for p1 in points, p2 in points]\n",
    "end"
   ]
  },
  {
   "cell_type": "code",
   "execution_count": 37,
   "metadata": {},
   "outputs": [
    {
     "data": {
      "text/plain": [
       "BenchmarkTools.Trial: 2404 samples with 1 evaluation.\n",
       " Range \u001b[90m(\u001b[39m\u001b[36m\u001b[1mmin\u001b[22m\u001b[39m … \u001b[35mmax\u001b[39m\u001b[90m):  \u001b[39m\u001b[36m\u001b[1m809.000 μs\u001b[22m\u001b[39m … \u001b[35m25.752 ms\u001b[39m  \u001b[90m┊\u001b[39m GC \u001b[90m(\u001b[39mmin … max\u001b[90m): \u001b[39m 0.00% … 91.76%\n",
       " Time  \u001b[90m(\u001b[39m\u001b[34m\u001b[1mmedian\u001b[22m\u001b[39m\u001b[90m):     \u001b[39m\u001b[34m\u001b[1m  1.294 ms              \u001b[22m\u001b[39m\u001b[90m┊\u001b[39m GC \u001b[90m(\u001b[39mmedian\u001b[90m):    \u001b[39m 0.00%\n",
       " Time  \u001b[90m(\u001b[39m\u001b[32m\u001b[1mmean\u001b[22m\u001b[39m ± \u001b[32mσ\u001b[39m\u001b[90m):   \u001b[39m\u001b[32m\u001b[1m  2.050 ms\u001b[22m\u001b[39m ± \u001b[32m 2.362 ms\u001b[39m  \u001b[90m┊\u001b[39m GC \u001b[90m(\u001b[39mmean ± σ\u001b[90m):  \u001b[39m24.96% ± 19.73%\n",
       "\n",
       "  \u001b[39m▆\u001b[39m█\u001b[34m▇\u001b[39m\u001b[39m▆\u001b[39m▅\u001b[39m▃\u001b[32m▃\u001b[39m\u001b[39m▂\u001b[39m▂\u001b[39m▂\u001b[39m \u001b[39m▁\u001b[39m▁\u001b[39m \u001b[39m \u001b[39m \u001b[39m \u001b[39m \u001b[39m \u001b[39m \u001b[39m \u001b[39m \u001b[39m \u001b[39m \u001b[39m \u001b[39m \u001b[39m \u001b[39m \u001b[39m \u001b[39m \u001b[39m \u001b[39m \u001b[39m \u001b[39m \u001b[39m \u001b[39m \u001b[39m \u001b[39m \u001b[39m \u001b[39m \u001b[39m \u001b[39m \u001b[39m \u001b[39m \u001b[39m \u001b[39m \u001b[39m \u001b[39m \u001b[39m \u001b[39m \u001b[39m \u001b[39m \u001b[39m \u001b[39m \u001b[39m \u001b[39m \u001b[39m \u001b[39m \u001b[39m \u001b[39m \u001b[39m \u001b[39m▁\n",
       "  \u001b[39m█\u001b[39m█\u001b[34m█\u001b[39m\u001b[39m█\u001b[39m█\u001b[39m█\u001b[32m█\u001b[39m\u001b[39m█\u001b[39m█\u001b[39m█\u001b[39m█\u001b[39m█\u001b[39m█\u001b[39m▇\u001b[39m█\u001b[39m▄\u001b[39m▆\u001b[39m▇\u001b[39m▇\u001b[39m▆\u001b[39m▆\u001b[39m▅\u001b[39m▄\u001b[39m▅\u001b[39m▄\u001b[39m▄\u001b[39m▁\u001b[39m▄\u001b[39m▁\u001b[39m▄\u001b[39m▁\u001b[39m▅\u001b[39m█\u001b[39m▄\u001b[39m▃\u001b[39m▅\u001b[39m▃\u001b[39m▄\u001b[39m▆\u001b[39m▆\u001b[39m▆\u001b[39m▆\u001b[39m▄\u001b[39m▅\u001b[39m▄\u001b[39m▆\u001b[39m▆\u001b[39m▆\u001b[39m▃\u001b[39m▆\u001b[39m▇\u001b[39m▄\u001b[39m▆\u001b[39m▃\u001b[39m▃\u001b[39m▅\u001b[39m▅\u001b[39m▄\u001b[39m▄\u001b[39m▃\u001b[39m \u001b[39m█\n",
       "  809 μs\u001b[90m        \u001b[39m\u001b[90mHistogram: \u001b[39m\u001b[90m\u001b[1mlog(\u001b[22m\u001b[39m\u001b[90mfrequency\u001b[39m\u001b[90m\u001b[1m)\u001b[22m\u001b[39m\u001b[90m by time\u001b[39m      13.1 ms \u001b[0m\u001b[1m<\u001b[22m\n",
       "\n",
       " Memory estimate\u001b[90m: \u001b[39m\u001b[33m3.81 MiB\u001b[39m, allocs estimate\u001b[90m: \u001b[39m\u001b[33m2\u001b[39m."
      ]
     },
     "execution_count": 37,
     "metadata": {},
     "output_type": "execute_result"
    }
   ],
   "source": [
    "@benchmark difference_matrix($tuple_points)"
   ]
  },
  {
   "cell_type": "code",
   "execution_count": 39,
   "metadata": {},
   "outputs": [
    {
     "data": {
      "text/plain": [
       "BenchmarkTools.Trial: 189 samples with 1 evaluation.\n",
       " Range \u001b[90m(\u001b[39m\u001b[36m\u001b[1mmin\u001b[22m\u001b[39m … \u001b[35mmax\u001b[39m\u001b[90m):  \u001b[39m\u001b[36m\u001b[1m10.654 ms\u001b[22m\u001b[39m … \u001b[35m63.310 ms\u001b[39m  \u001b[90m┊\u001b[39m GC \u001b[90m(\u001b[39mmin … max\u001b[90m): \u001b[39m 0.00% … 24.82%\n",
       " Time  \u001b[90m(\u001b[39m\u001b[34m\u001b[1mmedian\u001b[22m\u001b[39m\u001b[90m):     \u001b[39m\u001b[34m\u001b[1m25.094 ms              \u001b[22m\u001b[39m\u001b[90m┊\u001b[39m GC \u001b[90m(\u001b[39mmedian\u001b[90m):    \u001b[39m 0.00%\n",
       " Time  \u001b[90m(\u001b[39m\u001b[32m\u001b[1mmean\u001b[22m\u001b[39m ± \u001b[32mσ\u001b[39m\u001b[90m):   \u001b[39m\u001b[32m\u001b[1m26.514 ms\u001b[22m\u001b[39m ± \u001b[32m11.566 ms\u001b[39m  \u001b[90m┊\u001b[39m GC \u001b[90m(\u001b[39mmean ± σ\u001b[90m):  \u001b[39m16.85% ± 18.69%\n",
       "\n",
       "  \u001b[39m \u001b[39m \u001b[39m \u001b[39m█\u001b[39m \u001b[39m▂\u001b[39m \u001b[39m \u001b[39m \u001b[39m▂\u001b[39m \u001b[39m \u001b[39m▂\u001b[39m \u001b[39m \u001b[39m \u001b[39m \u001b[39m▃\u001b[34m \u001b[39m\u001b[32m \u001b[39m\u001b[39m \u001b[39m \u001b[39m \u001b[39m \u001b[39m \u001b[39m \u001b[39m \u001b[39m▂\u001b[39m \u001b[39m▂\u001b[39m \u001b[39m \u001b[39m \u001b[39m \u001b[39m \u001b[39m \u001b[39m \u001b[39m \u001b[39m \u001b[39m \u001b[39m \u001b[39m \u001b[39m \u001b[39m \u001b[39m \u001b[39m \u001b[39m \u001b[39m \u001b[39m \u001b[39m \u001b[39m \u001b[39m \u001b[39m \u001b[39m \u001b[39m \u001b[39m \u001b[39m \u001b[39m \u001b[39m \u001b[39m \u001b[39m \n",
       "  \u001b[39m█\u001b[39m█\u001b[39m▆\u001b[39m█\u001b[39m▇\u001b[39m█\u001b[39m▇\u001b[39m▆\u001b[39m▅\u001b[39m█\u001b[39m▇\u001b[39m▆\u001b[39m█\u001b[39m▃\u001b[39m█\u001b[39m▃\u001b[39m▆\u001b[39m█\u001b[34m▇\u001b[39m\u001b[32m▆\u001b[39m\u001b[39m▅\u001b[39m█\u001b[39m▅\u001b[39m▇\u001b[39m▆\u001b[39m█\u001b[39m▃\u001b[39m█\u001b[39m▆\u001b[39m█\u001b[39m▇\u001b[39m▃\u001b[39m▅\u001b[39m▃\u001b[39m▅\u001b[39m▄\u001b[39m▄\u001b[39m▃\u001b[39m▄\u001b[39m▄\u001b[39m▄\u001b[39m▃\u001b[39m▁\u001b[39m▄\u001b[39m▃\u001b[39m▃\u001b[39m▁\u001b[39m▁\u001b[39m▁\u001b[39m▃\u001b[39m▃\u001b[39m▁\u001b[39m▃\u001b[39m▃\u001b[39m▁\u001b[39m▃\u001b[39m▁\u001b[39m▃\u001b[39m▃\u001b[39m \u001b[39m▃\n",
       "  10.7 ms\u001b[90m         Histogram: frequency by time\u001b[39m        58.7 ms \u001b[0m\u001b[1m<\u001b[22m\n",
       "\n",
       " Memory estimate\u001b[90m: \u001b[39m\u001b[33m24.80 MiB\u001b[39m, allocs estimate\u001b[90m: \u001b[39m\u001b[33m250002\u001b[39m."
      ]
     },
     "execution_count": 39,
     "metadata": {},
     "output_type": "execute_result"
    }
   ],
   "source": [
    "@benchmark difference_matrix($vector_points)"
   ]
  },
  {
   "cell_type": "markdown",
   "metadata": {},
   "source": [
    "## `struct` vs `mutable struct`\n",
    "\n",
    "Jóia        Imutável    \n",
    "Jóia^-1     Mutável"
   ]
  },
  {
   "cell_type": "code",
   "execution_count": 46,
   "metadata": {},
   "outputs": [],
   "source": [
    "abstract type Point end"
   ]
  },
  {
   "cell_type": "code",
   "execution_count": 47,
   "metadata": {},
   "outputs": [],
   "source": [
    "struct ImmutablePoint <: Point \n",
    "    x::Float64\n",
    "    y::Float64\n",
    "end"
   ]
  },
  {
   "cell_type": "code",
   "execution_count": 48,
   "metadata": {},
   "outputs": [],
   "source": [
    "mutable struct MutablePoint <: Point \n",
    "    x::Float64\n",
    "    y::Float64\n",
    "end"
   ]
  },
  {
   "cell_type": "code",
   "execution_count": 49,
   "metadata": {},
   "outputs": [
    {
     "data": {
      "text/plain": [
       "mean_point (generic function with 1 method)"
      ]
     },
     "execution_count": 49,
     "metadata": {},
     "output_type": "execute_result"
    }
   ],
   "source": [
    "function mean_point(p::Point)\n",
    "    return mean([p.x, p.y])\n",
    "end"
   ]
  },
  {
   "cell_type": "code",
   "execution_count": 50,
   "metadata": {},
   "outputs": [
    {
     "data": {
      "text/plain": [
       "BenchmarkTools.Trial: 107 samples with 1 evaluation.\n",
       " Range \u001b[90m(\u001b[39m\u001b[36m\u001b[1mmin\u001b[22m\u001b[39m … \u001b[35mmax\u001b[39m\u001b[90m):  \u001b[39m\u001b[36m\u001b[1m33.640 ms\u001b[22m\u001b[39m … \u001b[35m67.467 ms\u001b[39m  \u001b[90m┊\u001b[39m GC \u001b[90m(\u001b[39mmin … max\u001b[90m): \u001b[39m 0.00% … 13.49%\n",
       " Time  \u001b[90m(\u001b[39m\u001b[34m\u001b[1mmedian\u001b[22m\u001b[39m\u001b[90m):     \u001b[39m\u001b[34m\u001b[1m45.714 ms              \u001b[22m\u001b[39m\u001b[90m┊\u001b[39m GC \u001b[90m(\u001b[39mmedian\u001b[90m):    \u001b[39m16.02%\n",
       " Time  \u001b[90m(\u001b[39m\u001b[32m\u001b[1mmean\u001b[22m\u001b[39m ± \u001b[32mσ\u001b[39m\u001b[90m):   \u001b[39m\u001b[32m\u001b[1m47.017 ms\u001b[22m\u001b[39m ± \u001b[32m 7.826 ms\u001b[39m  \u001b[90m┊\u001b[39m GC \u001b[90m(\u001b[39mmean ± σ\u001b[90m):  \u001b[39m15.27% ±  7.69%\n",
       "\n",
       "  \u001b[39m \u001b[39m \u001b[39m \u001b[39m \u001b[39m \u001b[39m \u001b[39m \u001b[39m \u001b[39m \u001b[39m \u001b[39m \u001b[39m \u001b[39m \u001b[39m \u001b[39m \u001b[39m▁\u001b[39m \u001b[39m█\u001b[39m \u001b[39m▂\u001b[39m \u001b[34m \u001b[39m\u001b[39m▅\u001b[39m \u001b[32m \u001b[39m\u001b[39m \u001b[39m \u001b[39m \u001b[39m \u001b[39m \u001b[39m \u001b[39m \u001b[39m \u001b[39m \u001b[39m \u001b[39m \u001b[39m \u001b[39m \u001b[39m \u001b[39m \u001b[39m \u001b[39m \u001b[39m \u001b[39m \u001b[39m \u001b[39m \u001b[39m \u001b[39m \u001b[39m \u001b[39m \u001b[39m \u001b[39m \u001b[39m \u001b[39m \u001b[39m \u001b[39m \u001b[39m \u001b[39m \u001b[39m \u001b[39m \u001b[39m \n",
       "  \u001b[39m▃\u001b[39m█\u001b[39m▃\u001b[39m▅\u001b[39m▅\u001b[39m▃\u001b[39m▁\u001b[39m▁\u001b[39m▃\u001b[39m▃\u001b[39m▁\u001b[39m█\u001b[39m▆\u001b[39m█\u001b[39m▁\u001b[39m█\u001b[39m▆\u001b[39m█\u001b[39m▅\u001b[39m█\u001b[39m▆\u001b[34m█\u001b[39m\u001b[39m█\u001b[39m▆\u001b[32m▆\u001b[39m\u001b[39m▅\u001b[39m▆\u001b[39m▅\u001b[39m▁\u001b[39m█\u001b[39m▁\u001b[39m▃\u001b[39m▁\u001b[39m▃\u001b[39m▃\u001b[39m▅\u001b[39m▃\u001b[39m▆\u001b[39m▁\u001b[39m▆\u001b[39m▁\u001b[39m▁\u001b[39m▁\u001b[39m▅\u001b[39m▁\u001b[39m▅\u001b[39m▁\u001b[39m▁\u001b[39m▅\u001b[39m▃\u001b[39m▁\u001b[39m▃\u001b[39m▁\u001b[39m▃\u001b[39m▁\u001b[39m▁\u001b[39m▁\u001b[39m▅\u001b[39m▃\u001b[39m \u001b[39m▃\n",
       "  33.6 ms\u001b[90m         Histogram: frequency by time\u001b[39m        67.1 ms \u001b[0m\u001b[1m<\u001b[22m\n",
       "\n",
       " Memory estimate\u001b[90m: \u001b[39m\u001b[33m57.22 MiB\u001b[39m, allocs estimate\u001b[90m: \u001b[39m\u001b[33m500004\u001b[39m."
      ]
     },
     "execution_count": 50,
     "metadata": {},
     "output_type": "execute_result"
    }
   ],
   "source": [
    "@benchmark mean_point.([ImmutablePoint(rand(), rand()) for _ ∈ 1:500_000])"
   ]
  },
  {
   "cell_type": "code",
   "execution_count": 51,
   "metadata": {},
   "outputs": [
    {
     "data": {
      "text/plain": [
       "BenchmarkTools.Trial: 84 samples with 1 evaluation.\n",
       " Range \u001b[90m(\u001b[39m\u001b[36m\u001b[1mmin\u001b[22m\u001b[39m … \u001b[35mmax\u001b[39m\u001b[90m):  \u001b[39m\u001b[36m\u001b[1m35.122 ms\u001b[22m\u001b[39m … \u001b[35m122.437 ms\u001b[39m  \u001b[90m┊\u001b[39m GC \u001b[90m(\u001b[39mmin … max\u001b[90m): \u001b[39m 0.00% … 17.11%\n",
       " Time  \u001b[90m(\u001b[39m\u001b[34m\u001b[1mmedian\u001b[22m\u001b[39m\u001b[90m):     \u001b[39m\u001b[34m\u001b[1m56.933 ms               \u001b[22m\u001b[39m\u001b[90m┊\u001b[39m GC \u001b[90m(\u001b[39mmedian\u001b[90m):    \u001b[39m30.98%\n",
       " Time  \u001b[90m(\u001b[39m\u001b[32m\u001b[1mmean\u001b[22m\u001b[39m ± \u001b[32mσ\u001b[39m\u001b[90m):   \u001b[39m\u001b[32m\u001b[1m59.697 ms\u001b[22m\u001b[39m ± \u001b[32m 12.231 ms\u001b[39m  \u001b[90m┊\u001b[39m GC \u001b[90m(\u001b[39mmean ± σ\u001b[90m):  \u001b[39m28.69% ±  7.48%\n",
       "\n",
       "  \u001b[39m \u001b[39m \u001b[39m \u001b[39m \u001b[39m \u001b[39m \u001b[39m \u001b[39m \u001b[39m \u001b[39m \u001b[39m \u001b[39m \u001b[39m \u001b[39m \u001b[39m▅\u001b[39m \u001b[39m \u001b[39m \u001b[39m█\u001b[34m \u001b[39m\u001b[39m \u001b[39m \u001b[32m▅\u001b[39m\u001b[39m \u001b[39m \u001b[39m \u001b[39m \u001b[39m \u001b[39m \u001b[39m \u001b[39m \u001b[39m \u001b[39m \u001b[39m \u001b[39m \u001b[39m \u001b[39m \u001b[39m \u001b[39m \u001b[39m \u001b[39m \u001b[39m \u001b[39m \u001b[39m \u001b[39m \u001b[39m \u001b[39m \u001b[39m \u001b[39m \u001b[39m \u001b[39m \u001b[39m \u001b[39m \u001b[39m \u001b[39m \u001b[39m \u001b[39m \u001b[39m \u001b[39m \u001b[39m \u001b[39m \u001b[39m \n",
       "  \u001b[39m▅\u001b[39m▁\u001b[39m▁\u001b[39m▃\u001b[39m▁\u001b[39m▁\u001b[39m▃\u001b[39m▁\u001b[39m▁\u001b[39m▁\u001b[39m▁\u001b[39m▁\u001b[39m▅\u001b[39m▃\u001b[39m█\u001b[39m▇\u001b[39m▆\u001b[39m█\u001b[39m█\u001b[34m▇\u001b[39m\u001b[39m▅\u001b[39m▅\u001b[32m█\u001b[39m\u001b[39m▆\u001b[39m▅\u001b[39m▅\u001b[39m▇\u001b[39m▆\u001b[39m▃\u001b[39m▃\u001b[39m▆\u001b[39m▃\u001b[39m▆\u001b[39m▁\u001b[39m▁\u001b[39m▁\u001b[39m▁\u001b[39m▃\u001b[39m▃\u001b[39m▁\u001b[39m▁\u001b[39m▁\u001b[39m▁\u001b[39m▁\u001b[39m▁\u001b[39m▁\u001b[39m▁\u001b[39m▁\u001b[39m▁\u001b[39m▁\u001b[39m▁\u001b[39m▁\u001b[39m▁\u001b[39m▁\u001b[39m▁\u001b[39m▃\u001b[39m▁\u001b[39m▁\u001b[39m▁\u001b[39m▃\u001b[39m \u001b[39m▁\n",
       "  35.1 ms\u001b[90m         Histogram: frequency by time\u001b[39m          102 ms \u001b[0m\u001b[1m<\u001b[22m\n",
       "\n",
       " Memory estimate\u001b[90m: \u001b[39m\u001b[33m68.66 MiB\u001b[39m, allocs estimate\u001b[90m: \u001b[39m\u001b[33m1000004\u001b[39m."
      ]
     },
     "execution_count": 51,
     "metadata": {},
     "output_type": "execute_result"
    }
   ],
   "source": [
    "@benchmark mean_point.([MutablePoint(rand(), rand()) for _ ∈ 1:500_000])"
   ]
  },
  {
   "cell_type": "markdown",
   "metadata": {},
   "source": [
    "## `StaticArrays.jl`\n",
    "\n",
    "__Arrays estáticas em Julia__\n",
    "\n",
    "* `StaticArray{Size, T, Dims} <: AbstractArray{T, Dims}`    \n",
    "* `sVector{N, T}`: alias para `StaticArray{N, T, 1}` \n",
    "* `sMatrix{M, N, T}`: alias para `StaticArray{(M, N), T, 2}`    \n",
    "\n",
    "<br>\n",
    "<br>\n",
    "\n",
    "__Beenchmarks__ para matrizes `Float64` 3x3:\n",
    "\n",
    "\n",
    "|__Operação__|*__Speedup__*|\n",
    "|------------|:-----------:|\n",
    "|multiplicação|5.9x|\n",
    "|adição|33.1x|\n",
    "|determinante|112.9x|\n",
    "|inversa|67.8x|\n",
    "|decomposição de autovetores|25.0x|\n",
    "|decomposição Cholesky|8.8x|\n",
    "|decomposição LU|6.1x|\n",
    "|decomposição QR|65.0x|\n",
    "\n",
    "<br>\n",
    "<br>\n",
    "<br>\n",
    "        \n",
    "> __Quando usar?__ Como regra-geral, se vc tiver uma `Array` de __até 100 elementos__ é interessante usar uma `StaticArray`."
   ]
  },
  {
   "cell_type": "markdown",
   "metadata": {},
   "source": [
    "### Instanciamento"
   ]
  },
  {
   "cell_type": "code",
   "execution_count": 52,
   "metadata": {},
   "outputs": [],
   "source": [
    "abstract type MeuTipo end"
   ]
  },
  {
   "cell_type": "code",
   "execution_count": 53,
   "metadata": {},
   "outputs": [],
   "source": [
    "struct MyImmutable <: MeuTipo\n",
    "    x::Vector{Int}\n",
    "end"
   ]
  },
  {
   "cell_type": "code",
   "execution_count": 54,
   "metadata": {},
   "outputs": [],
   "source": [
    "mutable struct MyMutable <: MeuTipo\n",
    "    x::Vector{Int}\n",
    "end"
   ]
  },
  {
   "cell_type": "code",
   "execution_count": 58,
   "metadata": {},
   "outputs": [],
   "source": [
    "struct MySArray <: MeuTipo\n",
    "\tx::SVector{2, Int}\n",
    "end"
   ]
  },
  {
   "cell_type": "code",
   "execution_count": 59,
   "metadata": {},
   "outputs": [
    {
     "data": {
      "text/plain": [
       "f_immutable (generic function with 1 method)"
      ]
     },
     "execution_count": 59,
     "metadata": {},
     "output_type": "execute_result"
    }
   ],
   "source": [
    "function f_immutable()\n",
    "    for i ∈ 1:1_000\n",
    "        x = MyImmutable([rand(Int), rand(Int)])\n",
    "    end\n",
    "    return nothing\n",
    "end"
   ]
  },
  {
   "cell_type": "code",
   "execution_count": 60,
   "metadata": {},
   "outputs": [
    {
     "data": {
      "text/plain": [
       "BenchmarkTools.Trial: 10000 samples with 1 evaluation.\n",
       " Range \u001b[90m(\u001b[39m\u001b[36m\u001b[1mmin\u001b[22m\u001b[39m … \u001b[35mmax\u001b[39m\u001b[90m):  \u001b[39m\u001b[36m\u001b[1m34.000 μs\u001b[22m\u001b[39m … \u001b[35m 14.304 ms\u001b[39m  \u001b[90m┊\u001b[39m GC \u001b[90m(\u001b[39mmin … max\u001b[90m): \u001b[39m 0.00% … 99.42%\n",
       " Time  \u001b[90m(\u001b[39m\u001b[34m\u001b[1mmedian\u001b[22m\u001b[39m\u001b[90m):     \u001b[39m\u001b[34m\u001b[1m42.600 μs               \u001b[22m\u001b[39m\u001b[90m┊\u001b[39m GC \u001b[90m(\u001b[39mmedian\u001b[90m):    \u001b[39m 0.00%\n",
       " Time  \u001b[90m(\u001b[39m\u001b[32m\u001b[1mmean\u001b[22m\u001b[39m ± \u001b[32mσ\u001b[39m\u001b[90m):   \u001b[39m\u001b[32m\u001b[1m72.199 μs\u001b[22m\u001b[39m ± \u001b[32m344.177 μs\u001b[39m  \u001b[90m┊\u001b[39m GC \u001b[90m(\u001b[39mmean ± σ\u001b[90m):  \u001b[39m16.33% ±  3.70%\n",
       "\n",
       "  \u001b[39m█\u001b[39m▇\u001b[34m▅\u001b[39m\u001b[39m▅\u001b[39m▅\u001b[39m▄\u001b[39m▄\u001b[32m▄\u001b[39m\u001b[39m▃\u001b[39m▂\u001b[39m▁\u001b[39m▂\u001b[39m▁\u001b[39m▁\u001b[39m▁\u001b[39m \u001b[39m \u001b[39m \u001b[39m \u001b[39m \u001b[39m \u001b[39m \u001b[39m \u001b[39m \u001b[39m \u001b[39m \u001b[39m \u001b[39m \u001b[39m \u001b[39m \u001b[39m \u001b[39m \u001b[39m \u001b[39m \u001b[39m \u001b[39m \u001b[39m \u001b[39m \u001b[39m \u001b[39m \u001b[39m \u001b[39m \u001b[39m \u001b[39m \u001b[39m \u001b[39m \u001b[39m \u001b[39m \u001b[39m \u001b[39m \u001b[39m \u001b[39m \u001b[39m \u001b[39m \u001b[39m \u001b[39m \u001b[39m \u001b[39m \u001b[39m \u001b[39m \u001b[39m \u001b[39m▂\n",
       "  \u001b[39m█\u001b[39m█\u001b[34m█\u001b[39m\u001b[39m█\u001b[39m█\u001b[39m█\u001b[39m█\u001b[32m█\u001b[39m\u001b[39m█\u001b[39m█\u001b[39m█\u001b[39m█\u001b[39m█\u001b[39m█\u001b[39m█\u001b[39m█\u001b[39m█\u001b[39m▇\u001b[39m▆\u001b[39m▇\u001b[39m▇\u001b[39m▅\u001b[39m▇\u001b[39m▆\u001b[39m▆\u001b[39m▅\u001b[39m▅\u001b[39m▄\u001b[39m▆\u001b[39m▅\u001b[39m▅\u001b[39m▆\u001b[39m▅\u001b[39m▄\u001b[39m▅\u001b[39m▆\u001b[39m▅\u001b[39m▅\u001b[39m▅\u001b[39m▃\u001b[39m▄\u001b[39m▅\u001b[39m▄\u001b[39m▅\u001b[39m▃\u001b[39m▄\u001b[39m▁\u001b[39m▃\u001b[39m▅\u001b[39m▃\u001b[39m▄\u001b[39m▄\u001b[39m▁\u001b[39m▃\u001b[39m▄\u001b[39m▄\u001b[39m▃\u001b[39m▁\u001b[39m▁\u001b[39m▄\u001b[39m \u001b[39m█\n",
       "  34 μs\u001b[90m         \u001b[39m\u001b[90mHistogram: \u001b[39m\u001b[90m\u001b[1mlog(\u001b[22m\u001b[39m\u001b[90mfrequency\u001b[39m\u001b[90m\u001b[1m)\u001b[22m\u001b[39m\u001b[90m by time\u001b[39m       376 μs \u001b[0m\u001b[1m<\u001b[22m\n",
       "\n",
       " Memory estimate\u001b[90m: \u001b[39m\u001b[33m93.75 KiB\u001b[39m, allocs estimate\u001b[90m: \u001b[39m\u001b[33m1000\u001b[39m."
      ]
     },
     "execution_count": 60,
     "metadata": {},
     "output_type": "execute_result"
    }
   ],
   "source": [
    "@benchmark f_immutable()"
   ]
  },
  {
   "cell_type": "code",
   "execution_count": 61,
   "metadata": {},
   "outputs": [
    {
     "data": {
      "text/plain": [
       "f_mutable (generic function with 1 method)"
      ]
     },
     "execution_count": 61,
     "metadata": {},
     "output_type": "execute_result"
    }
   ],
   "source": [
    "function f_mutable()\n",
    "    for i ∈ 1:1_000\n",
    "        x = MyImmutable([rand(Int), rand(Int)])\n",
    "    end\n",
    "    return nothing\n",
    "end"
   ]
  },
  {
   "cell_type": "code",
   "execution_count": 62,
   "metadata": {},
   "outputs": [
    {
     "data": {
      "text/plain": [
       "BenchmarkTools.Trial: 10000 samples with 1 evaluation.\n",
       " Range \u001b[90m(\u001b[39m\u001b[36m\u001b[1mmin\u001b[22m\u001b[39m … \u001b[35mmax\u001b[39m\u001b[90m):  \u001b[39m\u001b[36m\u001b[1m33.700 μs\u001b[22m\u001b[39m … \u001b[35m 12.811 ms\u001b[39m  \u001b[90m┊\u001b[39m GC \u001b[90m(\u001b[39mmin … max\u001b[90m): \u001b[39m 0.00% … 99.55%\n",
       " Time  \u001b[90m(\u001b[39m\u001b[34m\u001b[1mmedian\u001b[22m\u001b[39m\u001b[90m):     \u001b[39m\u001b[34m\u001b[1m39.100 μs               \u001b[22m\u001b[39m\u001b[90m┊\u001b[39m GC \u001b[90m(\u001b[39mmedian\u001b[90m):    \u001b[39m 0.00%\n",
       " Time  \u001b[90m(\u001b[39m\u001b[32m\u001b[1mmean\u001b[22m\u001b[39m ± \u001b[32mσ\u001b[39m\u001b[90m):   \u001b[39m\u001b[32m\u001b[1m62.440 μs\u001b[22m\u001b[39m ± \u001b[32m320.505 μs\u001b[39m  \u001b[90m┊\u001b[39m GC \u001b[90m(\u001b[39mmean ± σ\u001b[90m):  \u001b[39m18.39% ±  3.71%\n",
       "\n",
       "  \u001b[39m█\u001b[39m█\u001b[34m▆\u001b[39m\u001b[39m▆\u001b[39m▄\u001b[39m▄\u001b[39m▃\u001b[39m▄\u001b[39m▄\u001b[39m▃\u001b[39m▃\u001b[32m▃\u001b[39m\u001b[39m▂\u001b[39m▁\u001b[39m▂\u001b[39m▂\u001b[39m▃\u001b[39m▁\u001b[39m▁\u001b[39m \u001b[39m \u001b[39m \u001b[39m \u001b[39m \u001b[39m \u001b[39m \u001b[39m \u001b[39m \u001b[39m \u001b[39m \u001b[39m \u001b[39m \u001b[39m \u001b[39m \u001b[39m \u001b[39m \u001b[39m \u001b[39m \u001b[39m \u001b[39m \u001b[39m \u001b[39m \u001b[39m \u001b[39m \u001b[39m \u001b[39m \u001b[39m \u001b[39m \u001b[39m \u001b[39m \u001b[39m \u001b[39m \u001b[39m \u001b[39m \u001b[39m \u001b[39m \u001b[39m \u001b[39m \u001b[39m \u001b[39m \u001b[39m \u001b[39m▂\n",
       "  \u001b[39m█\u001b[39m█\u001b[34m█\u001b[39m\u001b[39m█\u001b[39m█\u001b[39m█\u001b[39m█\u001b[39m█\u001b[39m█\u001b[39m█\u001b[39m█\u001b[32m█\u001b[39m\u001b[39m█\u001b[39m█\u001b[39m█\u001b[39m█\u001b[39m█\u001b[39m█\u001b[39m█\u001b[39m█\u001b[39m█\u001b[39m▇\u001b[39m▆\u001b[39m▇\u001b[39m▅\u001b[39m▆\u001b[39m▇\u001b[39m▆\u001b[39m▇\u001b[39m▇\u001b[39m▆\u001b[39m▆\u001b[39m▆\u001b[39m▆\u001b[39m▄\u001b[39m▆\u001b[39m▄\u001b[39m▅\u001b[39m▆\u001b[39m▄\u001b[39m▄\u001b[39m▄\u001b[39m▅\u001b[39m▆\u001b[39m▃\u001b[39m▄\u001b[39m▄\u001b[39m▄\u001b[39m▃\u001b[39m▄\u001b[39m▄\u001b[39m▃\u001b[39m▄\u001b[39m▅\u001b[39m▂\u001b[39m▅\u001b[39m▄\u001b[39m▃\u001b[39m▄\u001b[39m▅\u001b[39m \u001b[39m█\n",
       "  33.7 μs\u001b[90m       \u001b[39m\u001b[90mHistogram: \u001b[39m\u001b[90m\u001b[1mlog(\u001b[22m\u001b[39m\u001b[90mfrequency\u001b[39m\u001b[90m\u001b[1m)\u001b[22m\u001b[39m\u001b[90m by time\u001b[39m       194 μs \u001b[0m\u001b[1m<\u001b[22m\n",
       "\n",
       " Memory estimate\u001b[90m: \u001b[39m\u001b[33m93.75 KiB\u001b[39m, allocs estimate\u001b[90m: \u001b[39m\u001b[33m1000\u001b[39m."
      ]
     },
     "execution_count": 62,
     "metadata": {},
     "output_type": "execute_result"
    }
   ],
   "source": [
    "@benchmark f_mutable()"
   ]
  },
  {
   "cell_type": "code",
   "execution_count": 63,
   "metadata": {},
   "outputs": [
    {
     "data": {
      "text/plain": [
       "f_sarray (generic function with 1 method)"
      ]
     },
     "execution_count": 63,
     "metadata": {},
     "output_type": "execute_result"
    }
   ],
   "source": [
    "function f_sarray()\n",
    "    for i ∈ 1:1_000\n",
    "        x = MySArray(SVector(rand(Int), rand(Int)))\n",
    "    end\n",
    "    return nothing\n",
    "end"
   ]
  },
  {
   "cell_type": "code",
   "execution_count": 64,
   "metadata": {},
   "outputs": [
    {
     "data": {
      "text/plain": [
       "BenchmarkTools.Trial: 10000 samples with 4 evaluations.\n",
       " Range \u001b[90m(\u001b[39m\u001b[36m\u001b[1mmin\u001b[22m\u001b[39m … \u001b[35mmax\u001b[39m\u001b[90m):  \u001b[39m\u001b[36m\u001b[1m7.125 μs\u001b[22m\u001b[39m … \u001b[35m241.425 μs\u001b[39m  \u001b[90m┊\u001b[39m GC \u001b[90m(\u001b[39mmin … max\u001b[90m): \u001b[39m0.00% … 0.00%\n",
       " Time  \u001b[90m(\u001b[39m\u001b[34m\u001b[1mmedian\u001b[22m\u001b[39m\u001b[90m):     \u001b[39m\u001b[34m\u001b[1m7.575 μs               \u001b[22m\u001b[39m\u001b[90m┊\u001b[39m GC \u001b[90m(\u001b[39mmedian\u001b[90m):    \u001b[39m0.00%\n",
       " Time  \u001b[90m(\u001b[39m\u001b[32m\u001b[1mmean\u001b[22m\u001b[39m ± \u001b[32mσ\u001b[39m\u001b[90m):   \u001b[39m\u001b[32m\u001b[1m8.458 μs\u001b[22m\u001b[39m ± \u001b[32m  4.772 μs\u001b[39m  \u001b[90m┊\u001b[39m GC \u001b[90m(\u001b[39mmean ± σ\u001b[90m):  \u001b[39m0.00% ± 0.00%\n",
       "\n",
       "  \u001b[39m▁\u001b[39m█\u001b[34m▇\u001b[39m\u001b[39m▁\u001b[39m \u001b[39m▃\u001b[32m▂\u001b[39m\u001b[39m \u001b[39m \u001b[39m \u001b[39m \u001b[39m \u001b[39m \u001b[39m \u001b[39m \u001b[39m \u001b[39m▁\u001b[39m \u001b[39m \u001b[39m \u001b[39m \u001b[39m \u001b[39m \u001b[39m \u001b[39m \u001b[39m \u001b[39m \u001b[39m \u001b[39m \u001b[39m \u001b[39m \u001b[39m \u001b[39m \u001b[39m \u001b[39m \u001b[39m \u001b[39m \u001b[39m \u001b[39m \u001b[39m \u001b[39m \u001b[39m \u001b[39m \u001b[39m \u001b[39m \u001b[39m \u001b[39m \u001b[39m \u001b[39m \u001b[39m \u001b[39m \u001b[39m \u001b[39m \u001b[39m \u001b[39m \u001b[39m \u001b[39m \u001b[39m \u001b[39m \u001b[39m \u001b[39m▁\n",
       "  \u001b[39m█\u001b[39m█\u001b[34m█\u001b[39m\u001b[39m█\u001b[39m█\u001b[39m█\u001b[32m█\u001b[39m\u001b[39m█\u001b[39m▇\u001b[39m▇\u001b[39m▆\u001b[39m▇\u001b[39m▇\u001b[39m█\u001b[39m█\u001b[39m█\u001b[39m█\u001b[39m█\u001b[39m█\u001b[39m█\u001b[39m█\u001b[39m▇\u001b[39m█\u001b[39m▇\u001b[39m▇\u001b[39m█\u001b[39m▇\u001b[39m▇\u001b[39m▆\u001b[39m▅\u001b[39m▅\u001b[39m▄\u001b[39m▄\u001b[39m▅\u001b[39m▄\u001b[39m▆\u001b[39m▅\u001b[39m▅\u001b[39m▅\u001b[39m▅\u001b[39m▆\u001b[39m▄\u001b[39m▂\u001b[39m▃\u001b[39m▃\u001b[39m▄\u001b[39m▃\u001b[39m▄\u001b[39m▃\u001b[39m▃\u001b[39m▃\u001b[39m▄\u001b[39m▃\u001b[39m▃\u001b[39m▃\u001b[39m▄\u001b[39m▂\u001b[39m▃\u001b[39m▃\u001b[39m \u001b[39m█\n",
       "  7.12 μs\u001b[90m      \u001b[39m\u001b[90mHistogram: \u001b[39m\u001b[90m\u001b[1mlog(\u001b[22m\u001b[39m\u001b[90mfrequency\u001b[39m\u001b[90m\u001b[1m)\u001b[22m\u001b[39m\u001b[90m by time\u001b[39m      21.4 μs \u001b[0m\u001b[1m<\u001b[22m\n",
       "\n",
       " Memory estimate\u001b[90m: \u001b[39m\u001b[33m0 bytes\u001b[39m, allocs estimate\u001b[90m: \u001b[39m\u001b[33m0\u001b[39m."
      ]
     },
     "execution_count": 64,
     "metadata": {},
     "output_type": "execute_result"
    }
   ],
   "source": [
    "@benchmark f_sarray()"
   ]
  },
  {
   "cell_type": "markdown",
   "metadata": {},
   "source": [
    "### Operações"
   ]
  },
  {
   "cell_type": "code",
   "execution_count": 65,
   "metadata": {},
   "outputs": [
    {
     "data": {
      "text/plain": [
       "mean_meu_tipo (generic function with 1 method)"
      ]
     },
     "execution_count": 65,
     "metadata": {},
     "output_type": "execute_result"
    }
   ],
   "source": [
    "function mean_meu_tipo(m::MeuTipo)\n",
    "    return mean(m.x)\n",
    "end"
   ]
  },
  {
   "cell_type": "code",
   "execution_count": 66,
   "metadata": {},
   "outputs": [
    {
     "data": {
      "text/plain": [
       "BenchmarkTools.Trial: 10000 samples with 991 evaluations.\n",
       " Range \u001b[90m(\u001b[39m\u001b[36m\u001b[1mmin\u001b[22m\u001b[39m … \u001b[35mmax\u001b[39m\u001b[90m):  \u001b[39m\u001b[36m\u001b[1m45.510 ns\u001b[22m\u001b[39m … \u001b[35m 11.848 μs\u001b[39m  \u001b[90m┊\u001b[39m GC \u001b[90m(\u001b[39mmin … max\u001b[90m): \u001b[39m 0.00% … 99.29%\n",
       " Time  \u001b[90m(\u001b[39m\u001b[34m\u001b[1mmedian\u001b[22m\u001b[39m\u001b[90m):     \u001b[39m\u001b[34m\u001b[1m49.647 ns               \u001b[22m\u001b[39m\u001b[90m┊\u001b[39m GC \u001b[90m(\u001b[39mmedian\u001b[90m):    \u001b[39m 0.00%\n",
       " Time  \u001b[90m(\u001b[39m\u001b[32m\u001b[1mmean\u001b[22m\u001b[39m ± \u001b[32mσ\u001b[39m\u001b[90m):   \u001b[39m\u001b[32m\u001b[1m77.758 ns\u001b[22m\u001b[39m ± \u001b[32m310.580 ns\u001b[39m  \u001b[90m┊\u001b[39m GC \u001b[90m(\u001b[39mmean ± σ\u001b[90m):  \u001b[39m14.33% ±  3.69%\n",
       "\n",
       "  \u001b[39m█\u001b[34m▆\u001b[39m\u001b[39m▄\u001b[39m▃\u001b[39m▁\u001b[39m▃\u001b[39m▄\u001b[39m▃\u001b[32m▂\u001b[39m\u001b[39m▂\u001b[39m▁\u001b[39m▂\u001b[39m▂\u001b[39m▁\u001b[39m▁\u001b[39m \u001b[39m▁\u001b[39m \u001b[39m \u001b[39m \u001b[39m \u001b[39m \u001b[39m \u001b[39m \u001b[39m \u001b[39m \u001b[39m \u001b[39m \u001b[39m \u001b[39m \u001b[39m \u001b[39m \u001b[39m \u001b[39m \u001b[39m \u001b[39m \u001b[39m \u001b[39m \u001b[39m \u001b[39m \u001b[39m \u001b[39m \u001b[39m \u001b[39m \u001b[39m \u001b[39m \u001b[39m \u001b[39m \u001b[39m \u001b[39m \u001b[39m \u001b[39m \u001b[39m \u001b[39m \u001b[39m \u001b[39m \u001b[39m \u001b[39m \u001b[39m \u001b[39m \u001b[39m \u001b[39m▁\n",
       "  \u001b[39m█\u001b[34m█\u001b[39m\u001b[39m█\u001b[39m█\u001b[39m█\u001b[39m█\u001b[39m█\u001b[39m█\u001b[32m█\u001b[39m\u001b[39m█\u001b[39m█\u001b[39m█\u001b[39m█\u001b[39m█\u001b[39m█\u001b[39m█\u001b[39m█\u001b[39m█\u001b[39m█\u001b[39m▇\u001b[39m▇\u001b[39m▇\u001b[39m▇\u001b[39m▆\u001b[39m▆\u001b[39m▆\u001b[39m▅\u001b[39m▅\u001b[39m▄\u001b[39m▅\u001b[39m▅\u001b[39m▅\u001b[39m▅\u001b[39m▄\u001b[39m▅\u001b[39m▅\u001b[39m▅\u001b[39m▅\u001b[39m▃\u001b[39m▄\u001b[39m▄\u001b[39m▅\u001b[39m▄\u001b[39m▄\u001b[39m▅\u001b[39m▅\u001b[39m▄\u001b[39m▄\u001b[39m▄\u001b[39m▃\u001b[39m▄\u001b[39m▃\u001b[39m▄\u001b[39m▄\u001b[39m▄\u001b[39m▃\u001b[39m▃\u001b[39m▄\u001b[39m▃\u001b[39m▄\u001b[39m \u001b[39m█\n",
       "  45.5 ns\u001b[90m       \u001b[39m\u001b[90mHistogram: \u001b[39m\u001b[90m\u001b[1mlog(\u001b[22m\u001b[39m\u001b[90mfrequency\u001b[39m\u001b[90m\u001b[1m)\u001b[22m\u001b[39m\u001b[90m by time\u001b[39m       276 ns \u001b[0m\u001b[1m<\u001b[22m\n",
       "\n",
       " Memory estimate\u001b[90m: \u001b[39m\u001b[33m96 bytes\u001b[39m, allocs estimate\u001b[90m: \u001b[39m\u001b[33m1\u001b[39m."
      ]
     },
     "execution_count": 66,
     "metadata": {},
     "output_type": "execute_result"
    }
   ],
   "source": [
    "@benchmark mean_meu_tipo(MyImmutable([rand(Int), rand(Int)]))"
   ]
  },
  {
   "cell_type": "code",
   "execution_count": 67,
   "metadata": {},
   "outputs": [
    {
     "data": {
      "text/plain": [
       "BenchmarkTools.Trial: 10000 samples with 991 evaluations.\n",
       " Range \u001b[90m(\u001b[39m\u001b[36m\u001b[1mmin\u001b[22m\u001b[39m … \u001b[35mmax\u001b[39m\u001b[90m):  \u001b[39m\u001b[36m\u001b[1m45.005 ns\u001b[22m\u001b[39m … \u001b[35m  8.180 μs\u001b[39m  \u001b[90m┊\u001b[39m GC \u001b[90m(\u001b[39mmin … max\u001b[90m): \u001b[39m 0.00% … 98.79%\n",
       " Time  \u001b[90m(\u001b[39m\u001b[34m\u001b[1mmedian\u001b[22m\u001b[39m\u001b[90m):     \u001b[39m\u001b[34m\u001b[1m49.041 ns               \u001b[22m\u001b[39m\u001b[90m┊\u001b[39m GC \u001b[90m(\u001b[39mmedian\u001b[90m):    \u001b[39m 0.00%\n",
       " Time  \u001b[90m(\u001b[39m\u001b[32m\u001b[1mmean\u001b[22m\u001b[39m ± \u001b[32mσ\u001b[39m\u001b[90m):   \u001b[39m\u001b[32m\u001b[1m70.854 ns\u001b[22m\u001b[39m ± \u001b[32m259.556 ns\u001b[39m  \u001b[90m┊\u001b[39m GC \u001b[90m(\u001b[39mmean ± σ\u001b[90m):  \u001b[39m13.24% ±  3.69%\n",
       "\n",
       "  \u001b[39m▆\u001b[34m█\u001b[39m\u001b[39m▅\u001b[39m▄\u001b[39m▃\u001b[39m▂\u001b[39m▁\u001b[39m▁\u001b[39m▄\u001b[32m▄\u001b[39m\u001b[39m▂\u001b[39m▂\u001b[39m▁\u001b[39m▁\u001b[39m \u001b[39m▁\u001b[39m▃\u001b[39m▂\u001b[39m▁\u001b[39m▁\u001b[39m \u001b[39m \u001b[39m \u001b[39m \u001b[39m \u001b[39m \u001b[39m \u001b[39m \u001b[39m \u001b[39m \u001b[39m \u001b[39m \u001b[39m \u001b[39m \u001b[39m \u001b[39m \u001b[39m \u001b[39m \u001b[39m \u001b[39m \u001b[39m \u001b[39m \u001b[39m \u001b[39m \u001b[39m \u001b[39m \u001b[39m \u001b[39m \u001b[39m \u001b[39m \u001b[39m \u001b[39m \u001b[39m \u001b[39m \u001b[39m \u001b[39m \u001b[39m \u001b[39m \u001b[39m \u001b[39m \u001b[39m \u001b[39m▂\n",
       "  \u001b[39m█\u001b[34m█\u001b[39m\u001b[39m█\u001b[39m█\u001b[39m█\u001b[39m█\u001b[39m█\u001b[39m█\u001b[39m█\u001b[32m█\u001b[39m\u001b[39m█\u001b[39m█\u001b[39m█\u001b[39m█\u001b[39m▇\u001b[39m█\u001b[39m█\u001b[39m█\u001b[39m█\u001b[39m█\u001b[39m█\u001b[39m█\u001b[39m▇\u001b[39m█\u001b[39m▇\u001b[39m▆\u001b[39m▇\u001b[39m▇\u001b[39m▇\u001b[39m▇\u001b[39m▇\u001b[39m▆\u001b[39m▆\u001b[39m▆\u001b[39m▆\u001b[39m▅\u001b[39m▆\u001b[39m▅\u001b[39m▅\u001b[39m▅\u001b[39m▅\u001b[39m▅\u001b[39m▅\u001b[39m▆\u001b[39m▄\u001b[39m▅\u001b[39m▄\u001b[39m▄\u001b[39m▄\u001b[39m▄\u001b[39m▁\u001b[39m▄\u001b[39m▄\u001b[39m▁\u001b[39m▄\u001b[39m▄\u001b[39m▅\u001b[39m▄\u001b[39m▁\u001b[39m▃\u001b[39m \u001b[39m█\n",
       "  45 ns\u001b[90m         \u001b[39m\u001b[90mHistogram: \u001b[39m\u001b[90m\u001b[1mlog(\u001b[22m\u001b[39m\u001b[90mfrequency\u001b[39m\u001b[90m\u001b[1m)\u001b[22m\u001b[39m\u001b[90m by time\u001b[39m       210 ns \u001b[0m\u001b[1m<\u001b[22m\n",
       "\n",
       " Memory estimate\u001b[90m: \u001b[39m\u001b[33m96 bytes\u001b[39m, allocs estimate\u001b[90m: \u001b[39m\u001b[33m1\u001b[39m."
      ]
     },
     "execution_count": 67,
     "metadata": {},
     "output_type": "execute_result"
    }
   ],
   "source": [
    "@benchmark mean_meu_tipo(MyMutable([rand(Int), rand(Int)]))"
   ]
  },
  {
   "cell_type": "code",
   "execution_count": 68,
   "metadata": {},
   "outputs": [
    {
     "data": {
      "text/plain": [
       "BenchmarkTools.Trial: 10000 samples with 999 evaluations.\n",
       " Range \u001b[90m(\u001b[39m\u001b[36m\u001b[1mmin\u001b[22m\u001b[39m … \u001b[35mmax\u001b[39m\u001b[90m):  \u001b[39m\u001b[36m\u001b[1m13.413 ns\u001b[22m\u001b[39m … \u001b[35m 1.730 μs\u001b[39m  \u001b[90m┊\u001b[39m GC \u001b[90m(\u001b[39mmin … max\u001b[90m): \u001b[39m0.00% … 0.00%\n",
       " Time  \u001b[90m(\u001b[39m\u001b[34m\u001b[1mmedian\u001b[22m\u001b[39m\u001b[90m):     \u001b[39m\u001b[34m\u001b[1m14.815 ns              \u001b[22m\u001b[39m\u001b[90m┊\u001b[39m GC \u001b[90m(\u001b[39mmedian\u001b[90m):    \u001b[39m0.00%\n",
       " Time  \u001b[90m(\u001b[39m\u001b[32m\u001b[1mmean\u001b[22m\u001b[39m ± \u001b[32mσ\u001b[39m\u001b[90m):   \u001b[39m\u001b[32m\u001b[1m21.996 ns\u001b[22m\u001b[39m ± \u001b[32m25.554 ns\u001b[39m  \u001b[90m┊\u001b[39m GC \u001b[90m(\u001b[39mmean ± σ\u001b[90m):  \u001b[39m0.00% ± 0.00%\n",
       "\n",
       "  \u001b[39m \u001b[39m█\u001b[34m▆\u001b[39m\u001b[39m \u001b[39m▂\u001b[39m \u001b[39m \u001b[39m \u001b[39m \u001b[39m \u001b[39m \u001b[39m \u001b[39m▄\u001b[32m▄\u001b[39m\u001b[39m \u001b[39m▁\u001b[39m▂\u001b[39m▂\u001b[39m \u001b[39m▁\u001b[39m▁\u001b[39m \u001b[39m \u001b[39m \u001b[39m \u001b[39m \u001b[39m \u001b[39m \u001b[39m \u001b[39m▂\u001b[39m▃\u001b[39m▅\u001b[39m▃\u001b[39m▁\u001b[39m \u001b[39m \u001b[39m \u001b[39m \u001b[39m \u001b[39m \u001b[39m \u001b[39m \u001b[39m \u001b[39m \u001b[39m \u001b[39m \u001b[39m \u001b[39m \u001b[39m \u001b[39m \u001b[39m \u001b[39m \u001b[39m \u001b[39m \u001b[39m \u001b[39m \u001b[39m \u001b[39m \u001b[39m \u001b[39m \u001b[39m▁\n",
       "  \u001b[39m▇\u001b[39m█\u001b[34m█\u001b[39m\u001b[39m▆\u001b[39m█\u001b[39m█\u001b[39m▇\u001b[39m█\u001b[39m▇\u001b[39m▆\u001b[39m▆\u001b[39m▅\u001b[39m█\u001b[32m█\u001b[39m\u001b[39m█\u001b[39m█\u001b[39m█\u001b[39m█\u001b[39m█\u001b[39m█\u001b[39m█\u001b[39m█\u001b[39m█\u001b[39m▇\u001b[39m█\u001b[39m█\u001b[39m█\u001b[39m█\u001b[39m█\u001b[39m█\u001b[39m█\u001b[39m█\u001b[39m█\u001b[39m█\u001b[39m▆\u001b[39m▆\u001b[39m▇\u001b[39m▇\u001b[39m█\u001b[39m▅\u001b[39m▄\u001b[39m▄\u001b[39m▅\u001b[39m▄\u001b[39m▄\u001b[39m▄\u001b[39m▄\u001b[39m▄\u001b[39m▃\u001b[39m▄\u001b[39m▄\u001b[39m▃\u001b[39m▄\u001b[39m▃\u001b[39m▄\u001b[39m▃\u001b[39m▄\u001b[39m▃\u001b[39m▄\u001b[39m \u001b[39m█\n",
       "  13.4 ns\u001b[90m      \u001b[39m\u001b[90mHistogram: \u001b[39m\u001b[90m\u001b[1mlog(\u001b[22m\u001b[39m\u001b[90mfrequency\u001b[39m\u001b[90m\u001b[1m)\u001b[22m\u001b[39m\u001b[90m by time\u001b[39m      53.3 ns \u001b[0m\u001b[1m<\u001b[22m\n",
       "\n",
       " Memory estimate\u001b[90m: \u001b[39m\u001b[33m0 bytes\u001b[39m, allocs estimate\u001b[90m: \u001b[39m\u001b[33m0\u001b[39m."
      ]
     },
     "execution_count": 68,
     "metadata": {},
     "output_type": "execute_result"
    }
   ],
   "source": [
    "@benchmark mean_meu_tipo(MySArray(SVector(rand(Int), rand(Int))))"
   ]
  },
  {
   "cell_type": "markdown",
   "metadata": {},
   "source": [
    "# 4. Desativar checagem de índice em operações com `Array` - `@inbounds`\n",
    "\n",
    "A maioria das ligaugens modernas, poe questões de segurança, garantem que não haverá acesso fora dos elementos de uma array.    \n",
    "<br>\n",
    "Porém, em algumas situações que _performance_ é crítica, você pode remover essa checagem de acesso. \n",
    "<br>\n",
    "Para fazer isso em Juia é só usar o macro `@inbounds`\n",
    "<br>\n",
    ">___Cuidado!!!___ Remover o _bound check_ de Julia é __perigoso__. Se certifique que não está fazendo um loop inseguro antes de usar `@inbounds`"
   ]
  },
  {
   "cell_type": "code",
   "execution_count": 73,
   "metadata": {},
   "outputs": [],
   "source": [
    "array_x = rand(10_000);"
   ]
  },
  {
   "cell_type": "code",
   "execution_count": 74,
   "metadata": {},
   "outputs": [],
   "source": [
    "array_y = rand(10_000);"
   ]
  },
  {
   "cell_type": "code",
   "execution_count": 72,
   "metadata": {},
   "outputs": [
    {
     "data": {
      "text/plain": [
       "inner (generic function with 1 method)"
      ]
     },
     "execution_count": 72,
     "metadata": {},
     "output_type": "execute_result"
    }
   ],
   "source": [
    "function inner(x, y)\n",
    "    s = zero(eltype(x))\n",
    "    for i ∈ eachindex(x)\n",
    "        s += x[i]*y[i]\n",
    "    end\n",
    "    return s\n",
    "end"
   ]
  },
  {
   "cell_type": "code",
   "execution_count": 77,
   "metadata": {},
   "outputs": [
    {
     "data": {
      "text/plain": [
       "BenchmarkTools.Trial: 10000 samples with 1 evaluation.\n",
       " Range \u001b[90m(\u001b[39m\u001b[36m\u001b[1mmin\u001b[22m\u001b[39m … \u001b[35mmax\u001b[39m\u001b[90m):  \u001b[39m\u001b[36m\u001b[1m11.400 μs\u001b[22m\u001b[39m … \u001b[35m450.800 μs\u001b[39m  \u001b[90m┊\u001b[39m GC \u001b[90m(\u001b[39mmin … max\u001b[90m): \u001b[39m0.00% … 0.00%\n",
       " Time  \u001b[90m(\u001b[39m\u001b[34m\u001b[1mmedian\u001b[22m\u001b[39m\u001b[90m):     \u001b[39m\u001b[34m\u001b[1m11.500 μs               \u001b[22m\u001b[39m\u001b[90m┊\u001b[39m GC \u001b[90m(\u001b[39mmedian\u001b[90m):    \u001b[39m0.00%\n",
       " Time  \u001b[90m(\u001b[39m\u001b[32m\u001b[1mmean\u001b[22m\u001b[39m ± \u001b[32mσ\u001b[39m\u001b[90m):   \u001b[39m\u001b[32m\u001b[1m12.363 μs\u001b[22m\u001b[39m ± \u001b[32m 10.201 μs\u001b[39m  \u001b[90m┊\u001b[39m GC \u001b[90m(\u001b[39mmean ± σ\u001b[90m):  \u001b[39m0.00% ± 0.00%\n",
       "\n",
       "  \u001b[34m█\u001b[39m\u001b[39m▄\u001b[39m▃\u001b[32m▁\u001b[39m\u001b[39m▂\u001b[39m▃\u001b[39m▂\u001b[39m▂\u001b[39m▁\u001b[39m \u001b[39m \u001b[39m \u001b[39m \u001b[39m \u001b[39m \u001b[39m \u001b[39m \u001b[39m \u001b[39m \u001b[39m \u001b[39m \u001b[39m \u001b[39m \u001b[39m \u001b[39m \u001b[39m \u001b[39m \u001b[39m \u001b[39m \u001b[39m \u001b[39m \u001b[39m \u001b[39m \u001b[39m \u001b[39m \u001b[39m \u001b[39m \u001b[39m \u001b[39m \u001b[39m \u001b[39m \u001b[39m \u001b[39m \u001b[39m \u001b[39m \u001b[39m \u001b[39m \u001b[39m \u001b[39m \u001b[39m \u001b[39m \u001b[39m \u001b[39m \u001b[39m \u001b[39m \u001b[39m \u001b[39m \u001b[39m \u001b[39m \u001b[39m \u001b[39m \u001b[39m▁\n",
       "  \u001b[34m█\u001b[39m\u001b[39m█\u001b[39m█\u001b[32m█\u001b[39m\u001b[39m█\u001b[39m█\u001b[39m█\u001b[39m█\u001b[39m█\u001b[39m█\u001b[39m█\u001b[39m▇\u001b[39m▅\u001b[39m▆\u001b[39m▇\u001b[39m▆\u001b[39m▆\u001b[39m▄\u001b[39m▅\u001b[39m▅\u001b[39m▅\u001b[39m▅\u001b[39m▅\u001b[39m▅\u001b[39m▅\u001b[39m▄\u001b[39m▄\u001b[39m▄\u001b[39m▄\u001b[39m▄\u001b[39m▃\u001b[39m▃\u001b[39m▁\u001b[39m▄\u001b[39m▁\u001b[39m▃\u001b[39m▃\u001b[39m▄\u001b[39m▁\u001b[39m▃\u001b[39m▄\u001b[39m▃\u001b[39m▁\u001b[39m▁\u001b[39m▃\u001b[39m▁\u001b[39m▄\u001b[39m▄\u001b[39m▁\u001b[39m▄\u001b[39m▁\u001b[39m▃\u001b[39m▁\u001b[39m▃\u001b[39m▁\u001b[39m▃\u001b[39m▄\u001b[39m▅\u001b[39m▄\u001b[39m▅\u001b[39m \u001b[39m█\n",
       "  11.4 μs\u001b[90m       \u001b[39m\u001b[90mHistogram: \u001b[39m\u001b[90m\u001b[1mlog(\u001b[22m\u001b[39m\u001b[90mfrequency\u001b[39m\u001b[90m\u001b[1m)\u001b[22m\u001b[39m\u001b[90m by time\u001b[39m        28 μs \u001b[0m\u001b[1m<\u001b[22m\n",
       "\n",
       " Memory estimate\u001b[90m: \u001b[39m\u001b[33m0 bytes\u001b[39m, allocs estimate\u001b[90m: \u001b[39m\u001b[33m0\u001b[39m."
      ]
     },
     "execution_count": 77,
     "metadata": {},
     "output_type": "execute_result"
    }
   ],
   "source": [
    "@benchmark inner($array_x, $array_y)"
   ]
  },
  {
   "cell_type": "code",
   "execution_count": 78,
   "metadata": {},
   "outputs": [
    {
     "data": {
      "text/plain": [
       "inner_inbound (generic function with 1 method)"
      ]
     },
     "execution_count": 78,
     "metadata": {},
     "output_type": "execute_result"
    }
   ],
   "source": [
    "function inner_inbound(x, y)\n",
    "    s = zero(eltype(x))\n",
    "    for i ∈ eachindex(x)\n",
    "        @inbounds s += x[i]*y[i]\n",
    "    end\n",
    "    return s\n",
    "end"
   ]
  },
  {
   "cell_type": "code",
   "execution_count": 79,
   "metadata": {},
   "outputs": [
    {
     "data": {
      "text/plain": [
       "BenchmarkTools.Trial: 10000 samples with 1 evaluation.\n",
       " Range \u001b[90m(\u001b[39m\u001b[36m\u001b[1mmin\u001b[22m\u001b[39m … \u001b[35mmax\u001b[39m\u001b[90m):  \u001b[39m\u001b[36m\u001b[1m11.400 μs\u001b[22m\u001b[39m … \u001b[35m114.500 μs\u001b[39m  \u001b[90m┊\u001b[39m GC \u001b[90m(\u001b[39mmin … max\u001b[90m): \u001b[39m0.00% … 0.00%\n",
       " Time  \u001b[90m(\u001b[39m\u001b[34m\u001b[1mmedian\u001b[22m\u001b[39m\u001b[90m):     \u001b[39m\u001b[34m\u001b[1m11.500 μs               \u001b[22m\u001b[39m\u001b[90m┊\u001b[39m GC \u001b[90m(\u001b[39mmedian\u001b[90m):    \u001b[39m0.00%\n",
       " Time  \u001b[90m(\u001b[39m\u001b[32m\u001b[1mmean\u001b[22m\u001b[39m ± \u001b[32mσ\u001b[39m\u001b[90m):   \u001b[39m\u001b[32m\u001b[1m12.113 μs\u001b[22m\u001b[39m ± \u001b[32m  3.944 μs\u001b[39m  \u001b[90m┊\u001b[39m GC \u001b[90m(\u001b[39mmean ± σ\u001b[90m):  \u001b[39m0.00% ± 0.00%\n",
       "\n",
       "  \u001b[34m█\u001b[39m\u001b[39m▄\u001b[39m▃\u001b[32m▁\u001b[39m\u001b[39m▁\u001b[39m▃\u001b[39m▂\u001b[39m▂\u001b[39m▁\u001b[39m \u001b[39m▁\u001b[39m \u001b[39m \u001b[39m \u001b[39m \u001b[39m \u001b[39m \u001b[39m \u001b[39m \u001b[39m \u001b[39m \u001b[39m \u001b[39m \u001b[39m \u001b[39m \u001b[39m \u001b[39m \u001b[39m \u001b[39m \u001b[39m \u001b[39m \u001b[39m \u001b[39m \u001b[39m \u001b[39m \u001b[39m \u001b[39m \u001b[39m \u001b[39m \u001b[39m \u001b[39m \u001b[39m \u001b[39m \u001b[39m \u001b[39m \u001b[39m \u001b[39m \u001b[39m \u001b[39m \u001b[39m \u001b[39m \u001b[39m \u001b[39m \u001b[39m \u001b[39m \u001b[39m \u001b[39m \u001b[39m \u001b[39m \u001b[39m \u001b[39m \u001b[39m▁\n",
       "  \u001b[34m█\u001b[39m\u001b[39m█\u001b[39m█\u001b[32m█\u001b[39m\u001b[39m█\u001b[39m█\u001b[39m█\u001b[39m█\u001b[39m█\u001b[39m█\u001b[39m█\u001b[39m▇\u001b[39m▅\u001b[39m▆\u001b[39m▆\u001b[39m▆\u001b[39m▇\u001b[39m▅\u001b[39m▄\u001b[39m▄\u001b[39m▄\u001b[39m▅\u001b[39m▅\u001b[39m▄\u001b[39m▃\u001b[39m▃\u001b[39m▅\u001b[39m▄\u001b[39m▃\u001b[39m▄\u001b[39m▄\u001b[39m▄\u001b[39m▅\u001b[39m▃\u001b[39m▁\u001b[39m▄\u001b[39m▁\u001b[39m▃\u001b[39m▁\u001b[39m▁\u001b[39m▃\u001b[39m▄\u001b[39m▃\u001b[39m▄\u001b[39m▃\u001b[39m▄\u001b[39m▄\u001b[39m▃\u001b[39m▁\u001b[39m▄\u001b[39m▃\u001b[39m▁\u001b[39m▁\u001b[39m▁\u001b[39m▃\u001b[39m▃\u001b[39m▅\u001b[39m▄\u001b[39m▄\u001b[39m▄\u001b[39m \u001b[39m█\n",
       "  11.4 μs\u001b[90m       \u001b[39m\u001b[90mHistogram: \u001b[39m\u001b[90m\u001b[1mlog(\u001b[22m\u001b[39m\u001b[90mfrequency\u001b[39m\u001b[90m\u001b[1m)\u001b[22m\u001b[39m\u001b[90m by time\u001b[39m      27.5 μs \u001b[0m\u001b[1m<\u001b[22m\n",
       "\n",
       " Memory estimate\u001b[90m: \u001b[39m\u001b[33m0 bytes\u001b[39m, allocs estimate\u001b[90m: \u001b[39m\u001b[33m0\u001b[39m."
      ]
     },
     "execution_count": 79,
     "metadata": {},
     "output_type": "execute_result"
    }
   ],
   "source": [
    "@benchmark inner_inbound($array_x, $array_y)"
   ]
  },
  {
   "cell_type": "markdown",
   "metadata": {},
   "source": [
    "# 5. Ativar suporte SIMD em todos os loops `for` (Single Instruction Multiple Data)"
   ]
  },
  {
   "cell_type": "code",
   "execution_count": null,
   "metadata": {},
   "outputs": [],
   "source": []
  },
  {
   "cell_type": "code",
   "execution_count": null,
   "metadata": {},
   "outputs": [],
   "source": []
  },
  {
   "cell_type": "code",
   "execution_count": null,
   "metadata": {},
   "outputs": [],
   "source": []
  }
 ],
 "metadata": {
  "kernelspec": {
   "display_name": "Julia 1.6.3",
   "language": "julia",
   "name": "julia-1.6"
  },
  "language_info": {
   "file_extension": ".jl",
   "mimetype": "application/julia",
   "name": "julia",
   "version": "1.6.3"
  },
  "orig_nbformat": 4
 },
 "nbformat": 4,
 "nbformat_minor": 2
}
