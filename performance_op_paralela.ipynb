{
 "cells": [
  {
   "cell_type": "markdown",
   "metadata": {},
   "source": [
    "# Performance e Operações Paralelas"
   ]
  },
  {
   "cell_type": "code",
   "execution_count": 3,
   "metadata": {},
   "outputs": [],
   "source": [
    "using Pkg\n",
    "\n",
    "using BenchmarkTools\n",
    "using LoopVectorization\n",
    "using Plots\n",
    "using StaticArrays\n",
    "using ThreadsX\n",
    "\n",
    "using CUDA # há vá?!?!\n",
    "\n",
    "using Random: seed!, shuffle\n",
    "using Statistics: mean\n",
    "\n",
    "# Random Seed\n",
    "seed!(123)\n",
    "\n",
    "# Printar cores no terminal\n",
    "using ANSIColoredPrinters"
   ]
  },
  {
   "cell_type": "markdown",
   "metadata": {},
   "source": [
    "# Checklist basico para _performance_\n",
    "\n",
    "1. Arrumar instabilidade de tipo\n",
    "2. Usar variáveis locais ao invés de gloabais\n",
    "3. Deixar tudo imutável se possível\n",
    "4. Desativar checagem de índice em operações com `Array`\n",
    "5. Ativar suporte SIMD em todos os loops `for` (Single Instruction Multiple Data)"
   ]
  },
  {
   "cell_type": "markdown",
   "metadata": {},
   "source": [
    "# 1. Arrumar instabilidade de tipo\n",
    "\n",
    "> Tipo de saída de uma função é __imprevisível__ a partir dos tipos de entradas. Em particular, isso significa que o tipo de saída __pode variar__ dependendo dos valores das entradas."
   ]
  },
  {
   "cell_type": "code",
   "execution_count": 4,
   "metadata": {},
   "outputs": [
    {
     "data": {
      "text/plain": [
       "positivo (generic function with 1 method)"
      ]
     },
     "execution_count": 4,
     "metadata": {},
     "output_type": "execute_result"
    }
   ],
   "source": [
    "function positivo(x)\n",
    "    if x > 0\n",
    "        return x\n",
    "    else\n",
    "        return 0\n",
    "    end\n",
    "end"
   ]
  },
  {
   "cell_type": "markdown",
   "metadata": {},
   "source": [
    "> função com untabilidade de tipo >>> `x` é o que?\n",
    "\n",
    "`@code_warntype` avalia a função como um argumento e prenta um _Abstract Syntax Tree_ (AST)"
   ]
  },
  {
   "cell_type": "code",
   "execution_count": 5,
   "metadata": {},
   "outputs": [
    {
     "name": "stdout",
     "output_type": "stream",
     "text": [
      "Variables\n",
      "  #self#\u001b[36m::Core.Const(positivo)\u001b[39m\n",
      "  x\u001b[36m::Float64\u001b[39m\n",
      "\n",
      "Body\u001b[91m\u001b[1m::Union{Float64, Int64}\u001b[22m\u001b[39m\n",
      "\u001b[90m1 ─\u001b[39m %1 = (x > 0)\u001b[36m::Bool\u001b[39m\n",
      "\u001b[90m└──\u001b[39m      goto #3 if not %1\n",
      "\u001b[90m2 ─\u001b[39m      return x\n",
      "\u001b[90m3 ─\u001b[39m      return 0\n"
     ]
    }
   ],
   "source": [
    "@code_warntype positivo(-3.4)"
   ]
  },
  {
   "cell_type": "markdown",
   "metadata": {},
   "source": [
    "> onde ficou vermelho, tem algum problema de tipo"
   ]
  },
  {
   "cell_type": "markdown",
   "metadata": {},
   "source": [
    "### Arrumando a instabilidade de tipo\n",
    "\n",
    "Anotar os tipos!"
   ]
  },
  {
   "cell_type": "code",
   "execution_count": 6,
   "metadata": {},
   "outputs": [
    {
     "data": {
      "text/plain": [
       "positivo_stabel (generic function with 1 method)"
      ]
     },
     "execution_count": 6,
     "metadata": {},
     "output_type": "execute_result"
    }
   ],
   "source": [
    "function positivo_stabel(x::AbstractFloat)\n",
    "    if x > 0\n",
    "        return x \n",
    "    else\n",
    "        return 0.0\n",
    "    end\n",
    "end"
   ]
  },
  {
   "cell_type": "code",
   "execution_count": 7,
   "metadata": {},
   "outputs": [
    {
     "data": {
      "text/plain": [
       "positivo_stabel (generic function with 2 methods)"
      ]
     },
     "execution_count": 7,
     "metadata": {},
     "output_type": "execute_result"
    }
   ],
   "source": [
    "function positivo_stabel(x::Integer)\n",
    "    if x > 0\n",
    "        return x \n",
    "    else\n",
    "        return 0\n",
    "    end\n",
    "end"
   ]
  },
  {
   "cell_type": "code",
   "execution_count": 8,
   "metadata": {},
   "outputs": [
    {
     "name": "stdout",
     "output_type": "stream",
     "text": [
      "Variables\n",
      "  #self#\u001b[36m::Core.Const(positivo_stabel)\u001b[39m\n",
      "  x\u001b[36m::Float64\u001b[39m\n",
      "\n",
      "Body\u001b[36m::Float64\u001b[39m\n",
      "\u001b[90m1 ─\u001b[39m %1 = (x > 0)\u001b[36m::Bool\u001b[39m\n",
      "\u001b[90m└──\u001b[39m      goto #3 if not %1\n",
      "\u001b[90m2 ─\u001b[39m      return x\n",
      "\u001b[90m3 ─\u001b[39m      return 0.0\n"
     ]
    }
   ],
   "source": [
    "@code_warntype positivo_stabel(-3.4)"
   ]
  },
  {
   "cell_type": "code",
   "execution_count": 9,
   "metadata": {},
   "outputs": [
    {
     "name": "stdout",
     "output_type": "stream",
     "text": [
      "Variables\n",
      "  #self#\u001b[36m::Core.Const(positivo_stabel)\u001b[39m\n",
      "  x\u001b[36m::Int64\u001b[39m\n",
      "\n",
      "Body\u001b[36m::Int64\u001b[39m\n",
      "\u001b[90m1 ─\u001b[39m %1 = (x > 0)\u001b[36m::Bool\u001b[39m\n",
      "\u001b[90m└──\u001b[39m      goto #3 if not %1\n",
      "\u001b[90m2 ─\u001b[39m      return x\n",
      "\u001b[90m3 ─\u001b[39m      return 0\n"
     ]
    }
   ],
   "source": [
    "@code_warntype positivo_stabel(-3)"
   ]
  },
  {
   "cell_type": "markdown",
   "metadata": {},
   "source": [
    "### Pq é importante anotar os tipos?"
   ]
  },
  {
   "cell_type": "code",
   "execution_count": 11,
   "metadata": {},
   "outputs": [],
   "source": [
    "x = rand(1_000);"
   ]
  },
  {
   "cell_type": "code",
   "execution_count": 13,
   "metadata": {},
   "outputs": [
    {
     "data": {
      "text/plain": [
       "BenchmarkTools.Trial: 10000 samples with 10 evaluations.\n",
       " Range \u001b[90m(\u001b[39m\u001b[36m\u001b[1mmin\u001b[22m\u001b[39m … \u001b[35mmax\u001b[39m\u001b[90m):  \u001b[39m\u001b[36m\u001b[1m1.930 μs\u001b[22m\u001b[39m … \u001b[35m 1.357 ms\u001b[39m  \u001b[90m┊\u001b[39m GC \u001b[90m(\u001b[39mmin … max\u001b[90m): \u001b[39m 0.00% … 99.49%\n",
       " Time  \u001b[90m(\u001b[39m\u001b[34m\u001b[1mmedian\u001b[22m\u001b[39m\u001b[90m):     \u001b[39m\u001b[34m\u001b[1m3.980 μs              \u001b[22m\u001b[39m\u001b[90m┊\u001b[39m GC \u001b[90m(\u001b[39mmedian\u001b[90m):    \u001b[39m 0.00%\n",
       " Time  \u001b[90m(\u001b[39m\u001b[32m\u001b[1mmean\u001b[22m\u001b[39m ± \u001b[32mσ\u001b[39m\u001b[90m):   \u001b[39m\u001b[32m\u001b[1m7.814 μs\u001b[22m\u001b[39m ± \u001b[32m37.978 μs\u001b[39m  \u001b[90m┊\u001b[39m GC \u001b[90m(\u001b[39mmean ± σ\u001b[90m):  \u001b[39m17.16% ±  3.58%\n",
       "\n",
       "  \u001b[39m▄\u001b[39m▁\u001b[39m \u001b[39m▆\u001b[39m█\u001b[34m▅\u001b[39m\u001b[39m▃\u001b[39m▃\u001b[39m▃\u001b[39m▃\u001b[39m▂\u001b[39m \u001b[39m \u001b[39m \u001b[32m \u001b[39m\u001b[39m \u001b[39m▄\u001b[39m▃\u001b[39m▄\u001b[39m▅\u001b[39m▃\u001b[39m▂\u001b[39m▁\u001b[39m \u001b[39m \u001b[39m \u001b[39m \u001b[39m \u001b[39m \u001b[39m \u001b[39m \u001b[39m \u001b[39m \u001b[39m \u001b[39m \u001b[39m \u001b[39m \u001b[39m \u001b[39m \u001b[39m \u001b[39m \u001b[39m \u001b[39m \u001b[39m \u001b[39m \u001b[39m \u001b[39m \u001b[39m \u001b[39m \u001b[39m \u001b[39m \u001b[39m \u001b[39m \u001b[39m \u001b[39m \u001b[39m \u001b[39m \u001b[39m \u001b[39m \u001b[39m▁\n",
       "  \u001b[39m█\u001b[39m█\u001b[39m█\u001b[39m█\u001b[39m█\u001b[34m█\u001b[39m\u001b[39m█\u001b[39m█\u001b[39m█\u001b[39m█\u001b[39m█\u001b[39m█\u001b[39m█\u001b[39m▇\u001b[32m▇\u001b[39m\u001b[39m█\u001b[39m█\u001b[39m█\u001b[39m█\u001b[39m█\u001b[39m█\u001b[39m█\u001b[39m█\u001b[39m█\u001b[39m█\u001b[39m█\u001b[39m█\u001b[39m█\u001b[39m█\u001b[39m▇\u001b[39m▇\u001b[39m▇\u001b[39m▇\u001b[39m█\u001b[39m▇\u001b[39m▆\u001b[39m▆\u001b[39m▄\u001b[39m▆\u001b[39m▅\u001b[39m▆\u001b[39m▆\u001b[39m▅\u001b[39m▄\u001b[39m▅\u001b[39m▄\u001b[39m▄\u001b[39m▅\u001b[39m▄\u001b[39m▄\u001b[39m▄\u001b[39m▄\u001b[39m▂\u001b[39m▃\u001b[39m▃\u001b[39m▃\u001b[39m▃\u001b[39m▅\u001b[39m \u001b[39m█\n",
       "  1.93 μs\u001b[90m      \u001b[39m\u001b[90mHistogram: \u001b[39m\u001b[90m\u001b[1mlog(\u001b[22m\u001b[39m\u001b[90mfrequency\u001b[39m\u001b[90m\u001b[1m)\u001b[22m\u001b[39m\u001b[90m by time\u001b[39m     26.5 μs \u001b[0m\u001b[1m<\u001b[22m\n",
       "\n",
       " Memory estimate\u001b[90m: \u001b[39m\u001b[33m8.22 KiB\u001b[39m, allocs estimate\u001b[90m: \u001b[39m\u001b[33m7\u001b[39m."
      ]
     },
     "execution_count": 13,
     "metadata": {},
     "output_type": "execute_result"
    }
   ],
   "source": [
    "@benchmark positivo.($x)"
   ]
  },
  {
   "cell_type": "code",
   "execution_count": 14,
   "metadata": {},
   "outputs": [
    {
     "data": {
      "text/plain": [
       "BenchmarkTools.Trial: 10000 samples with 186 evaluations.\n",
       " Range \u001b[90m(\u001b[39m\u001b[36m\u001b[1mmin\u001b[22m\u001b[39m … \u001b[35mmax\u001b[39m\u001b[90m):  \u001b[39m\u001b[36m\u001b[1m803.763 ns\u001b[22m\u001b[39m … \u001b[35m348.528 μs\u001b[39m  \u001b[90m┊\u001b[39m GC \u001b[90m(\u001b[39mmin … max\u001b[90m): \u001b[39m 0.00% … 96.99%\n",
       " Time  \u001b[90m(\u001b[39m\u001b[34m\u001b[1mmedian\u001b[22m\u001b[39m\u001b[90m):     \u001b[39m\u001b[34m\u001b[1m  1.267 μs               \u001b[22m\u001b[39m\u001b[90m┊\u001b[39m GC \u001b[90m(\u001b[39mmedian\u001b[90m):    \u001b[39m 0.00%\n",
       " Time  \u001b[90m(\u001b[39m\u001b[32m\u001b[1mmean\u001b[22m\u001b[39m ± \u001b[32mσ\u001b[39m\u001b[90m):   \u001b[39m\u001b[32m\u001b[1m  2.478 μs\u001b[22m\u001b[39m ± \u001b[32m  6.365 μs\u001b[39m  \u001b[90m┊\u001b[39m GC \u001b[90m(\u001b[39mmean ± σ\u001b[90m):  \u001b[39m20.15% ± 13.30%\n",
       "\n",
       "  \u001b[39m▇\u001b[34m█\u001b[39m\u001b[39m▆\u001b[39m▄\u001b[39m▃\u001b[32m▃\u001b[39m\u001b[39m▂\u001b[39m▁\u001b[39m▂\u001b[39m▂\u001b[39m▁\u001b[39m▁\u001b[39m \u001b[39m \u001b[39m \u001b[39m \u001b[39m \u001b[39m \u001b[39m \u001b[39m \u001b[39m \u001b[39m \u001b[39m \u001b[39m \u001b[39m \u001b[39m \u001b[39m \u001b[39m \u001b[39m \u001b[39m \u001b[39m \u001b[39m \u001b[39m \u001b[39m \u001b[39m \u001b[39m \u001b[39m \u001b[39m \u001b[39m \u001b[39m \u001b[39m \u001b[39m \u001b[39m \u001b[39m \u001b[39m \u001b[39m \u001b[39m \u001b[39m \u001b[39m \u001b[39m \u001b[39m \u001b[39m \u001b[39m \u001b[39m \u001b[39m \u001b[39m \u001b[39m \u001b[39m \u001b[39m \u001b[39m \u001b[39m \u001b[39m \u001b[39m▁\n",
       "  \u001b[39m█\u001b[34m█\u001b[39m\u001b[39m█\u001b[39m█\u001b[39m█\u001b[32m█\u001b[39m\u001b[39m█\u001b[39m█\u001b[39m█\u001b[39m█\u001b[39m█\u001b[39m█\u001b[39m█\u001b[39m█\u001b[39m█\u001b[39m▇\u001b[39m▇\u001b[39m▆\u001b[39m▅\u001b[39m▆\u001b[39m▆\u001b[39m▇\u001b[39m▆\u001b[39m▅\u001b[39m▅\u001b[39m▅\u001b[39m▅\u001b[39m▅\u001b[39m▄\u001b[39m▆\u001b[39m▆\u001b[39m▆\u001b[39m▆\u001b[39m▅\u001b[39m▅\u001b[39m▆\u001b[39m▆\u001b[39m▆\u001b[39m▆\u001b[39m▅\u001b[39m▅\u001b[39m▅\u001b[39m▄\u001b[39m▅\u001b[39m▅\u001b[39m▄\u001b[39m▅\u001b[39m▅\u001b[39m▅\u001b[39m▅\u001b[39m▄\u001b[39m▅\u001b[39m▅\u001b[39m▅\u001b[39m▃\u001b[39m▃\u001b[39m▃\u001b[39m▃\u001b[39m▄\u001b[39m▃\u001b[39m▃\u001b[39m \u001b[39m█\n",
       "  804 ns\u001b[90m        \u001b[39m\u001b[90mHistogram: \u001b[39m\u001b[90m\u001b[1mlog(\u001b[22m\u001b[39m\u001b[90mfrequency\u001b[39m\u001b[90m\u001b[1m)\u001b[22m\u001b[39m\u001b[90m by time\u001b[39m       21.8 μs \u001b[0m\u001b[1m<\u001b[22m\n",
       "\n",
       " Memory estimate\u001b[90m: \u001b[39m\u001b[33m7.94 KiB\u001b[39m, allocs estimate\u001b[90m: \u001b[39m\u001b[33m1\u001b[39m."
      ]
     },
     "execution_count": 14,
     "metadata": {},
     "output_type": "execute_result"
    }
   ],
   "source": [
    "@benchmark positivo_stabel.($x)"
   ]
  },
  {
   "cell_type": "markdown",
   "metadata": {},
   "source": [
    "### Dicas!\n",
    "\n",
    "Dar preferência para usar __tipos abstrtatos__ ao invés de tipos concretos.\n",
    "\n",
    "`AbstractFlosa` >>> `Float64` or `Float32`  \n",
    "`Integer` >>> `Int128` or `Int64` or `Int342`"
   ]
  },
  {
   "cell_type": "markdown",
   "metadata": {},
   "source": [
    "### Tipos paramétricos\n",
    "\n",
    "São introduzidos com as chaves `{}` e usando palavras-chave `where`"
   ]
  },
  {
   "cell_type": "code",
   "execution_count": 16,
   "metadata": {},
   "outputs": [
    {
     "data": {
      "text/plain": [
       "8-element Vector{Any}:\n",
       " AbstractFloat\n",
       " AbstractIrrational\n",
       " FixedPointNumbers.FixedPoint\n",
       " Integer\n",
       " Rational\n",
       " StatsBase.PValue\n",
       " StatsBase.TestStat\n",
       " VectorizationBase.AbstractSIMD"
      ]
     },
     "execution_count": 16,
     "metadata": {},
     "output_type": "execute_result"
    }
   ],
   "source": [
    "# por exemplo qualquer subtipo de `Real`\n",
    "subtypes(Real)"
   ]
  },
  {
   "cell_type": "code",
   "execution_count": 17,
   "metadata": {},
   "outputs": [
    {
     "data": {
      "text/plain": [
       "positivo_stable2 (generic function with 1 method)"
      ]
     },
     "execution_count": 17,
     "metadata": {},
     "output_type": "execute_result"
    }
   ],
   "source": [
    "function positivo_stable2(x::T) where T <: Real\n",
    "    if x > 0\n",
    "        return x\n",
    "    else\n",
    "        return 0::T\n",
    "    end\n",
    "end"
   ]
  },
  {
   "cell_type": "code",
   "execution_count": 18,
   "metadata": {},
   "outputs": [
    {
     "name": "stdout",
     "output_type": "stream",
     "text": [
      "Variables\n",
      "  #self#\u001b[36m::Core.Const(positivo_stable2)\u001b[39m\n",
      "  x\u001b[36m::Float64\u001b[39m\n",
      "\n",
      "Body\u001b[36m::Float64\u001b[39m\n",
      "\u001b[90m1 ─\u001b[39m %1 = (x > 0)\u001b[36m::Bool\u001b[39m\n",
      "\u001b[90m└──\u001b[39m      goto #3 if not %1\n",
      "\u001b[90m2 ─\u001b[39m      return x\n",
      "\u001b[90m3 ─\u001b[39m      Core.typeassert(0, $(Expr(:static_parameter, 1)))\n",
      "\u001b[90m└──\u001b[39m      Core.Const(:(return %4))\n"
     ]
    }
   ],
   "source": [
    "@code_warntype positivo_stable2(-3.4)"
   ]
  },
  {
   "cell_type": "code",
   "execution_count": 19,
   "metadata": {},
   "outputs": [
    {
     "name": "stdout",
     "output_type": "stream",
     "text": [
      "Variables\n",
      "  #self#\u001b[36m::Core.Const(positivo_stable2)\u001b[39m\n",
      "  x\u001b[36m::Int64\u001b[39m\n",
      "\n",
      "Body\u001b[36m::Int64\u001b[39m\n",
      "\u001b[90m1 ─\u001b[39m %1 = (x > 0)\u001b[36m::Bool\u001b[39m\n",
      "\u001b[90m└──\u001b[39m      goto #3 if not %1\n",
      "\u001b[90m2 ─\u001b[39m      return x\n",
      "\u001b[90m3 ─\u001b[39m %4 = Core.typeassert(0, $(Expr(:static_parameter, 1)))\u001b[36m::Core.Const(0)\u001b[39m\n",
      "\u001b[90m└──\u001b[39m      return %4\n"
     ]
    }
   ],
   "source": [
    "@code_warntype positivo_stable2(-3)"
   ]
  },
  {
   "cell_type": "markdown",
   "metadata": {},
   "source": [
    "### Funciona tambem com `Array`s\n",
    "\n",
    "* `AbstractArray{T, N}` \n",
    "* `AbstractMatrix{T}` atalho para `AbstractArray{T, 2}` \n",
    "* `AbstractVector{T}` atalho para `AbstractArray{T, 1}` "
   ]
  },
  {
   "cell_type": "code",
   "execution_count": 21,
   "metadata": {},
   "outputs": [
    {
     "data": {
      "text/plain": [
       "meus_zeros (generic function with 1 method)"
      ]
     },
     "execution_count": 21,
     "metadata": {},
     "output_type": "execute_result"
    }
   ],
   "source": [
    "# específico para vector\n",
    "function meus_zeros(X::AbstractVector{T}) where T <: Real\n",
    "    return zeros(eltype(x), size(x))    \n",
    "end"
   ]
  },
  {
   "cell_type": "code",
   "execution_count": 22,
   "metadata": {},
   "outputs": [
    {
     "data": {
      "text/plain": [
       "meus_zeros (generic function with 2 methods)"
      ]
     },
     "execution_count": 22,
     "metadata": {},
     "output_type": "execute_result"
    }
   ],
   "source": [
    "# Generalizado para qualquer dimenmção de Array\n",
    "function meus_zeros(X::AbstractArray{T, N}) where T <: Real where N <: Integer\n",
    "    return zeros(eltype(x), size(x))    \n",
    "end"
   ]
  },
  {
   "cell_type": "code",
   "execution_count": 25,
   "metadata": {},
   "outputs": [
    {
     "name": "stdout",
     "output_type": "stream",
     "text": [
      "Variables\n",
      "  #self#\u001b[36m::Core.Const(meus_zeros)\u001b[39m\n",
      "  X\u001b[36m::Vector{Int64}\u001b[39m\n",
      "\n",
      "Body\u001b[91m\u001b[1m::Any\u001b[22m\u001b[39m\n",
      "\u001b[90m1 ─\u001b[39m %1 = Main.eltype(Main.x)\u001b[91m\u001b[1m::Any\u001b[22m\u001b[39m\n",
      "\u001b[90m│  \u001b[39m %2 = Main.size(Main.x)\u001b[91m\u001b[1m::Any\u001b[22m\u001b[39m\n",
      "\u001b[90m│  \u001b[39m %3 = Main.zeros(%1, %2)\u001b[91m\u001b[1m::Any\u001b[22m\u001b[39m\n",
      "\u001b[90m└──\u001b[39m      return %3\n"
     ]
    }
   ],
   "source": [
    "@code_warntype meus_zeros([1, 0, 3])"
   ]
  },
  {
   "cell_type": "markdown",
   "metadata": {},
   "source": [
    "# 2. Usar variáveis locais ao invés de gloabais\n",
    "\n",
    "Com variáveis globais o compilador LLVM tem dificuldades em otimizar o código Assembly"
   ]
  },
  {
   "cell_type": "code",
   "execution_count": 30,
   "metadata": {},
   "outputs": [],
   "source": [
    "# var global \n",
    "x = rand(1_000);"
   ]
  },
  {
   "cell_type": "code",
   "execution_count": 31,
   "metadata": {},
   "outputs": [
    {
     "data": {
      "text/plain": [
       "sum_global (generic function with 1 method)"
      ]
     },
     "execution_count": 31,
     "metadata": {},
     "output_type": "execute_result"
    }
   ],
   "source": [
    "function sum_global()\n",
    "    s = 0.0\n",
    "    for i ∈ x \n",
    "        s += i\n",
    "    end\n",
    "    return s\n",
    "end"
   ]
  },
  {
   "cell_type": "code",
   "execution_count": 32,
   "metadata": {},
   "outputs": [
    {
     "data": {
      "text/plain": [
       "BenchmarkTools.Trial: 10000 samples with 1 evaluation.\n",
       " Range \u001b[90m(\u001b[39m\u001b[36m\u001b[1mmin\u001b[22m\u001b[39m … \u001b[35mmax\u001b[39m\u001b[90m):  \u001b[39m\u001b[36m\u001b[1m 78.300 μs\u001b[22m\u001b[39m … \u001b[35m  5.809 ms\u001b[39m  \u001b[90m┊\u001b[39m GC \u001b[90m(\u001b[39mmin … max\u001b[90m): \u001b[39m0.00% … 97.68%\n",
       " Time  \u001b[90m(\u001b[39m\u001b[34m\u001b[1mmedian\u001b[22m\u001b[39m\u001b[90m):     \u001b[39m\u001b[34m\u001b[1m 80.200 μs               \u001b[22m\u001b[39m\u001b[90m┊\u001b[39m GC \u001b[90m(\u001b[39mmedian\u001b[90m):    \u001b[39m0.00%\n",
       " Time  \u001b[90m(\u001b[39m\u001b[32m\u001b[1mmean\u001b[22m\u001b[39m ± \u001b[32mσ\u001b[39m\u001b[90m):   \u001b[39m\u001b[32m\u001b[1m109.528 μs\u001b[22m\u001b[39m ± \u001b[32m164.077 μs\u001b[39m  \u001b[90m┊\u001b[39m GC \u001b[90m(\u001b[39mmean ± σ\u001b[90m):  \u001b[39m4.20% ±  3.04%\n",
       "\n",
       "  \u001b[34m█\u001b[39m\u001b[39m▄\u001b[39m▂\u001b[39m▁\u001b[39m▂\u001b[39m▁\u001b[39m▁\u001b[32m▂\u001b[39m\u001b[39m▁\u001b[39m \u001b[39m \u001b[39m \u001b[39m \u001b[39m \u001b[39m▃\u001b[39m▁\u001b[39m \u001b[39m \u001b[39m \u001b[39m \u001b[39m \u001b[39m \u001b[39m \u001b[39m \u001b[39m \u001b[39m \u001b[39m \u001b[39m \u001b[39m \u001b[39m \u001b[39m \u001b[39m \u001b[39m \u001b[39m \u001b[39m \u001b[39m \u001b[39m \u001b[39m \u001b[39m \u001b[39m \u001b[39m \u001b[39m \u001b[39m \u001b[39m \u001b[39m \u001b[39m \u001b[39m \u001b[39m \u001b[39m \u001b[39m \u001b[39m \u001b[39m \u001b[39m \u001b[39m \u001b[39m \u001b[39m \u001b[39m \u001b[39m \u001b[39m \u001b[39m \u001b[39m \u001b[39m \u001b[39m▁\n",
       "  \u001b[34m█\u001b[39m\u001b[39m█\u001b[39m█\u001b[39m█\u001b[39m█\u001b[39m█\u001b[39m█\u001b[32m█\u001b[39m\u001b[39m█\u001b[39m█\u001b[39m▇\u001b[39m▇\u001b[39m▇\u001b[39m▇\u001b[39m█\u001b[39m█\u001b[39m▇\u001b[39m▇\u001b[39m█\u001b[39m█\u001b[39m▆\u001b[39m▇\u001b[39m▇\u001b[39m▆\u001b[39m▇\u001b[39m▇\u001b[39m█\u001b[39m▇\u001b[39m▆\u001b[39m▆\u001b[39m▇\u001b[39m▆\u001b[39m▇\u001b[39m▆\u001b[39m▆\u001b[39m▆\u001b[39m▇\u001b[39m▇\u001b[39m▇\u001b[39m▆\u001b[39m▆\u001b[39m▆\u001b[39m▆\u001b[39m▆\u001b[39m▅\u001b[39m▆\u001b[39m▅\u001b[39m▅\u001b[39m▅\u001b[39m▅\u001b[39m▄\u001b[39m▄\u001b[39m▃\u001b[39m▄\u001b[39m▅\u001b[39m▅\u001b[39m▅\u001b[39m▄\u001b[39m▅\u001b[39m▃\u001b[39m▄\u001b[39m \u001b[39m█\n",
       "  78.3 μs\u001b[90m       \u001b[39m\u001b[90mHistogram: \u001b[39m\u001b[90m\u001b[1mlog(\u001b[22m\u001b[39m\u001b[90mfrequency\u001b[39m\u001b[90m\u001b[1m)\u001b[22m\u001b[39m\u001b[90m by time\u001b[39m        361 μs \u001b[0m\u001b[1m<\u001b[22m\n",
       "\n",
       " Memory estimate\u001b[90m: \u001b[39m\u001b[33m70.16 KiB\u001b[39m, allocs estimate\u001b[90m: \u001b[39m\u001b[33m3490\u001b[39m."
      ]
     },
     "execution_count": 32,
     "metadata": {},
     "output_type": "execute_result"
    }
   ],
   "source": [
    "@benchmark sum_global()"
   ]
  },
  {
   "cell_type": "code",
   "execution_count": 33,
   "metadata": {},
   "outputs": [
    {
     "data": {
      "text/plain": [
       "sum_arg (generic function with 1 method)"
      ]
     },
     "execution_count": 33,
     "metadata": {},
     "output_type": "execute_result"
    }
   ],
   "source": [
    "function sum_arg(x)\n",
    "    s = 0.0\n",
    "    for i ∈ x \n",
    "        s += i\n",
    "    end\n",
    "    return s\n",
    "end"
   ]
  },
  {
   "cell_type": "code",
   "execution_count": 34,
   "metadata": {},
   "outputs": [
    {
     "data": {
      "text/plain": [
       "BenchmarkTools.Trial: 10000 samples with 10 evaluations.\n",
       " Range \u001b[90m(\u001b[39m\u001b[36m\u001b[1mmin\u001b[22m\u001b[39m … \u001b[35mmax\u001b[39m\u001b[90m):  \u001b[39m\u001b[36m\u001b[1m1.100 μs\u001b[22m\u001b[39m … \u001b[35m 27.100 μs\u001b[39m  \u001b[90m┊\u001b[39m GC \u001b[90m(\u001b[39mmin … max\u001b[90m): \u001b[39m0.00% … 0.00%\n",
       " Time  \u001b[90m(\u001b[39m\u001b[34m\u001b[1mmedian\u001b[22m\u001b[39m\u001b[90m):     \u001b[39m\u001b[34m\u001b[1m1.110 μs               \u001b[22m\u001b[39m\u001b[90m┊\u001b[39m GC \u001b[90m(\u001b[39mmedian\u001b[90m):    \u001b[39m0.00%\n",
       " Time  \u001b[90m(\u001b[39m\u001b[32m\u001b[1mmean\u001b[22m\u001b[39m ± \u001b[32mσ\u001b[39m\u001b[90m):   \u001b[39m\u001b[32m\u001b[1m1.202 μs\u001b[22m\u001b[39m ± \u001b[32m513.365 ns\u001b[39m  \u001b[90m┊\u001b[39m GC \u001b[90m(\u001b[39mmean ± σ\u001b[90m):  \u001b[39m0.00% ± 0.00%\n",
       "\n",
       "  \u001b[34m█\u001b[39m\u001b[39m▅\u001b[39m▂\u001b[39m▁\u001b[32m \u001b[39m\u001b[39m▃\u001b[39m▃\u001b[39m▃\u001b[39m▁\u001b[39m▁\u001b[39m \u001b[39m \u001b[39m \u001b[39m \u001b[39m \u001b[39m \u001b[39m \u001b[39m \u001b[39m \u001b[39m \u001b[39m \u001b[39m \u001b[39m \u001b[39m \u001b[39m \u001b[39m \u001b[39m \u001b[39m \u001b[39m \u001b[39m \u001b[39m \u001b[39m \u001b[39m \u001b[39m \u001b[39m \u001b[39m \u001b[39m \u001b[39m \u001b[39m \u001b[39m \u001b[39m \u001b[39m \u001b[39m \u001b[39m \u001b[39m \u001b[39m \u001b[39m \u001b[39m \u001b[39m \u001b[39m \u001b[39m \u001b[39m \u001b[39m \u001b[39m \u001b[39m \u001b[39m \u001b[39m \u001b[39m \u001b[39m \u001b[39m \u001b[39m▁\n",
       "  \u001b[34m█\u001b[39m\u001b[39m█\u001b[39m█\u001b[39m█\u001b[32m█\u001b[39m\u001b[39m█\u001b[39m█\u001b[39m█\u001b[39m█\u001b[39m█\u001b[39m█\u001b[39m▇\u001b[39m▇\u001b[39m█\u001b[39m▇\u001b[39m▇\u001b[39m▇\u001b[39m▅\u001b[39m█\u001b[39m█\u001b[39m▅\u001b[39m█\u001b[39m▇\u001b[39m▅\u001b[39m▅\u001b[39m▄\u001b[39m▆\u001b[39m▆\u001b[39m▅\u001b[39m▆\u001b[39m▄\u001b[39m▄\u001b[39m▄\u001b[39m▃\u001b[39m▄\u001b[39m▁\u001b[39m▁\u001b[39m▃\u001b[39m▃\u001b[39m▄\u001b[39m▄\u001b[39m▄\u001b[39m▃\u001b[39m▅\u001b[39m▃\u001b[39m▄\u001b[39m▁\u001b[39m▁\u001b[39m▃\u001b[39m▅\u001b[39m▄\u001b[39m▁\u001b[39m▃\u001b[39m▁\u001b[39m▄\u001b[39m▅\u001b[39m▅\u001b[39m▅\u001b[39m▆\u001b[39m \u001b[39m█\n",
       "  1.1 μs\u001b[90m       \u001b[39m\u001b[90mHistogram: \u001b[39m\u001b[90m\u001b[1mlog(\u001b[22m\u001b[39m\u001b[90mfrequency\u001b[39m\u001b[90m\u001b[1m)\u001b[22m\u001b[39m\u001b[90m by time\u001b[39m      2.76 μs \u001b[0m\u001b[1m<\u001b[22m\n",
       "\n",
       " Memory estimate\u001b[90m: \u001b[39m\u001b[33m0 bytes\u001b[39m, allocs estimate\u001b[90m: \u001b[39m\u001b[33m0\u001b[39m."
      ]
     },
     "execution_count": 34,
     "metadata": {},
     "output_type": "execute_result"
    }
   ],
   "source": [
    "@benchmark sum_arg($x)"
   ]
  },
  {
   "cell_type": "code",
   "execution_count": 35,
   "metadata": {},
   "outputs": [
    {
     "name": "stdout",
     "output_type": "stream",
     "text": [
      "Variables\n",
      "  #self#\u001b[36m::Core.Const(sum_global)\u001b[39m\n",
      "  @_2\u001b[91m\u001b[1m::Any\u001b[22m\u001b[39m\n",
      "  s\u001b[91m\u001b[1m::Any\u001b[22m\u001b[39m\n",
      "  i\u001b[91m\u001b[1m::Any\u001b[22m\u001b[39m\n",
      "\n",
      "Body\u001b[91m\u001b[1m::Any\u001b[22m\u001b[39m\n",
      "\u001b[90m1 ─\u001b[39m       (s = 0.0)\n",
      "\u001b[90m│  \u001b[39m %2  = Main.x\u001b[91m\u001b[1m::Any\u001b[22m\u001b[39m\n",
      "\u001b[90m│  \u001b[39m       (@_2 = Base.iterate(%2))\n",
      "\u001b[90m│  \u001b[39m %4  = (@_2 === nothing)\u001b[36m::Bool\u001b[39m\n",
      "\u001b[90m│  \u001b[39m %5  = Base.not_int(%4)\u001b[36m::Bool\u001b[39m\n",
      "\u001b[90m└──\u001b[39m       goto #4 if not %5\n",
      "\u001b[90m2 ┄\u001b[39m %7  = @_2\u001b[91m\u001b[1m::Any\u001b[22m\u001b[39m\n",
      "\u001b[90m│  \u001b[39m       (i = Core.getfield(%7, 1))\n",
      "\u001b[90m│  \u001b[39m %9  = Core.getfield(%7, 2)\u001b[91m\u001b[1m::Any\u001b[22m\u001b[39m\n",
      "\u001b[90m│  \u001b[39m       (s = s + i)\n",
      "\u001b[90m│  \u001b[39m       (@_2 = Base.iterate(%2, %9))\n",
      "\u001b[90m│  \u001b[39m %12 = (@_2 === nothing)\u001b[36m::Bool\u001b[39m\n",
      "\u001b[90m│  \u001b[39m %13 = Base.not_int(%12)\u001b[36m::Bool\u001b[39m\n",
      "\u001b[90m└──\u001b[39m       goto #4 if not %13\n",
      "\u001b[90m3 ─\u001b[39m       goto #2\n",
      "\u001b[90m4 ┄\u001b[39m       return s\n"
     ]
    }
   ],
   "source": [
    "@code_warntype sum_global()"
   ]
  },
  {
   "cell_type": "code",
   "execution_count": 36,
   "metadata": {},
   "outputs": [
    {
     "name": "stdout",
     "output_type": "stream",
     "text": [
      "Variables\n",
      "  #self#\u001b[36m::Core.Const(sum_arg)\u001b[39m\n",
      "  x\u001b[36m::Vector{Float64}\u001b[39m\n",
      "  @_3\u001b[33m\u001b[1m::Union{Nothing, Tuple{Float64, Int64}}\u001b[22m\u001b[39m\n",
      "  s\u001b[36m::Float64\u001b[39m\n",
      "  i\u001b[36m::Float64\u001b[39m\n",
      "\n",
      "Body\u001b[36m::Float64\u001b[39m\n",
      "\u001b[90m1 ─\u001b[39m       (s = 0.0)\n",
      "\u001b[90m│  \u001b[39m %2  = x\u001b[36m::Vector{Float64}\u001b[39m\n",
      "\u001b[90m│  \u001b[39m       (@_3 = Base.iterate(%2))\n",
      "\u001b[90m│  \u001b[39m %4  = (@_3 === nothing)\u001b[36m::Bool\u001b[39m\n",
      "\u001b[90m│  \u001b[39m %5  = Base.not_int(%4)\u001b[36m::Bool\u001b[39m\n",
      "\u001b[90m└──\u001b[39m       goto #4 if not %5\n",
      "\u001b[90m2 ┄\u001b[39m %7  = @_3::Tuple{Float64, Int64}\u001b[36m::Tuple{Float64, Int64}\u001b[39m\n",
      "\u001b[90m│  \u001b[39m       (i = Core.getfield(%7, 1))\n",
      "\u001b[90m│  \u001b[39m %9  = Core.getfield(%7, 2)\u001b[36m::Int64\u001b[39m\n",
      "\u001b[90m│  \u001b[39m       (s = s + i)\n",
      "\u001b[90m│  \u001b[39m       (@_3 = Base.iterate(%2, %9))\n",
      "\u001b[90m│  \u001b[39m %12 = (@_3 === nothing)\u001b[36m::Bool\u001b[39m\n",
      "\u001b[90m│  \u001b[39m %13 = Base.not_int(%12)\u001b[36m::Bool\u001b[39m\n",
      "\u001b[90m└──\u001b[39m       goto #4 if not %13\n",
      "\u001b[90m3 ─\u001b[39m       goto #2\n",
      "\u001b[90m4 ┄\u001b[39m       return s\n"
     ]
    }
   ],
   "source": [
    "@code_warntype sum_arg(x)"
   ]
  },
  {
   "cell_type": "markdown",
   "metadata": {},
   "source": [
    "## Se tiver de usar variáveis globeis, use `const`"
   ]
  },
  {
   "cell_type": "code",
   "execution_count": 38,
   "metadata": {},
   "outputs": [
    {
     "name": "stderr",
     "output_type": "stream",
     "text": [
      "WARNING: redefinition of constant const_x. This may fail, cause incorrect answers, or produce other errors.\n"
     ]
    }
   ],
   "source": [
    "# var global constante\n",
    "const const_x = rand(1_000);"
   ]
  },
  {
   "cell_type": "code",
   "execution_count": 39,
   "metadata": {},
   "outputs": [
    {
     "data": {
      "text/plain": [
       "sum_const_global (generic function with 1 method)"
      ]
     },
     "execution_count": 39,
     "metadata": {},
     "output_type": "execute_result"
    }
   ],
   "source": [
    "function sum_const_global()\n",
    "    s = 0.0\n",
    "    for i ∈ const_x \n",
    "        s += i\n",
    "    end\n",
    "    return s\n",
    "end"
   ]
  },
  {
   "cell_type": "code",
   "execution_count": 40,
   "metadata": {},
   "outputs": [
    {
     "data": {
      "text/plain": [
       "BenchmarkTools.Trial: 10000 samples with 10 evaluations.\n",
       " Range \u001b[90m(\u001b[39m\u001b[36m\u001b[1mmin\u001b[22m\u001b[39m … \u001b[35mmax\u001b[39m\u001b[90m):  \u001b[39m\u001b[36m\u001b[1m1.100 μs\u001b[22m\u001b[39m … \u001b[35m 15.850 μs\u001b[39m  \u001b[90m┊\u001b[39m GC \u001b[90m(\u001b[39mmin … max\u001b[90m): \u001b[39m0.00% … 0.00%\n",
       " Time  \u001b[90m(\u001b[39m\u001b[34m\u001b[1mmedian\u001b[22m\u001b[39m\u001b[90m):     \u001b[39m\u001b[34m\u001b[1m1.110 μs               \u001b[22m\u001b[39m\u001b[90m┊\u001b[39m GC \u001b[90m(\u001b[39mmedian\u001b[90m):    \u001b[39m0.00%\n",
       " Time  \u001b[90m(\u001b[39m\u001b[32m\u001b[1mmean\u001b[22m\u001b[39m ± \u001b[32mσ\u001b[39m\u001b[90m):   \u001b[39m\u001b[32m\u001b[1m1.177 μs\u001b[22m\u001b[39m ± \u001b[32m422.373 ns\u001b[39m  \u001b[90m┊\u001b[39m GC \u001b[90m(\u001b[39mmean ± σ\u001b[90m):  \u001b[39m0.00% ± 0.00%\n",
       "\n",
       "  \u001b[34m█\u001b[39m\u001b[39m▄\u001b[39m▂\u001b[32m▁\u001b[39m\u001b[39m \u001b[39m▃\u001b[39m▂\u001b[39m▃\u001b[39m▁\u001b[39m \u001b[39m \u001b[39m \u001b[39m \u001b[39m \u001b[39m \u001b[39m \u001b[39m \u001b[39m \u001b[39m \u001b[39m \u001b[39m \u001b[39m \u001b[39m \u001b[39m \u001b[39m \u001b[39m \u001b[39m \u001b[39m \u001b[39m \u001b[39m \u001b[39m \u001b[39m \u001b[39m \u001b[39m \u001b[39m \u001b[39m \u001b[39m \u001b[39m \u001b[39m \u001b[39m \u001b[39m \u001b[39m \u001b[39m \u001b[39m \u001b[39m \u001b[39m \u001b[39m \u001b[39m \u001b[39m \u001b[39m \u001b[39m \u001b[39m \u001b[39m \u001b[39m \u001b[39m \u001b[39m \u001b[39m \u001b[39m \u001b[39m \u001b[39m \u001b[39m▁\n",
       "  \u001b[34m█\u001b[39m\u001b[39m█\u001b[39m█\u001b[32m█\u001b[39m\u001b[39m█\u001b[39m█\u001b[39m█\u001b[39m█\u001b[39m█\u001b[39m█\u001b[39m▆\u001b[39m▆\u001b[39m▆\u001b[39m▇\u001b[39m▇\u001b[39m▆\u001b[39m▄\u001b[39m▃\u001b[39m▃\u001b[39m▄\u001b[39m▅\u001b[39m▃\u001b[39m▃\u001b[39m▃\u001b[39m▄\u001b[39m▃\u001b[39m▃\u001b[39m▁\u001b[39m▃\u001b[39m▁\u001b[39m▄\u001b[39m▃\u001b[39m▁\u001b[39m▁\u001b[39m▃\u001b[39m▁\u001b[39m▃\u001b[39m▁\u001b[39m▃\u001b[39m▁\u001b[39m▃\u001b[39m▃\u001b[39m▁\u001b[39m▁\u001b[39m▄\u001b[39m▄\u001b[39m▃\u001b[39m▃\u001b[39m▁\u001b[39m▃\u001b[39m▁\u001b[39m▄\u001b[39m▃\u001b[39m▃\u001b[39m▅\u001b[39m▅\u001b[39m▅\u001b[39m▆\u001b[39m▆\u001b[39m \u001b[39m█\n",
       "  1.1 μs\u001b[90m       \u001b[39m\u001b[90mHistogram: \u001b[39m\u001b[90m\u001b[1mlog(\u001b[22m\u001b[39m\u001b[90mfrequency\u001b[39m\u001b[90m\u001b[1m)\u001b[22m\u001b[39m\u001b[90m by time\u001b[39m      2.76 μs \u001b[0m\u001b[1m<\u001b[22m\n",
       "\n",
       " Memory estimate\u001b[90m: \u001b[39m\u001b[33m0 bytes\u001b[39m, allocs estimate\u001b[90m: \u001b[39m\u001b[33m0\u001b[39m."
      ]
     },
     "execution_count": 40,
     "metadata": {},
     "output_type": "execute_result"
    }
   ],
   "source": [
    "@benchmark sum_const_global()"
   ]
  },
  {
   "cell_type": "code",
   "execution_count": 41,
   "metadata": {},
   "outputs": [
    {
     "name": "stdout",
     "output_type": "stream",
     "text": [
      "Variables\n",
      "  #self#\u001b[36m::Core.Const(sum_const_global)\u001b[39m\n",
      "  @_2\u001b[33m\u001b[1m::Union{Nothing, Tuple{Float64, Int64}}\u001b[22m\u001b[39m\n",
      "  s\u001b[36m::Float64\u001b[39m\n",
      "  i\u001b[36m::Float64\u001b[39m\n",
      "\n",
      "Body\u001b[36m::Float64\u001b[39m\n",
      "\u001b[90m1 ─\u001b[39m       (s = 0.0)\n",
      "\u001b[90m│  \u001b[39m %2  = Main.const_x\u001b[36m::Core.Const([0.16177249940502847, 0.06470205727455447, 0.22871236376036652, 0.556913457304788, 0.578843623826564, 0.5243372527452201, 0.5123207296427339, 0.8269323285749814, 0.8808212556704482, 0.7988402955861709, 0.5955474189908894, 0.3594057958548704, 0.42909377516866853, 0.2510995943330936, 0.339641850887098, 0.12419283006409554, 0.7716956508831458, 0.204475387594375, 0.8576726775715193, 0.8875257825543101, 0.11095576791526507, 0.9050631317153395, 0.756857868257089, 0.5572430416565493, 0.3422838517212543, 0.4122504738010766, 0.24031751887689712, 0.9628092785912741, 0.6122769927207683, 0.05213547983352762, 0.5832862892557842, 0.3089583085057257, 0.5061622722653056, 0.6571088693831761, 0.3305949639598311, 0.09541141551684529, 0.5749322205555325, 0.41320047819784045, 0.28057866886129257, 0.10079718819188477, 0.15295695330223813, 0.7830842601633716, 0.7992634466097877, 0.7059779136191795, 0.1518879962176567, 0.5526816919460584, 0.5967080425783655, 0.20850735960969047, 0.20441807176890925, 0.7802845586052927, 0.9285850821101904, 0.35801868218666666, 0.8593125685133787, 0.14900206476728273, 0.9658917178950583, 0.6263561450915147, 0.0817627855215668, 0.8851330028278479, 0.3375426954953342, 0.5268792053316094, 0.3569650951872405, 0.15293596320314706, 0.12386113684674305, 0.830564228142366, 0.6544758236361552, 0.5906110461671346, 0.3684078175372254, 0.903398030851104, 0.42314991861252027, 0.6469077646312755, 0.017447707303971605, 0.9369917935412162, 0.5919899968059155, 0.7102579723570774, 0.39728878542572077, 0.9327195250379212, 0.4970548758767399, 0.4654166226693046, 0.7649065741044798, 0.36570853482532106, 0.3515770072647495, 0.21582536270579022, 0.18963731001423256, 0.3020696480303262, 0.41430988846599126, 0.6490767423960488, 0.3017334083818972, 0.8486595783355388, 0.8790379318107946, 0.12981359183987884, 0.11428750382460895, 0.1519496136944587, 0.948232687438826, 0.3915532863826303, 0.8853733837842477, 0.44596278138313505, 0.03594835823479192, 0.2194424350062787, 0.0609139235968259, 0.4937369792588835, 0.6569954317093403, 0.7569046319269397, 0.669445493694591, 0.5102155701819675, 0.4892009337838732, 0.9667696894881197, 0.9129478824840533, 0.005062431576008386, 0.8059967056339719, 0.8837821680430504, 0.3411636417930819, 0.8958116431444987, 0.12148433433384098, 0.7380380657772097, 0.597367778514122, 0.27845499142104435, 0.04460206450185522, 0.26505866224127383, 0.07078576571440665, 0.7026316529681653, 0.9183131785235568, 0.8474268237922746, 0.8242099260158477, 0.5837376444246227, 0.7007717473359669, 0.5347392850598416, 0.27463766620734753, 0.8307015501677171, 0.6455786513514268, 0.0511987163202825, 0.6283648903610661, 0.3512605613873008, 0.12385117979703164, 0.9255462070836782, 0.20096839680476775, 0.6839426493330856, 0.4805814624728406, 0.2207725249224135, 0.2779164447691198, 0.40122853271381964, 0.8077571569259796, 0.6185479182154852, 0.27421600346544195, 0.29572857837850597, 0.5870420861941144, 0.42780672441493417, 0.7757575553915896, 0.6029337919246534, 0.20666206474062765, 0.013516539972010966, 0.2309858015966546, 0.667154373299313, 0.12148192841784966, 0.9264092085407445, 0.9968963981389372, 0.9367183051092951, 0.7174977630874784, 0.3164201821983281, 0.41445011131466347, 0.6689314013027425, 0.555865838598318, 0.16577054498066568, 0.7452290389717162, 0.6643360686585513, 0.9301284542928008, 0.6955231450200701, 0.2570635636457328, 0.33375788978673704, 0.20813144849954845, 0.6353103940087652, 0.6876863762908385, 0.04750216163218868, 0.38489839278057913, 0.8502619946000238, 0.28476427197148135, 0.21592354889273624, 0.4804940243459275, 0.36331968277477533, 0.390577823157799, 0.9099288559473546, 0.16133902173198078, 0.13271618022849574, 0.9649339068879241, 0.4257647666408231, 0.5911533562728386, 0.10855458728333023, 0.1971651836355921, 0.6619565483727003, 0.09418197409086915, 0.4842574719681576, 0.6527729783878791, 0.9381154888968275, 0.9656972122969585, 0.25472218615538833, 0.43599236361205684, 0.30817252422551045, 0.7397401284233036, 0.5766057025954587, 0.9014486371497303, 0.5682593435274124, 0.5775105512813248, 0.43616374298210436, 0.41858685656154493, 0.3139171760471511, 0.8107165877605496, 0.09260172538163047, 0.5551756134535843, 0.48379352042451407, 0.9927143836946788, 0.4708660312385342, 0.5472493477034932, 0.8568009615132275, 0.8992014362833749, 0.24003881141126127, 0.8637948909871593, 0.14589565459090048, 0.5052792189087902, 0.9053547735542955, 0.6883340944357101, 0.24631573978317456, 0.016845901195807755, 0.6319454456790392, 0.45173000632131743, 0.3588164548594637, 0.34659073611265945, 0.3854295714231608, 0.5640793635993191, 0.8539581280302135, 0.08447586918367844, 0.27657921869304936, 0.442821601755617, 0.9352325417904688, 0.9231328518912827, 0.00045933191804103934, 0.27110784545186806, 0.35120706683582537, 0.648769479240829, 0.5618422581197335, 0.3100590572862716, 0.798874762772672, 0.7825954799277215, 0.32733024586861603, 0.7801936184414326, 0.20206825471967838, 0.9456242338241061, 0.7891198013786853, 0.1108199342106071, 0.21837777173377781, 0.7829151886931807, 0.014179266069508811, 0.5877602127978676, 0.46882327549635505, 0.0320056744172621, 0.4251946995928526, 0.05156727717614529, 0.9286505196675763, 0.9536505838447702, 0.32090091708338964, 0.5151936178880179, 0.3285518145755981, 0.4248899404875317, 0.8078027207358589, 0.8856265204625513, 0.7646889869988072, 0.5061208695075434, 0.04053047920874886, 0.23714886303942895, 0.015937370753553948, 0.9223003936320058, 0.31267739973701003, 0.05384520263583026, 0.8540059944209168, 0.915807970812583, 0.18164031066228592, 0.014091451221637463, 0.9984072045085921, 0.7168260705684173, 0.5419995942409177, 0.0635929653241214, 0.04953531473142814, 0.30027832868322846, 0.1652391168823677, 0.6520838325801332, 0.33946769018632006, 0.10642066768759273, 0.8212816338019668, 0.06497508230540006, 0.7813298692180146, 0.7920767867269867, 0.85487379396969, 0.19292235739532582, 0.39868336157516926, 0.4433788757164827, 0.26998198584287225, 0.33180413015201915, 0.45155509636764024, 0.9499410745260524, 0.5254383815663357, 0.886385405860256, 0.558437352536119, 0.8689931006671145, 0.4583189740520428, 0.44072514042213196, 0.6699663871970878, 0.2540090048850374, 0.712558142720501, 0.012734641435042215, 0.7130491376112074, 0.701815763870032, 0.43787671654514293, 0.3824388910381735, 0.62731241275919, 0.543095178022629, 0.9506201164078456, 0.8472851842037348, 0.7990977501441767, 0.3253018038573141, 0.06974598277222155, 0.2069639039425124, 0.8975209433564209, 0.06382687930713726, 0.19984329465513606, 0.7466965108093353, 0.3196599335634256, 0.2587911806892127, 0.9597826329041153, 0.2983272589768593, 0.18036470555050643, 0.70156649257862, 0.9354749834913416, 0.24728728583406245, 0.3296095117177542, 0.9278227359605664, 0.4014978390659034, 0.195915425547448, 0.888959303538684, 0.7597459203154953, 0.3975118153346717, 0.24623745568748445, 0.739799892478217, 0.5789635553440844, 0.3859258714753877, 0.6776863644772384, 0.0649080301672893, 0.7380271326331043, 0.7049109332862875, 0.3825301129663401, 0.6992479328948322, 0.21353453317911764, 0.06611573438015794, 0.04560221562141509, 0.11294454001003662, 0.7963033369732806, 0.5666728875477218, 0.09738832113983831, 0.5575328819331342, 0.3910528943297882, 0.8068665264848849, 0.8962884672245146, 0.165854483849335, 0.8505831810877149, 0.5754677106107269, 0.1396005094109578, 0.18273321091999706, 0.31018518374469983, 0.9891208106044849, 0.25607252611709663, 0.0008806410581871926, 0.7800374687946936, 0.41285390793401144, 0.2467040599094541, 0.49019983257208577, 0.3669170548210232, 0.995860393160872, 0.9501806544096352, 0.8044827676624373, 0.5038992170913326, 0.4456492518532318, 0.7373078942950306, 0.206496723439763, 0.49003091177364966, 0.9702081633637272, 0.26862480716935777, 0.0416164759239217, 0.9838098837399798, 0.520930519433197, 0.9395176075300327, 0.489413640070111, 0.8401020214471322, 0.359240396440887, 0.08422953141570289, 0.41713268758791444, 0.6222478640570848, 0.9906153969492373, 0.7282196126106983, 0.019194739063786992, 0.5239009332373272, 0.22884396425037878, 0.2969347894293617, 0.8236266770744378, 0.006094639055522544, 0.5732429595702278, 0.7011583061934827, 0.9169777513644994, 0.22186622970236103, 0.4472763011972263, 0.15820379265780438, 0.45929277480602915, 0.3270235120417231, 0.8959362726330264, 0.3897409661884559, 0.3507268641456691, 0.4999021775333443, 0.716908064072348, 0.01840984313418037, 0.9990084466318472, 0.6287364309040433, 0.719927078961212, 0.11617149842394703, 0.5198898546161743, 0.04440671040154287, 0.9123928165558377, 0.21874288225275684, 0.7865280513760666, 0.6370755821493965, 0.25165863861407334, 0.24561613930999782, 0.10842371088558345, 0.7280076113180609, 0.6443130381019879, 0.4424389347022428, 0.3811123702133261, 0.6998018174939082, 0.45047957325583776, 0.38598753963478805, 0.8563230381512636, 0.13352180828631544, 0.7511412148115466, 0.03132133371967272, 0.35098155745546, 0.0540125481514564, 0.8567970146136512, 0.19313895325039288, 0.25156609247944006, 0.6718910288756892, 0.5859773058701767, 0.8634990828443656, 0.5316670933768628, 0.23454302328911636, 0.7938152660717155, 0.7149141867488256, 0.40576901052136183, 0.6682514869013729, 0.19544000530439232, 0.4413645788717284, 0.5705687790526202, 0.9556295257321514, 0.4338737207267782, 0.9817027097282076, 0.27758128788290537, 0.8464266552548687, 0.3684342768971136, 0.5959728321695352, 0.31238346150332186, 0.4802045529469514, 0.9609897365854361, 0.12646647334758887, 0.6154595516930905, 0.4297656965145211, 0.1975943136548608, 0.661286408099941, 0.012739998666045915, 0.09859198774272482, 0.7579630564891704, 0.1145415752634591, 0.624854457090553, 0.46992785859416575, 0.11367408884381969, 0.4378557321719918, 0.44642333206693796, 0.8257274239288446, 0.717859413775392, 0.7943992510532487, 0.42401774774972667, 0.846305359995305, 0.6145418691233762, 0.8803127008313938, 0.19162043577883225, 0.06374093614517706, 0.2532192720838995, 0.9350896849192787, 0.6253620366665031, 0.8880659601613083, 0.3889078167400297, 0.79264444477343, 0.2850884236853142, 0.6893250278226921, 0.03393522232957191, 0.37530128739998636, 0.15819481258226542, 0.5639482085264731, 0.45293890146080895, 0.8698515251645196, 0.12999199715221077, 0.10655853114363412, 0.7362545064104997, 0.7634103206462015, 0.5831088742602999, 0.5613205261309298, 0.6592592083084707, 0.4127239130409266, 0.613173124590084, 0.5720796396110452, 0.6027486546799325, 0.38566385345220344, 0.7113634556332975, 0.2976908779366876, 0.5051208019126687, 0.4026345005522063, 0.6049175621439387, 0.4878317199475428, 0.7978773436967697, 0.9817914617826728, 0.427477111168568, 0.1530483264058975, 0.9367204720199578, 0.3713351027976679, 0.22051317302209394, 0.819129340572232, 0.28852556586903244, 0.07480767924629395, 0.9698610692849892, 0.7109754359890053, 0.7728421726062444, 0.17446753329948805, 0.4049534786274267, 0.7583838435404722, 0.40252971850151464, 0.9345142477556287, 0.6022199655052383, 0.373155368127972, 0.9143302818864689, 0.09963920984995567, 0.1376723165849607, 0.8515018943785144, 0.7504301436727534, 0.7381471625078366, 0.5861613360208262, 0.33119701131511303, 0.8682548682813456, 0.4140541377059834, 0.25127989350959434, 0.25738105741763473, 0.18264671000316346, 0.6523110958547824, 0.2920907959451453, 0.9413972698135069, 0.6715839347611643, 0.22134754534044365, 0.8400259068537501, 0.3187426855836375, 0.9205869172891119, 0.5728328415305888, 0.9685513515933561, 0.44594095137958156, 0.33389063743519176, 0.15996378766519648, 0.40446463776361363, 0.8110531492270965, 0.5875845578542478, 0.4714079388105774, 0.6902627321171999, 0.5410497829614762, 0.9765037805731975, 0.2420463038197127, 0.524169051296888, 0.9205360574805717, 0.1771292454384059, 0.9484701675439531, 0.8705429133912226, 0.03642238456920288, 0.1550581861659488, 0.8467538670784429, 0.18940704090563698, 0.9342396211001687, 0.5311827052150906, 0.34431075896445473, 0.39816853437049415, 0.3181619921114043, 0.9721001715884929, 0.16195125046774073, 0.5378969489480991, 0.1006524918024776, 0.8652470301854791, 0.6363261924110377, 0.9273122123172988, 0.2201667079314662, 0.5563544141466179, 0.09212244978896544, 0.9982528730326161, 0.8782560966955089, 0.29166591347866744, 0.1785194819718381, 0.020297373623998638, 0.6305877324454665, 0.7434052905727335, 0.06970578437434449, 0.5609870327201181, 0.253949404797728, 0.5126696894870133, 0.6639855177837675, 0.039410416963555406, 0.4048249911582944, 0.21215633454067606, 0.7192875025785905, 0.3714809754325781, 0.2545058684034698, 0.2712396442100511, 0.29167633789007574, 0.9664622969538097, 0.932055391448001, 0.7229938773900522, 0.506848458261564, 0.7986557471179454, 0.9018757593789704, 0.19416265587128256, 0.7541441719934034, 0.8532209850117523, 0.3078599943700733, 0.18028108795128928, 0.31270787222480045, 0.22472817399269918, 0.061752525080666754, 0.12699402175139074, 0.4650972899814989, 0.022104321734939036, 0.3024922534832226, 0.10688521162128017, 0.4353317882240284, 0.3666178720008122, 0.5795668402547693, 0.9826574154914982, 0.8459238979705148, 0.7826197458049711, 0.2343148380860196, 0.17385586690897248, 0.7413696623529433, 0.8684460675554349, 0.28488284868562097, 0.8166639712995489, 0.38117756789211543, 0.04463776923469176, 0.9359041594251207, 0.739567099583869, 0.2795129604628428, 0.85560629279981, 0.41036237649742957, 0.7243179257757761, 0.650199943240388, 0.11517949240030823, 0.9207329977594534, 0.1796033435402653, 0.15738195364948981, 0.5503778259216052, 0.5362108861525874, 0.805897695652235, 0.5677865471417738, 0.5784924820509363, 0.7400450676111099, 0.6467273487204559, 0.6455752148260967, 0.5483372080739812, 0.9896086352277602, 0.46958174497356864, 0.06933361417090134, 0.08940124496471591, 0.38302365034158226, 0.6953709633057652, 0.30208017865144954, 0.40850434562866544, 0.8478613261909123, 0.16520435720569715, 0.5414660592666358, 0.9938757134556881, 0.09212637827918924, 0.7709566781055894, 0.10836931334383082, 0.8972531670520061, 0.8738831986445792, 0.3136504448338435, 0.12903994379116557, 0.1720985652493423, 0.9758189652047364, 0.6096352448650679, 0.6526729895300747, 0.6713268421187049, 0.39043067369931217, 0.01013276405756125, 0.127929743124098, 0.08836756372607169, 0.7046772644544852, 0.3837039785352119, 0.3104908713302894, 0.31722909537113675, 0.7405724206962194, 0.8529000550491539, 0.7159261774828531, 0.5005708275949019, 0.5879858130240496, 0.8067062870066004, 0.9237211708282935, 0.40987234413590734, 0.30885186870143944, 0.5509862264244123, 0.6507631638932068, 0.10684556967794179, 0.20479413321384587, 0.009744953293029601, 0.42511386751662306, 0.7085411116172238, 0.31210958754552975, 0.9649789658458401, 0.048324122985262896, 0.5470813660742557, 0.9525599862431446, 0.8736700628940997, 0.5534864249749671, 0.01455897060289102, 0.467285436945424, 0.3248363874821667, 0.9940396570486671, 0.724769347092443, 0.6359064479793826, 0.7755019687247786, 0.357099864001966, 0.3262513565350851, 0.1969052921222525, 0.4293893091677914, 0.2651112683201753, 0.05296014140624683, 0.22922962344268738, 0.4288039297378694, 0.9878669418328396, 0.3074147324267176, 0.6708861195756075, 0.6119477918571636, 0.7670213038072775, 0.043135075177436644, 0.17550589648811976, 0.05986106567455174, 0.7424427070737423, 0.41728342190960555, 0.5069082986604587, 0.5316144444495983, 0.4730557844373682, 0.34786801646918164, 0.048022173218273956, 0.7330826309245397, 0.879245361930109, 0.30246344939257663, 0.3461170031159453, 0.8407323686739212, 0.3255533726171722, 0.14399818242927132, 0.6605841521583107, 0.25774452894315747, 0.92700920868962, 0.09300408019209705, 0.7851008663864207, 0.6277514846807684, 0.6284364934054218, 0.3333124709811863, 0.9057147592099182, 0.03444959886694576, 0.33118981933781266, 0.5699919890293932, 0.39007291754843476, 0.00382687481081323, 0.5552894837718461, 0.7813910681330221, 0.9614284144892473, 0.19395199155321108, 0.893758391360775, 0.6506404482012988, 0.7585556673540104, 0.972476292392749, 0.12683891081717724, 0.8455615266809289, 0.4761751224628006, 0.6972598290008793, 0.892773980206351, 0.6646583439744969, 0.8366344167079531, 0.7740478723232376, 0.2822479868662813, 0.09782919959199554, 0.6766839579975055, 0.6674994346998762, 0.40505054578043365, 0.9638364953513683, 0.6754328347366647, 0.36313488990146614, 0.9821614189330321, 0.9893746153156127, 0.7260888480155208, 0.5444101999132238, 0.8274358733393461, 0.4830203557879047, 0.256622216625787, 0.28080996375139167, 0.9851558313857138, 0.5869066557234723, 0.6297105049839622, 0.3992217451463509, 0.3303621252282647, 0.6492194094260118, 0.3957655575863963, 0.36891783151133195, 0.6446163891168659, 0.8423672896765402, 0.26567642287174764, 0.7707849796215158, 0.6504637265216633, 0.3060647966958936, 0.4221759161125369, 0.6756749960415698, 0.043106834083368684, 0.0359481758056408, 0.7466708224482503, 0.8638874559218679, 0.9115328923684489, 0.9840177584272707, 0.280430179520208, 0.7683069627369765, 0.9360985059871081, 0.3941951927442373, 0.28030991420056606, 0.10355111985598908, 0.9653657099932782, 0.8639579731923337, 0.06757298361368447, 0.9366942117442831, 0.16567018266847167, 0.32315212918882463, 0.6690713911856885, 0.8570747282885549, 0.7009347188597506, 0.06961598643491862, 0.34382505387733975, 0.4050067425445687, 0.4069517509035392, 0.6515999744298948, 0.6744639845099247, 0.48680280518117436, 0.19713531237654558, 0.3080563681130286, 0.7033245568198461, 0.6872965871743413, 0.5108721699921297, 0.9744304579350485, 0.22158224336044796, 0.15625489688440708, 0.5738019277775162, 0.9479199951717581, 0.33868387017454804, 0.48981080457001114, 0.8732655427386471, 0.48099779555287747, 0.11206655086175976, 0.4052817882596764, 0.3437247265394885, 0.965609013926457, 0.33963944780943844, 0.9877821335917236, 0.26423160892268416, 0.3765144914245333, 0.8215004605691862, 0.344684873899189, 0.9913039402122175, 0.4299177521646298, 0.500546679471924, 0.006446414467753181, 0.7353237927587604, 0.4842173636971967, 0.5124195293302427, 0.4481827196963344, 0.09350978162970947, 0.4357209796538388, 0.9533818108689258, 0.20311122145895655, 0.3170215803319647, 0.8456979307629451, 0.7746158173798359, 0.8943779198264477, 0.06575240570316176, 0.24791027228882867, 0.30845162152071914, 0.184651043669964, 0.2874935097289033, 0.6962266468061142, 0.9494153054926833, 0.3243639903418063, 0.8195127701434459, 0.4812187757516795, 0.8683800635338266, 0.045142662834422254, 0.11968512616628169, 0.5623054595775541, 0.9726192049086544, 0.6767441346556762, 0.8435089154453883, 0.08363510062685053, 0.5972346955516115, 0.4221731899348269, 0.7363404902150508, 0.33311963610980655, 0.6716650849911545, 0.9610868670611841, 0.2980671996478148, 0.31730033358062193, 0.12087092016891399, 0.6488143118746115, 0.050145713479205156, 0.7569700977392602, 0.09240655201179737, 0.4411994372511514, 0.07149081016106074, 0.8540806633753055, 0.7338997708750912, 0.5341879127726585, 0.12600046131192943, 0.08668022976625278, 0.766919801346797, 0.10531447547384931, 0.13882121315351315, 0.6090217303709031, 0.3112462926771491, 0.3615646211200878, 0.7938150784139284, 0.1351994046067082, 0.1270737030552802, 0.5748038411965755, 0.41635594512121377, 0.18907172357710356, 0.3011911243890446, 0.8895685684933052, 0.7452368062785837, 0.5625136103434953, 0.6614275785024786, 0.5924871052131113, 0.9430368775164826, 0.18250584795767666, 0.7486447458056003, 0.7974937659534509, 0.06475356946299082, 0.7494492608695349, 0.3478734811203479, 0.08439637115486609, 0.35095530975725, 0.12245403077887107, 0.6650588499489729, 0.6883527872280475, 0.42224567350084374, 0.8944470131998394, 0.4756993990008913, 0.7201573811688573, 0.5404852726216103, 0.5907955676438228, 0.8181174247236331, 0.2101890541009066, 0.9999896020874111, 0.5032897159810519, 0.4259593076862027, 0.5844338619337233, 0.48445771366587076, 0.21833326746103987, 0.9794734431002401, 0.9054787446180714, 0.1164359964079269, 0.09844374518000798, 0.8181398867321732, 0.3729328728825929, 0.7886348338514071, 0.7170907211827322, 0.5097586497291138, 0.13746399607419302, 0.08955792981891442, 0.7123549863815994, 0.5130756754730239, 0.8860144369170828, 0.6931009178103762, 0.36176677935091606, 0.2338482354113458, 0.18132889797053275, 0.5956475299556185, 0.5525715984655157, 0.33600739926155887, 0.2104592836957102, 0.41246432358844354, 0.44959910416309845])\u001b[39m\n",
      "\u001b[90m│  \u001b[39m       (@_2 = Base.iterate(%2))\n",
      "\u001b[90m│  \u001b[39m %4  = (@_2 === nothing)\u001b[36m::Bool\u001b[39m\n",
      "\u001b[90m│  \u001b[39m %5  = Base.not_int(%4)\u001b[36m::Bool\u001b[39m\n",
      "\u001b[90m└──\u001b[39m       goto #4 if not %5\n",
      "\u001b[90m2 ┄\u001b[39m %7  = @_2::Tuple{Float64, Int64}\u001b[36m::Tuple{Float64, Int64}\u001b[39m\n",
      "\u001b[90m│  \u001b[39m       (i = Core.getfield(%7, 1))\n",
      "\u001b[90m│  \u001b[39m %9  = Core.getfield(%7, 2)\u001b[36m::Int64\u001b[39m\n",
      "\u001b[90m│  \u001b[39m       (s = s + i)\n",
      "\u001b[90m│  \u001b[39m       (@_2 = Base.iterate(%2, %9))\n",
      "\u001b[90m│  \u001b[39m %12 = (@_2 === nothing)\u001b[36m::Bool\u001b[39m\n",
      "\u001b[90m│  \u001b[39m %13 = Base.not_int(%12)\u001b[36m::Bool\u001b[39m\n",
      "\u001b[90m└──\u001b[39m       goto #4 if not %13\n",
      "\u001b[90m3 ─\u001b[39m       goto #2\n",
      "\u001b[90m4 ┄\u001b[39m       return s\n"
     ]
    }
   ],
   "source": [
    "@code_warntype sum_const_global()"
   ]
  },
  {
   "cell_type": "markdown",
   "metadata": {},
   "source": [
    "# 3. Deixar tudo imutável se possível"
   ]
  },
  {
   "cell_type": "code",
   "execution_count": null,
   "metadata": {},
   "outputs": [],
   "source": []
  },
  {
   "cell_type": "code",
   "execution_count": null,
   "metadata": {},
   "outputs": [],
   "source": []
  },
  {
   "cell_type": "code",
   "execution_count": null,
   "metadata": {},
   "outputs": [],
   "source": []
  },
  {
   "cell_type": "code",
   "execution_count": null,
   "metadata": {},
   "outputs": [],
   "source": []
  },
  {
   "cell_type": "markdown",
   "metadata": {},
   "source": [
    "3. Deixar tudo imutável se possível\n",
    "4. Desativar checagem de índice em operações com `Array`\n",
    "5. Ativar suporte SIMD em todos os loops `for` (Single Instruction Multiple Data)"
   ]
  }
 ],
 "metadata": {
  "kernelspec": {
   "display_name": "Julia 1.6.3",
   "language": "julia",
   "name": "julia-1.6"
  },
  "language_info": {
   "file_extension": ".jl",
   "mimetype": "application/julia",
   "name": "julia",
   "version": "1.6.3"
  },
  "orig_nbformat": 4
 },
 "nbformat": 4,
 "nbformat_minor": 2
}
