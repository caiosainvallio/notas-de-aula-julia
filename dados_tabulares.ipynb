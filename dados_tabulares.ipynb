{
 "cells": [
  {
   "cell_type": "markdown",
   "metadata": {},
   "source": [
    "# Dados Tabulares com `DataFrames.jl`"
   ]
  },
  {
   "cell_type": "code",
   "execution_count": 2,
   "metadata": {},
   "outputs": [],
   "source": [
    "using Pkg\n",
    "using BenchmarkTools\n",
    "using CSV\n",
    "using CategoricalArrays\n",
    "using DataFrames\n",
    "using XLSX\n",
    "using Statistics: mean, std, cor\n",
    "using Downloads: download"
   ]
  },
  {
   "cell_type": "code",
   "execution_count": 3,
   "metadata": {},
   "outputs": [
    {
     "data": {
      "text/html": [
       "<div class=\"data-frame\"><p>5 rows × 5 columns</p><table class=\"data-frame\"><thead><tr><th></th><th>x_1</th><th>x_2</th><th>x_3</th><th>y_a</th><th>y_b</th></tr><tr><th></th><th title=\"Float64\">Float64</th><th title=\"Float64\">Float64</th><th title=\"Float64\">Float64</th><th title=\"Float64\">Float64</th><th title=\"Float64\">Float64</th></tr></thead><tbody><tr><th>1</th><td>0.58738</td><td>0.596524</td><td>0.251127</td><td>0.705915</td><td>0.618689</td></tr><tr><th>2</th><td>0.708135</td><td>0.995928</td><td>0.0600837</td><td>0.559235</td><td>0.860796</td></tr><tr><th>3</th><td>0.0413412</td><td>0.87194</td><td>0.93334</td><td>0.271217</td><td>0.405933</td></tr><tr><th>4</th><td>0.586104</td><td>0.0555631</td><td>0.195194</td><td>0.538403</td><td>0.846</td></tr><tr><th>5</th><td>0.573897</td><td>0.993305</td><td>0.666398</td><td>0.353688</td><td>0.50758</td></tr></tbody></table></div>"
      ],
      "text/latex": [
       "\\begin{tabular}{r|ccccc}\n",
       "\t& x\\_1 & x\\_2 & x\\_3 & y\\_a & y\\_b\\\\\n",
       "\t\\hline\n",
       "\t& Float64 & Float64 & Float64 & Float64 & Float64\\\\\n",
       "\t\\hline\n",
       "\t1 & 0.58738 & 0.596524 & 0.251127 & 0.705915 & 0.618689 \\\\\n",
       "\t2 & 0.708135 & 0.995928 & 0.0600837 & 0.559235 & 0.860796 \\\\\n",
       "\t3 & 0.0413412 & 0.87194 & 0.93334 & 0.271217 & 0.405933 \\\\\n",
       "\t4 & 0.586104 & 0.0555631 & 0.195194 & 0.538403 & 0.846 \\\\\n",
       "\t5 & 0.573897 & 0.993305 & 0.666398 & 0.353688 & 0.50758 \\\\\n",
       "\\end{tabular}\n"
      ],
      "text/plain": [
       "\u001b[1m5×5 DataFrame\u001b[0m\n",
       "\u001b[1m Row \u001b[0m│\u001b[1m x_1       \u001b[0m\u001b[1m x_2       \u001b[0m\u001b[1m x_3       \u001b[0m\u001b[1m y_a      \u001b[0m\u001b[1m y_b      \u001b[0m\n",
       "\u001b[1m     \u001b[0m│\u001b[90m Float64   \u001b[0m\u001b[90m Float64   \u001b[0m\u001b[90m Float64   \u001b[0m\u001b[90m Float64  \u001b[0m\u001b[90m Float64  \u001b[0m\n",
       "─────┼─────────────────────────────────────────────────────\n",
       "   1 │ 0.58738    0.596524   0.251127   0.705915  0.618689\n",
       "   2 │ 0.708135   0.995928   0.0600837  0.559235  0.860796\n",
       "   3 │ 0.0413412  0.87194    0.93334    0.271217  0.405933\n",
       "   4 │ 0.586104   0.0555631  0.195194   0.538403  0.846\n",
       "   5 │ 0.573897   0.993305   0.666398   0.353688  0.50758"
      ]
     },
     "execution_count": 3,
     "metadata": {},
     "output_type": "execute_result"
    }
   ],
   "source": [
    "df_1 = DataFrame(x_1=rand(5), x_2=rand(5), x_3=rand(5), y_a=rand(5), y_b=rand(5))"
   ]
  },
  {
   "cell_type": "code",
   "execution_count": 4,
   "metadata": {},
   "outputs": [
    {
     "data": {
      "text/plain": [
       "DataFrame"
      ]
     },
     "execution_count": 4,
     "metadata": {},
     "output_type": "execute_result"
    }
   ],
   "source": [
    "typeof(df_1)"
   ]
  },
  {
   "cell_type": "markdown",
   "metadata": {},
   "source": [
    "# Informações de um DataFrame\n",
    "\n",
    "* `size(df)`: tupla das dimensões (similar ao `df.shape` de Python)\n",
    "\n",
    "* `nrow(df)` e `ncol(df)`: número de linhas e número de colunas\n",
    "\n",
    "* `first(df, 5)` e `last(df, 5)`: 5 primeiras ou últimas linhas com o header\n",
    "\n",
    "* `describe(df)`: similar ao `df.describe()` de Pandas\n",
    "\n",
    "* `names(df)`: vetor de colunas como `String`s\n",
    "\n",
    "* `propertynames(df)`: vetor de colunas como `Symbol`s\n",
    "\n",
    "* `hasproperty(df, :x1)`: retorna um `Bool` se a coluna `x1` ∈ `df` \n",
    "\n",
    "* `columnindex(df, :x2)`: returna o `index` da coluna `x2` ∈ `df`\n",
    "\n",
    "* `colwise(sum, df)`: operações _column-wise_\n",
    "\n",
    "* `df2 = copy(df)`: copia um DataFrame"
   ]
  },
  {
   "cell_type": "code",
   "execution_count": 5,
   "metadata": {},
   "outputs": [
    {
     "data": {
      "text/plain": [
       "(5, 5)"
      ]
     },
     "execution_count": 5,
     "metadata": {},
     "output_type": "execute_result"
    }
   ],
   "source": [
    "size(df_1)"
   ]
  },
  {
   "cell_type": "code",
   "execution_count": 6,
   "metadata": {},
   "outputs": [
    {
     "data": {
      "text/html": [
       "<div class=\"data-frame\"><p>3 rows × 5 columns</p><table class=\"data-frame\"><thead><tr><th></th><th>x_1</th><th>x_2</th><th>x_3</th><th>y_a</th><th>y_b</th></tr><tr><th></th><th title=\"Float64\">Float64</th><th title=\"Float64\">Float64</th><th title=\"Float64\">Float64</th><th title=\"Float64\">Float64</th><th title=\"Float64\">Float64</th></tr></thead><tbody><tr><th>1</th><td>0.58738</td><td>0.596524</td><td>0.251127</td><td>0.705915</td><td>0.618689</td></tr><tr><th>2</th><td>0.708135</td><td>0.995928</td><td>0.0600837</td><td>0.559235</td><td>0.860796</td></tr><tr><th>3</th><td>0.0413412</td><td>0.87194</td><td>0.93334</td><td>0.271217</td><td>0.405933</td></tr></tbody></table></div>"
      ],
      "text/latex": [
       "\\begin{tabular}{r|ccccc}\n",
       "\t& x\\_1 & x\\_2 & x\\_3 & y\\_a & y\\_b\\\\\n",
       "\t\\hline\n",
       "\t& Float64 & Float64 & Float64 & Float64 & Float64\\\\\n",
       "\t\\hline\n",
       "\t1 & 0.58738 & 0.596524 & 0.251127 & 0.705915 & 0.618689 \\\\\n",
       "\t2 & 0.708135 & 0.995928 & 0.0600837 & 0.559235 & 0.860796 \\\\\n",
       "\t3 & 0.0413412 & 0.87194 & 0.93334 & 0.271217 & 0.405933 \\\\\n",
       "\\end{tabular}\n"
      ],
      "text/plain": [
       "\u001b[1m3×5 DataFrame\u001b[0m\n",
       "\u001b[1m Row \u001b[0m│\u001b[1m x_1       \u001b[0m\u001b[1m x_2      \u001b[0m\u001b[1m x_3       \u001b[0m\u001b[1m y_a      \u001b[0m\u001b[1m y_b      \u001b[0m\n",
       "\u001b[1m     \u001b[0m│\u001b[90m Float64   \u001b[0m\u001b[90m Float64  \u001b[0m\u001b[90m Float64   \u001b[0m\u001b[90m Float64  \u001b[0m\u001b[90m Float64  \u001b[0m\n",
       "─────┼────────────────────────────────────────────────────\n",
       "   1 │ 0.58738    0.596524  0.251127   0.705915  0.618689\n",
       "   2 │ 0.708135   0.995928  0.0600837  0.559235  0.860796\n",
       "   3 │ 0.0413412  0.87194   0.93334    0.271217  0.405933"
      ]
     },
     "execution_count": 6,
     "metadata": {},
     "output_type": "execute_result"
    }
   ],
   "source": [
    "first(df_1, 3)"
   ]
  },
  {
   "cell_type": "code",
   "execution_count": 7,
   "metadata": {},
   "outputs": [
    {
     "data": {
      "text/plain": [
       "5"
      ]
     },
     "execution_count": 7,
     "metadata": {},
     "output_type": "execute_result"
    }
   ],
   "source": [
    "ncol(df_1)"
   ]
  },
  {
   "cell_type": "code",
   "execution_count": 8,
   "metadata": {},
   "outputs": [
    {
     "data": {
      "text/plain": [
       "5-element Vector{String}:\n",
       " \"x_1\"\n",
       " \"x_2\"\n",
       " \"x_3\"\n",
       " \"y_a\"\n",
       " \"y_b\""
      ]
     },
     "execution_count": 8,
     "metadata": {},
     "output_type": "execute_result"
    }
   ],
   "source": [
    "names(df_1)"
   ]
  },
  {
   "cell_type": "markdown",
   "metadata": {},
   "source": [
    "> Converter para Matrix"
   ]
  },
  {
   "cell_type": "code",
   "execution_count": 9,
   "metadata": {},
   "outputs": [
    {
     "data": {
      "text/plain": [
       "5×5 Matrix{Float64}:\n",
       " 0.58738    0.596524   0.251127   0.705915  0.618689\n",
       " 0.708135   0.995928   0.0600837  0.559235  0.860796\n",
       " 0.0413412  0.87194    0.93334    0.271217  0.405933\n",
       " 0.586104   0.0555631  0.195194   0.538403  0.846\n",
       " 0.573897   0.993305   0.666398   0.353688  0.50758"
      ]
     },
     "execution_count": 9,
     "metadata": {},
     "output_type": "execute_result"
    }
   ],
   "source": [
    "Matrix(df_1)"
   ]
  },
  {
   "cell_type": "markdown",
   "metadata": {},
   "source": [
    "# Estatísticas descritivas com `describe`\n",
    "\n",
    "> Por padrão `describe(df)` é `describe(df, :mean, :min, :median, :max, :nmissing, :eltype)`"
   ]
  },
  {
   "cell_type": "code",
   "execution_count": 10,
   "metadata": {},
   "outputs": [
    {
     "data": {
      "text/html": [
       "<div class=\"data-frame\"><p>5 rows × 7 columns</p><table class=\"data-frame\"><thead><tr><th></th><th>variable</th><th>mean</th><th>min</th><th>median</th><th>max</th><th>nmissing</th><th>eltype</th></tr><tr><th></th><th title=\"Symbol\">Symbol</th><th title=\"Float64\">Float64</th><th title=\"Float64\">Float64</th><th title=\"Float64\">Float64</th><th title=\"Float64\">Float64</th><th title=\"Int64\">Int64</th><th title=\"DataType\">DataType</th></tr></thead><tbody><tr><th>1</th><td>x_1</td><td>0.499371</td><td>0.0413412</td><td>0.586104</td><td>0.708135</td><td>0</td><td>Float64</td></tr><tr><th>2</th><td>x_2</td><td>0.702652</td><td>0.0555631</td><td>0.87194</td><td>0.995928</td><td>0</td><td>Float64</td></tr><tr><th>3</th><td>x_3</td><td>0.421228</td><td>0.0600837</td><td>0.251127</td><td>0.93334</td><td>0</td><td>Float64</td></tr><tr><th>4</th><td>y_a</td><td>0.485692</td><td>0.271217</td><td>0.538403</td><td>0.705915</td><td>0</td><td>Float64</td></tr><tr><th>5</th><td>y_b</td><td>0.6478</td><td>0.405933</td><td>0.618689</td><td>0.860796</td><td>0</td><td>Float64</td></tr></tbody></table></div>"
      ],
      "text/latex": [
       "\\begin{tabular}{r|ccccccc}\n",
       "\t& variable & mean & min & median & max & nmissing & eltype\\\\\n",
       "\t\\hline\n",
       "\t& Symbol & Float64 & Float64 & Float64 & Float64 & Int64 & DataType\\\\\n",
       "\t\\hline\n",
       "\t1 & x\\_1 & 0.499371 & 0.0413412 & 0.586104 & 0.708135 & 0 & Float64 \\\\\n",
       "\t2 & x\\_2 & 0.702652 & 0.0555631 & 0.87194 & 0.995928 & 0 & Float64 \\\\\n",
       "\t3 & x\\_3 & 0.421228 & 0.0600837 & 0.251127 & 0.93334 & 0 & Float64 \\\\\n",
       "\t4 & y\\_a & 0.485692 & 0.271217 & 0.538403 & 0.705915 & 0 & Float64 \\\\\n",
       "\t5 & y\\_b & 0.6478 & 0.405933 & 0.618689 & 0.860796 & 0 & Float64 \\\\\n",
       "\\end{tabular}\n"
      ],
      "text/plain": [
       "\u001b[1m5×7 DataFrame\u001b[0m\n",
       "\u001b[1m Row \u001b[0m│\u001b[1m variable \u001b[0m\u001b[1m mean     \u001b[0m\u001b[1m min       \u001b[0m\u001b[1m median   \u001b[0m\u001b[1m max      \u001b[0m\u001b[1m nmissing \u001b[0m\u001b[1m eltype   \u001b[0m\n",
       "\u001b[1m     \u001b[0m│\u001b[90m Symbol   \u001b[0m\u001b[90m Float64  \u001b[0m\u001b[90m Float64   \u001b[0m\u001b[90m Float64  \u001b[0m\u001b[90m Float64  \u001b[0m\u001b[90m Int64    \u001b[0m\u001b[90m DataType \u001b[0m\n",
       "─────┼───────────────────────────────────────────────────────────────────────\n",
       "   1 │ x_1       0.499371  0.0413412  0.586104  0.708135         0  Float64\n",
       "   2 │ x_2       0.702652  0.0555631  0.87194   0.995928         0  Float64\n",
       "   3 │ x_3       0.421228  0.0600837  0.251127  0.93334          0  Float64\n",
       "   4 │ y_a       0.485692  0.271217   0.538403  0.705915         0  Float64\n",
       "   5 │ y_b       0.6478    0.405933   0.618689  0.860796         0  Float64"
      ]
     },
     "execution_count": 10,
     "metadata": {},
     "output_type": "execute_result"
    }
   ],
   "source": [
    "describe(df_1)"
   ]
  },
  {
   "cell_type": "markdown",
   "metadata": {},
   "source": [
    "Mas você pode escolher o que você quiser:\n",
    "\n",
    "* `:mean:` média\n",
    "\n",
    "* `:std:` desvio padrão\n",
    "\n",
    "* `:min:` mínimo\n",
    "\n",
    "* `:q25:` quartil 25\n",
    "\n",
    "* `:median:` mediana\n",
    "\n",
    "* `:q75:` quartil 75\n",
    "\n",
    "* `:max:` máximo\n",
    "\n",
    "* `:nunique:` número de valores únicos\n",
    "\n",
    "* `:nmissing:` número de valores faltantes\n",
    "\n",
    "* `:first:` primeiro valor\n",
    "\n",
    "* `:last:` último valor\n",
    "\n",
    "* `:eltype:` tipo de elemento (e.g. `Float64`, `Int64`, `String`)"
   ]
  },
  {
   "cell_type": "code",
   "execution_count": 11,
   "metadata": {},
   "outputs": [
    {
     "data": {
      "text/html": [
       "<div class=\"data-frame\"><p>5 rows × 4 columns</p><table class=\"data-frame\"><thead><tr><th></th><th>variable</th><th>mean</th><th>median</th><th>std</th></tr><tr><th></th><th title=\"Symbol\">Symbol</th><th title=\"Float64\">Float64</th><th title=\"Float64\">Float64</th><th title=\"Float64\">Float64</th></tr></thead><tbody><tr><th>1</th><td>x_1</td><td>0.499371</td><td>0.586104</td><td>0.261819</td></tr><tr><th>2</th><td>x_2</td><td>0.702652</td><td>0.87194</td><td>0.39659</td></tr><tr><th>3</th><td>x_3</td><td>0.421228</td><td>0.251127</td><td>0.364972</td></tr><tr><th>4</th><td>y_a</td><td>0.485692</td><td>0.538403</td><td>0.173284</td></tr><tr><th>5</th><td>y_b</td><td>0.6478</td><td>0.618689</td><td>0.202274</td></tr></tbody></table></div>"
      ],
      "text/latex": [
       "\\begin{tabular}{r|cccc}\n",
       "\t& variable & mean & median & std\\\\\n",
       "\t\\hline\n",
       "\t& Symbol & Float64 & Float64 & Float64\\\\\n",
       "\t\\hline\n",
       "\t1 & x\\_1 & 0.499371 & 0.586104 & 0.261819 \\\\\n",
       "\t2 & x\\_2 & 0.702652 & 0.87194 & 0.39659 \\\\\n",
       "\t3 & x\\_3 & 0.421228 & 0.251127 & 0.364972 \\\\\n",
       "\t4 & y\\_a & 0.485692 & 0.538403 & 0.173284 \\\\\n",
       "\t5 & y\\_b & 0.6478 & 0.618689 & 0.202274 \\\\\n",
       "\\end{tabular}\n"
      ],
      "text/plain": [
       "\u001b[1m5×4 DataFrame\u001b[0m\n",
       "\u001b[1m Row \u001b[0m│\u001b[1m variable \u001b[0m\u001b[1m mean     \u001b[0m\u001b[1m median   \u001b[0m\u001b[1m std      \u001b[0m\n",
       "\u001b[1m     \u001b[0m│\u001b[90m Symbol   \u001b[0m\u001b[90m Float64  \u001b[0m\u001b[90m Float64  \u001b[0m\u001b[90m Float64  \u001b[0m\n",
       "─────┼────────────────────────────────────────\n",
       "   1 │ x_1       0.499371  0.586104  0.261819\n",
       "   2 │ x_2       0.702652  0.87194   0.39659\n",
       "   3 │ x_3       0.421228  0.251127  0.364972\n",
       "   4 │ y_a       0.485692  0.538403  0.173284\n",
       "   5 │ y_b       0.6478    0.618689  0.202274"
      ]
     },
     "execution_count": 11,
     "metadata": {},
     "output_type": "execute_result"
    }
   ],
   "source": [
    "describe(df_1, :mean, :median, :std)"
   ]
  },
  {
   "cell_type": "markdown",
   "metadata": {},
   "source": [
    "Pode até inventar a sua propria função de sumarização"
   ]
  },
  {
   "cell_type": "code",
   "execution_count": 20,
   "metadata": {},
   "outputs": [
    {
     "data": {
      "text/plain": [
       "ic_inf (generic function with 1 method)"
      ]
     },
     "execution_count": 20,
     "metadata": {},
     "output_type": "execute_result"
    }
   ],
   "source": [
    "ic_sup(x) = mean(x) + 1.96 * std(x)\n",
    "ic_inf(x) = mean(x) - 1.96 * std(x)"
   ]
  },
  {
   "cell_type": "code",
   "execution_count": 21,
   "metadata": {},
   "outputs": [
    {
     "data": {
      "text/html": [
       "<div class=\"data-frame\"><p>5 rows × 4 columns</p><table class=\"data-frame\"><thead><tr><th></th><th>variable</th><th>mean</th><th>ic_inf</th><th>ic_sup</th></tr><tr><th></th><th title=\"Symbol\">Symbol</th><th title=\"Float64\">Float64</th><th title=\"Float64\">Float64</th><th title=\"Float64\">Float64</th></tr></thead><tbody><tr><th>1</th><td>x_1</td><td>0.499371</td><td>-0.0137931</td><td>1.01254</td></tr><tr><th>2</th><td>x_2</td><td>0.702652</td><td>-0.0746652</td><td>1.47997</td></tr><tr><th>3</th><td>x_3</td><td>0.421228</td><td>-0.294117</td><td>1.13657</td></tr><tr><th>4</th><td>y_a</td><td>0.485692</td><td>0.146055</td><td>0.825329</td></tr><tr><th>5</th><td>y_b</td><td>0.6478</td><td>0.251342</td><td>1.04426</td></tr></tbody></table></div>"
      ],
      "text/latex": [
       "\\begin{tabular}{r|cccc}\n",
       "\t& variable & mean & ic\\_inf & ic\\_sup\\\\\n",
       "\t\\hline\n",
       "\t& Symbol & Float64 & Float64 & Float64\\\\\n",
       "\t\\hline\n",
       "\t1 & x\\_1 & 0.499371 & -0.0137931 & 1.01254 \\\\\n",
       "\t2 & x\\_2 & 0.702652 & -0.0746652 & 1.47997 \\\\\n",
       "\t3 & x\\_3 & 0.421228 & -0.294117 & 1.13657 \\\\\n",
       "\t4 & y\\_a & 0.485692 & 0.146055 & 0.825329 \\\\\n",
       "\t5 & y\\_b & 0.6478 & 0.251342 & 1.04426 \\\\\n",
       "\\end{tabular}\n"
      ],
      "text/plain": [
       "\u001b[1m5×4 DataFrame\u001b[0m\n",
       "\u001b[1m Row \u001b[0m│\u001b[1m variable \u001b[0m\u001b[1m mean     \u001b[0m\u001b[1m ic_inf     \u001b[0m\u001b[1m ic_sup   \u001b[0m\n",
       "\u001b[1m     \u001b[0m│\u001b[90m Symbol   \u001b[0m\u001b[90m Float64  \u001b[0m\u001b[90m Float64    \u001b[0m\u001b[90m Float64  \u001b[0m\n",
       "─────┼──────────────────────────────────────────\n",
       "   1 │ x_1       0.499371  -0.0137931  1.01254\n",
       "   2 │ x_2       0.702652  -0.0746652  1.47997\n",
       "   3 │ x_3       0.421228  -0.294117   1.13657\n",
       "   4 │ y_a       0.485692   0.146055   0.825329\n",
       "   5 │ y_b       0.6478     0.251342   1.04426"
      ]
     },
     "execution_count": 21,
     "metadata": {},
     "output_type": "execute_result"
    }
   ],
   "source": [
    "describe(df_1, :mean, ic_inf => :ic_inf, ic_sup => :ic_sup)"
   ]
  },
  {
   "cell_type": "markdown",
   "metadata": {},
   "source": [
    "# Input/Output (IO)\n",
    "\n",
    "* `CSV.jl`: para ler qualquer arquivo delimitado – `.csv`, `.tsv` etc.\n",
    "\n",
    "* `XLSX.jl`: para ler arquivos Excel `.xslx` e `.xls`.\n",
    "\n",
    "* `JSONTables.jl`: para ler arquivos JSON `.json`.\n",
    "\n",
    "* `Arrow.jl`: formato Apache Arrow para Big Data (que não cabe na RAM).\n",
    "\n",
    "* `JuliaDB.jl`: leitura e manipulação de Big Data (que não cabe na RAM).\n",
    "\n",
    "* __Banco de Dados__: Julia também trabalha bem com banco de dados. Veja [juliadatabases.org](https://juliadatabases.org/)"
   ]
  },
  {
   "cell_type": "code",
   "execution_count": null,
   "metadata": {},
   "outputs": [],
   "source": []
  }
 ],
 "metadata": {
  "kernelspec": {
   "display_name": "Julia 1.6.3",
   "language": "julia",
   "name": "julia-1.6"
  },
  "language_info": {
   "file_extension": ".jl",
   "mimetype": "application/julia",
   "name": "julia",
   "version": "1.6.3"
  },
  "orig_nbformat": 4
 },
 "nbformat": 4,
 "nbformat_minor": 2
}
